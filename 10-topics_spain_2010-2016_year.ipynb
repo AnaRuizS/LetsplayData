{
 "cells": [
  {
   "cell_type": "markdown",
   "metadata": {},
   "source": [
    "# Exhibitions"
   ]
  },
  {
   "cell_type": "code",
   "execution_count": 1,
   "metadata": {},
   "outputs": [],
   "source": [
    "import os\n",
    "from collections import Counter, defaultdict\n",
    "from pprint import pprint\n",
    "from string import punctuation\n",
    "\n",
    "import nltk\n",
    "import numpy as np\n",
    "import pandas as pd\n",
    "from gensim import corpora, models\n",
    "from nltk import word_tokenize\n",
    "from nltk.corpus import stopwords\n",
    "from scipy import spatial"
   ]
  },
  {
   "cell_type": "markdown",
   "metadata": {},
   "source": [
    "## Loading data"
   ]
  },
  {
   "cell_type": "code",
   "execution_count": 2,
   "metadata": {},
   "outputs": [
    {
     "ename": "FileNotFoundError",
     "evalue": "File b'data/out/sp_cleaned_exhibitions.csv' does not exist",
     "output_type": "error",
     "traceback": [
      "\u001b[0;31m---------------------------------------------------------------------------\u001b[0m",
      "\u001b[0;31mFileNotFoundError\u001b[0m                         Traceback (most recent call last)",
      "\u001b[0;32m<timed exec>\u001b[0m in \u001b[0;36m<module>\u001b[0;34m()\u001b[0m\n",
      "\u001b[0;32m~/.virtualenvs/LetsPlayData/lib/python3.5/site-packages/pandas/io/parsers.py\u001b[0m in \u001b[0;36mparser_f\u001b[0;34m(filepath_or_buffer, sep, delimiter, header, names, index_col, usecols, squeeze, prefix, mangle_dupe_cols, dtype, engine, converters, true_values, false_values, skipinitialspace, skiprows, nrows, na_values, keep_default_na, na_filter, verbose, skip_blank_lines, parse_dates, infer_datetime_format, keep_date_col, date_parser, dayfirst, iterator, chunksize, compression, thousands, decimal, lineterminator, quotechar, quoting, escapechar, comment, encoding, dialect, tupleize_cols, error_bad_lines, warn_bad_lines, skipfooter, skip_footer, doublequote, delim_whitespace, as_recarray, compact_ints, use_unsigned, low_memory, buffer_lines, memory_map, float_precision)\u001b[0m\n\u001b[1;32m    707\u001b[0m                     skip_blank_lines=skip_blank_lines)\n\u001b[1;32m    708\u001b[0m \u001b[0;34m\u001b[0m\u001b[0m\n\u001b[0;32m--> 709\u001b[0;31m         \u001b[0;32mreturn\u001b[0m \u001b[0m_read\u001b[0m\u001b[0;34m(\u001b[0m\u001b[0mfilepath_or_buffer\u001b[0m\u001b[0;34m,\u001b[0m \u001b[0mkwds\u001b[0m\u001b[0;34m)\u001b[0m\u001b[0;34m\u001b[0m\u001b[0m\n\u001b[0m\u001b[1;32m    710\u001b[0m \u001b[0;34m\u001b[0m\u001b[0m\n\u001b[1;32m    711\u001b[0m     \u001b[0mparser_f\u001b[0m\u001b[0;34m.\u001b[0m\u001b[0m__name__\u001b[0m \u001b[0;34m=\u001b[0m \u001b[0mname\u001b[0m\u001b[0;34m\u001b[0m\u001b[0m\n",
      "\u001b[0;32m~/.virtualenvs/LetsPlayData/lib/python3.5/site-packages/pandas/io/parsers.py\u001b[0m in \u001b[0;36m_read\u001b[0;34m(filepath_or_buffer, kwds)\u001b[0m\n\u001b[1;32m    447\u001b[0m \u001b[0;34m\u001b[0m\u001b[0m\n\u001b[1;32m    448\u001b[0m     \u001b[0;31m# Create the parser.\u001b[0m\u001b[0;34m\u001b[0m\u001b[0;34m\u001b[0m\u001b[0m\n\u001b[0;32m--> 449\u001b[0;31m     \u001b[0mparser\u001b[0m \u001b[0;34m=\u001b[0m \u001b[0mTextFileReader\u001b[0m\u001b[0;34m(\u001b[0m\u001b[0mfilepath_or_buffer\u001b[0m\u001b[0;34m,\u001b[0m \u001b[0;34m**\u001b[0m\u001b[0mkwds\u001b[0m\u001b[0;34m)\u001b[0m\u001b[0;34m\u001b[0m\u001b[0m\n\u001b[0m\u001b[1;32m    450\u001b[0m \u001b[0;34m\u001b[0m\u001b[0m\n\u001b[1;32m    451\u001b[0m     \u001b[0;32mif\u001b[0m \u001b[0mchunksize\u001b[0m \u001b[0;32mor\u001b[0m \u001b[0miterator\u001b[0m\u001b[0;34m:\u001b[0m\u001b[0;34m\u001b[0m\u001b[0m\n",
      "\u001b[0;32m~/.virtualenvs/LetsPlayData/lib/python3.5/site-packages/pandas/io/parsers.py\u001b[0m in \u001b[0;36m__init__\u001b[0;34m(self, f, engine, **kwds)\u001b[0m\n\u001b[1;32m    816\u001b[0m             \u001b[0mself\u001b[0m\u001b[0;34m.\u001b[0m\u001b[0moptions\u001b[0m\u001b[0;34m[\u001b[0m\u001b[0;34m'has_index_names'\u001b[0m\u001b[0;34m]\u001b[0m \u001b[0;34m=\u001b[0m \u001b[0mkwds\u001b[0m\u001b[0;34m[\u001b[0m\u001b[0;34m'has_index_names'\u001b[0m\u001b[0;34m]\u001b[0m\u001b[0;34m\u001b[0m\u001b[0m\n\u001b[1;32m    817\u001b[0m \u001b[0;34m\u001b[0m\u001b[0m\n\u001b[0;32m--> 818\u001b[0;31m         \u001b[0mself\u001b[0m\u001b[0;34m.\u001b[0m\u001b[0m_make_engine\u001b[0m\u001b[0;34m(\u001b[0m\u001b[0mself\u001b[0m\u001b[0;34m.\u001b[0m\u001b[0mengine\u001b[0m\u001b[0;34m)\u001b[0m\u001b[0;34m\u001b[0m\u001b[0m\n\u001b[0m\u001b[1;32m    819\u001b[0m \u001b[0;34m\u001b[0m\u001b[0m\n\u001b[1;32m    820\u001b[0m     \u001b[0;32mdef\u001b[0m \u001b[0mclose\u001b[0m\u001b[0;34m(\u001b[0m\u001b[0mself\u001b[0m\u001b[0;34m)\u001b[0m\u001b[0;34m:\u001b[0m\u001b[0;34m\u001b[0m\u001b[0m\n",
      "\u001b[0;32m~/.virtualenvs/LetsPlayData/lib/python3.5/site-packages/pandas/io/parsers.py\u001b[0m in \u001b[0;36m_make_engine\u001b[0;34m(self, engine)\u001b[0m\n\u001b[1;32m   1047\u001b[0m     \u001b[0;32mdef\u001b[0m \u001b[0m_make_engine\u001b[0m\u001b[0;34m(\u001b[0m\u001b[0mself\u001b[0m\u001b[0;34m,\u001b[0m \u001b[0mengine\u001b[0m\u001b[0;34m=\u001b[0m\u001b[0;34m'c'\u001b[0m\u001b[0;34m)\u001b[0m\u001b[0;34m:\u001b[0m\u001b[0;34m\u001b[0m\u001b[0m\n\u001b[1;32m   1048\u001b[0m         \u001b[0;32mif\u001b[0m \u001b[0mengine\u001b[0m \u001b[0;34m==\u001b[0m \u001b[0;34m'c'\u001b[0m\u001b[0;34m:\u001b[0m\u001b[0;34m\u001b[0m\u001b[0m\n\u001b[0;32m-> 1049\u001b[0;31m             \u001b[0mself\u001b[0m\u001b[0;34m.\u001b[0m\u001b[0m_engine\u001b[0m \u001b[0;34m=\u001b[0m \u001b[0mCParserWrapper\u001b[0m\u001b[0;34m(\u001b[0m\u001b[0mself\u001b[0m\u001b[0;34m.\u001b[0m\u001b[0mf\u001b[0m\u001b[0;34m,\u001b[0m \u001b[0;34m**\u001b[0m\u001b[0mself\u001b[0m\u001b[0;34m.\u001b[0m\u001b[0moptions\u001b[0m\u001b[0;34m)\u001b[0m\u001b[0;34m\u001b[0m\u001b[0m\n\u001b[0m\u001b[1;32m   1050\u001b[0m         \u001b[0;32melse\u001b[0m\u001b[0;34m:\u001b[0m\u001b[0;34m\u001b[0m\u001b[0m\n\u001b[1;32m   1051\u001b[0m             \u001b[0;32mif\u001b[0m \u001b[0mengine\u001b[0m \u001b[0;34m==\u001b[0m \u001b[0;34m'python'\u001b[0m\u001b[0;34m:\u001b[0m\u001b[0;34m\u001b[0m\u001b[0m\n",
      "\u001b[0;32m~/.virtualenvs/LetsPlayData/lib/python3.5/site-packages/pandas/io/parsers.py\u001b[0m in \u001b[0;36m__init__\u001b[0;34m(self, src, **kwds)\u001b[0m\n\u001b[1;32m   1693\u001b[0m         \u001b[0mkwds\u001b[0m\u001b[0;34m[\u001b[0m\u001b[0;34m'allow_leading_cols'\u001b[0m\u001b[0;34m]\u001b[0m \u001b[0;34m=\u001b[0m \u001b[0mself\u001b[0m\u001b[0;34m.\u001b[0m\u001b[0mindex_col\u001b[0m \u001b[0;32mis\u001b[0m \u001b[0;32mnot\u001b[0m \u001b[0;32mFalse\u001b[0m\u001b[0;34m\u001b[0m\u001b[0m\n\u001b[1;32m   1694\u001b[0m \u001b[0;34m\u001b[0m\u001b[0m\n\u001b[0;32m-> 1695\u001b[0;31m         \u001b[0mself\u001b[0m\u001b[0;34m.\u001b[0m\u001b[0m_reader\u001b[0m \u001b[0;34m=\u001b[0m \u001b[0mparsers\u001b[0m\u001b[0;34m.\u001b[0m\u001b[0mTextReader\u001b[0m\u001b[0;34m(\u001b[0m\u001b[0msrc\u001b[0m\u001b[0;34m,\u001b[0m \u001b[0;34m**\u001b[0m\u001b[0mkwds\u001b[0m\u001b[0;34m)\u001b[0m\u001b[0;34m\u001b[0m\u001b[0m\n\u001b[0m\u001b[1;32m   1696\u001b[0m \u001b[0;34m\u001b[0m\u001b[0m\n\u001b[1;32m   1697\u001b[0m         \u001b[0;31m# XXX\u001b[0m\u001b[0;34m\u001b[0m\u001b[0;34m\u001b[0m\u001b[0m\n",
      "\u001b[0;32mpandas/_libs/parsers.pyx\u001b[0m in \u001b[0;36mpandas._libs.parsers.TextReader.__cinit__\u001b[0;34m()\u001b[0m\n",
      "\u001b[0;32mpandas/_libs/parsers.pyx\u001b[0m in \u001b[0;36mpandas._libs.parsers.TextReader._setup_parser_source\u001b[0;34m()\u001b[0m\n",
      "\u001b[0;31mFileNotFoundError\u001b[0m: File b'data/out/sp_cleaned_exhibitions.csv' does not exist"
     ]
    }
   ],
   "source": [
    "%%time\n",
    "\n",
    "exhibitions_df = pd.read_csv('data/out/sp_cleaned_exhibitions.csv')\n",
    "exhibitions_df.fillna('', inplace=True)"
   ]
  },
  {
   "cell_type": "code",
   "execution_count": 3,
   "metadata": {},
   "outputs": [
    {
     "data": {
      "text/plain": [
       "(37420, 26)"
      ]
     },
     "execution_count": 3,
     "metadata": {},
     "output_type": "execute_result"
    }
   ],
   "source": [
    "exhibitions_df.shape"
   ]
  },
  {
   "cell_type": "code",
   "execution_count": 4,
   "metadata": {},
   "outputs": [
    {
     "data": {
      "text/html": [
       "<div>\n",
       "<style scoped>\n",
       "    .dataframe tbody tr th:only-of-type {\n",
       "        vertical-align: middle;\n",
       "    }\n",
       "\n",
       "    .dataframe tbody tr th {\n",
       "        vertical-align: top;\n",
       "    }\n",
       "\n",
       "    .dataframe thead th {\n",
       "        text-align: right;\n",
       "    }\n",
       "</style>\n",
       "<table border=\"1\" class=\"dataframe\">\n",
       "  <thead>\n",
       "    <tr style=\"text-align: right;\">\n",
       "      <th></th>\n",
       "      <th>ID</th>\n",
       "      <th>post_type</th>\n",
       "      <th>post_title</th>\n",
       "      <th>place_t</th>\n",
       "      <th>place_r</th>\n",
       "      <th>place_c</th>\n",
       "      <th>start_y</th>\n",
       "      <th>start_m</th>\n",
       "      <th>start_d</th>\n",
       "      <th>end_y</th>\n",
       "      <th>...</th>\n",
       "      <th>xplace_t</th>\n",
       "      <th>xplace_r</th>\n",
       "      <th>xplace_c</th>\n",
       "      <th>xstart_y</th>\n",
       "      <th>xstart_m</th>\n",
       "      <th>xstart_d</th>\n",
       "      <th>xend_y</th>\n",
       "      <th>xend_m</th>\n",
       "      <th>xend_d</th>\n",
       "      <th>xgender</th>\n",
       "    </tr>\n",
       "  </thead>\n",
       "  <tbody>\n",
       "    <tr>\n",
       "      <th>0</th>\n",
       "      <td>67660</td>\n",
       "      <td>exposición</td>\n",
       "      <td>latifa echakhch ronda</td>\n",
       "      <td>Barcelona</td>\n",
       "      <td>Cataluña</td>\n",
       "      <td>España</td>\n",
       "      <td>2010</td>\n",
       "      <td>7.0</td>\n",
       "      <td>6.0</td>\n",
       "      <td>2011</td>\n",
       "      <td>...</td>\n",
       "      <td>España</td>\n",
       "      <td>España</td>\n",
       "      <td>España</td>\n",
       "      <td>2000</td>\n",
       "      <td>1</td>\n",
       "      <td>1</td>\n",
       "      <td></td>\n",
       "      <td></td>\n",
       "      <td></td>\n",
       "      <td>Masculino</td>\n",
       "    </tr>\n",
       "    <tr>\n",
       "      <th>1</th>\n",
       "      <td>67660</td>\n",
       "      <td>exposición</td>\n",
       "      <td>latifa echakhch ronda</td>\n",
       "      <td>Barcelona</td>\n",
       "      <td>Cataluña</td>\n",
       "      <td>España</td>\n",
       "      <td>2010</td>\n",
       "      <td>7.0</td>\n",
       "      <td>6.0</td>\n",
       "      <td>2011</td>\n",
       "      <td>...</td>\n",
       "      <td>Marruecos</td>\n",
       "      <td>Marruecos</td>\n",
       "      <td>Marruecos</td>\n",
       "      <td>1974</td>\n",
       "      <td>1</td>\n",
       "      <td>1</td>\n",
       "      <td></td>\n",
       "      <td></td>\n",
       "      <td></td>\n",
       "      <td>Femenino</td>\n",
       "    </tr>\n",
       "    <tr>\n",
       "      <th>2</th>\n",
       "      <td>67660</td>\n",
       "      <td>exposición</td>\n",
       "      <td>latifa echakhch ronda</td>\n",
       "      <td>Barcelona</td>\n",
       "      <td>Cataluña</td>\n",
       "      <td>España</td>\n",
       "      <td>2010</td>\n",
       "      <td>7.0</td>\n",
       "      <td>6.0</td>\n",
       "      <td>2011</td>\n",
       "      <td>...</td>\n",
       "      <td>Barcelona</td>\n",
       "      <td>Cataluña</td>\n",
       "      <td>España</td>\n",
       "      <td></td>\n",
       "      <td></td>\n",
       "      <td></td>\n",
       "      <td></td>\n",
       "      <td></td>\n",
       "      <td></td>\n",
       "      <td>NO APLICA</td>\n",
       "    </tr>\n",
       "    <tr>\n",
       "      <th>3</th>\n",
       "      <td>67660</td>\n",
       "      <td>exposición</td>\n",
       "      <td>latifa echakhch ronda</td>\n",
       "      <td>Barcelona</td>\n",
       "      <td>Cataluña</td>\n",
       "      <td>España</td>\n",
       "      <td>2010</td>\n",
       "      <td>7.0</td>\n",
       "      <td>6.0</td>\n",
       "      <td>2011</td>\n",
       "      <td>...</td>\n",
       "      <td>Barcelona</td>\n",
       "      <td>Cataluña</td>\n",
       "      <td>España</td>\n",
       "      <td></td>\n",
       "      <td></td>\n",
       "      <td></td>\n",
       "      <td></td>\n",
       "      <td></td>\n",
       "      <td></td>\n",
       "      <td>NO APLICA</td>\n",
       "    </tr>\n",
       "    <tr>\n",
       "      <th>4</th>\n",
       "      <td>68933</td>\n",
       "      <td>exposición</td>\n",
       "      <td>pep duran cadena acontecimientos</td>\n",
       "      <td>Barcelona</td>\n",
       "      <td>Cataluña</td>\n",
       "      <td>España</td>\n",
       "      <td>2011</td>\n",
       "      <td>3.0</td>\n",
       "      <td>3.0</td>\n",
       "      <td>2011</td>\n",
       "      <td>...</td>\n",
       "      <td>España</td>\n",
       "      <td>España</td>\n",
       "      <td>España</td>\n",
       "      <td>1955</td>\n",
       "      <td>1</td>\n",
       "      <td>1</td>\n",
       "      <td></td>\n",
       "      <td></td>\n",
       "      <td></td>\n",
       "      <td>Masculino</td>\n",
       "    </tr>\n",
       "  </tbody>\n",
       "</table>\n",
       "<p>5 rows × 26 columns</p>\n",
       "</div>"
      ],
      "text/plain": [
       "      ID   post_type                         post_title    place_t   place_r  \\\n",
       "0  67660  exposición             latifa echakhch ronda   Barcelona  Cataluña   \n",
       "1  67660  exposición             latifa echakhch ronda   Barcelona  Cataluña   \n",
       "2  67660  exposición             latifa echakhch ronda   Barcelona  Cataluña   \n",
       "3  67660  exposición             latifa echakhch ronda   Barcelona  Cataluña   \n",
       "4  68933  exposición  pep duran cadena acontecimientos   Barcelona  Cataluña   \n",
       "\n",
       "  place_c  start_y  start_m  start_d end_y    ...       xplace_t   xplace_r  \\\n",
       "0  España     2010      7.0      6.0  2011    ...         España     España   \n",
       "1  España     2010      7.0      6.0  2011    ...      Marruecos  Marruecos   \n",
       "2  España     2010      7.0      6.0  2011    ...      Barcelona   Cataluña   \n",
       "3  España     2010      7.0      6.0  2011    ...      Barcelona   Cataluña   \n",
       "4  España     2011      3.0      3.0  2011    ...         España     España   \n",
       "\n",
       "    xplace_c  xstart_y xstart_m xstart_d xend_y xend_m xend_d    xgender  \n",
       "0     España      2000        1        1                       Masculino  \n",
       "1  Marruecos      1974        1        1                        Femenino  \n",
       "2     España                                                   NO APLICA  \n",
       "3     España                                                   NO APLICA  \n",
       "4     España      1955        1        1                       Masculino  \n",
       "\n",
       "[5 rows x 26 columns]"
      ]
     },
     "execution_count": 4,
     "metadata": {},
     "output_type": "execute_result"
    }
   ],
   "source": [
    "exhibitions_df.head()"
   ]
  },
  {
   "cell_type": "code",
   "execution_count": null,
   "metadata": {},
   "outputs": [],
   "source": []
  },
  {
   "cell_type": "markdown",
   "metadata": {},
   "source": [
    "## Topics"
   ]
  },
  {
   "cell_type": "code",
   "execution_count": 5,
   "metadata": {},
   "outputs": [],
   "source": [
    "exhibits_df = exhibitions_df.drop_duplicates('ID')"
   ]
  },
  {
   "cell_type": "code",
   "execution_count": 6,
   "metadata": {},
   "outputs": [
    {
     "data": {
      "text/plain": [
       "4461"
      ]
     },
     "execution_count": 6,
     "metadata": {},
     "output_type": "execute_result"
    }
   ],
   "source": [
    "exhibits_df.ID.nunique()"
   ]
  },
  {
   "cell_type": "code",
   "execution_count": 7,
   "metadata": {},
   "outputs": [
    {
     "data": {
      "text/plain": [
       "2015    1380\n",
       "2016     969\n",
       "2014     579\n",
       "2013     439\n",
       "2012     384\n",
       "2011     370\n",
       "2010     340\n",
       "Name: start_y, dtype: int64"
      ]
     },
     "execution_count": 7,
     "metadata": {},
     "output_type": "execute_result"
    }
   ],
   "source": [
    "exhibits_df.start_y.value_counts()"
   ]
  },
  {
   "cell_type": "code",
   "execution_count": 8,
   "metadata": {},
   "outputs": [],
   "source": [
    "texts_sr = exhibits_df.groupby('start_y').post_title.sum()"
   ]
  },
  {
   "cell_type": "code",
   "execution_count": 9,
   "metadata": {},
   "outputs": [
    {
     "name": "stdout",
     "output_type": "stream",
     "text": [
      "2010 1147\n",
      "2011 1222\n",
      "2012 1315\n",
      "2013 1465\n",
      "2014 1835\n",
      "2015 3987\n",
      "2016 2709\n"
     ]
    }
   ],
   "source": [
    "for i, text in texts_sr.items():\n",
    "    print(i, len(text.split()))"
   ]
  },
  {
   "cell_type": "code",
   "execution_count": 10,
   "metadata": {},
   "outputs": [],
   "source": [
    "# texts_sr = texts_sr[texts_sr.apply(lambda x: len(x.split()) >= ??)] # Selecting all"
   ]
  },
  {
   "cell_type": "code",
   "execution_count": 11,
   "metadata": {},
   "outputs": [
    {
     "data": {
      "text/plain": [
       "Int64Index([2010, 2011, 2012, 2013, 2014, 2015, 2016], dtype='int64', name='start_y')"
      ]
     },
     "execution_count": 11,
     "metadata": {},
     "output_type": "execute_result"
    }
   ],
   "source": [
    "texts_sr.index"
   ]
  },
  {
   "cell_type": "code",
   "execution_count": 12,
   "metadata": {},
   "outputs": [],
   "source": [
    "documents = list(texts_sr)"
   ]
  },
  {
   "cell_type": "code",
   "execution_count": 13,
   "metadata": {},
   "outputs": [
    {
     "data": {
      "text/plain": [
       "7"
      ]
     },
     "execution_count": 13,
     "metadata": {},
     "output_type": "execute_result"
    }
   ],
   "source": [
    "len(documents)"
   ]
  },
  {
   "cell_type": "code",
   "execution_count": 14,
   "metadata": {},
   "outputs": [],
   "source": [
    "texts = [[word for word in document.split()] for document in documents]"
   ]
  },
  {
   "cell_type": "code",
   "execution_count": 15,
   "metadata": {},
   "outputs": [
    {
     "data": {
      "text/plain": [
       "7"
      ]
     },
     "execution_count": 15,
     "metadata": {},
     "output_type": "execute_result"
    }
   ],
   "source": [
    "len(texts)"
   ]
  },
  {
   "cell_type": "code",
   "execution_count": 16,
   "metadata": {},
   "outputs": [],
   "source": [
    "def load_ini_dictionary(texts):\n",
    "    filename = 'data/dictionaries/dictionary.dict'\n",
    "    if os.path.exists(filename):\n",
    "        dictionary = corpora.Dictionary.load(filename)\n",
    "    else:\n",
    "        dictionary = corpora.Dictionary(texts)\n",
    "        dictionary.save(filename)\n",
    "    return dictionary"
   ]
  },
  {
   "cell_type": "code",
   "execution_count": 17,
   "metadata": {},
   "outputs": [],
   "source": [
    "def load_param_dictionary(dictionary, MIN_DFs, MAX_DFs, MAX_FTs):\n",
    "    filename = 'data/dictionaries/dictionary_{}_{}_{}.dict'.format(MIN_DFs, MAX_DFs, MAX_FTs)\n",
    "    if os.path.exists(filename):\n",
    "        dictionary = corpora.Dictionary.load(filename)\n",
    "    else:\n",
    "        dictionary.filter_extremes(no_below=MIN_DF, no_above=MAX_DF, keep_n=MAX_FT, keep_tokens=['picasso'])\n",
    "        dictionary.save(filename)\n",
    "    return dictionary"
   ]
  },
  {
   "cell_type": "code",
   "execution_count": 18,
   "metadata": {},
   "outputs": [],
   "source": [
    "dictionary = load_ini_dictionary(texts)"
   ]
  },
  {
   "cell_type": "code",
   "execution_count": 19,
   "metadata": {},
   "outputs": [
    {
     "data": {
      "text/plain": [
       "7005"
      ]
     },
     "execution_count": 19,
     "metadata": {},
     "output_type": "execute_result"
    }
   ],
   "source": [
    "len(dictionary)"
   ]
  },
  {
   "cell_type": "code",
   "execution_count": 20,
   "metadata": {
    "scrolled": false
   },
   "outputs": [
    {
     "name": "stdout",
     "output_type": "stream",
     "text": [
      "Iteration: 1 / ~72 - MIN_DF: 1 - MAX_DF: 0.85 - MAX_FT: 100 - N_TOPICS: 2\n",
      "Iteration: 2 / ~72 - MIN_DF: 1 - MAX_DF: 0.85 - MAX_FT: 100 - N_TOPICS: 5\n",
      "Iteration: 3 / ~72 - MIN_DF: 1 - MAX_DF: 0.85 - MAX_FT: 100 - N_TOPICS: 7\n",
      "Iteration: 4 / ~72 - MIN_DF: 1 - MAX_DF: 0.85 - MAX_FT: 100 - N_TOPICS: 10\n",
      "Iteration: 5 / ~72 - MIN_DF: 1 - MAX_DF: 0.85 - MAX_FT: 100 - N_TOPICS: 16\n",
      "Iteration: 6 / ~72 - MIN_DF: 1 - MAX_DF: 0.85 - MAX_FT: 100 - N_TOPICS: 50\n",
      "Iteration: 7 / ~72 - MIN_DF: 1 - MAX_DF: 0.85 - MAX_FT: 1000 - N_TOPICS: 2\n",
      "Iteration: 8 / ~72 - MIN_DF: 1 - MAX_DF: 0.85 - MAX_FT: 1000 - N_TOPICS: 10\n",
      "Iteration: 9 / ~72 - MIN_DF: 1 - MAX_DF: 0.85 - MAX_FT: 1000 - N_TOPICS: 50\n",
      "Iteration: 10 / ~72 - MIN_DF: 1 - MAX_DF: 0.85 - MAX_FT: 1000 - N_TOPICS: 5\n",
      "Iteration: 11 / ~72 - MIN_DF: 1 - MAX_DF: 0.85 - MAX_FT: 1000 - N_TOPICS: 7\n",
      "Iteration: 12 / ~72 - MIN_DF: 1 - MAX_DF: 0.85 - MAX_FT: 7005 - N_TOPICS: 2\n",
      "Iteration: 13 / ~72 - MIN_DF: 1 - MAX_DF: 0.85 - MAX_FT: 7005 - N_TOPICS: 10\n",
      "Iteration: 14 / ~72 - MIN_DF: 1 - MAX_DF: 0.85 - MAX_FT: 7005 - N_TOPICS: 50\n",
      "Iteration: 15 / ~72 - MIN_DF: 1 - MAX_DF: 0.85 - MAX_FT: 7005 - N_TOPICS: 5\n",
      "Iteration: 16 / ~72 - MIN_DF: 1 - MAX_DF: 0.85 - MAX_FT: 7005 - N_TOPICS: 7\n",
      "Iteration: 17 / ~72 - MIN_DF: 2 - MAX_DF: 0.85 - MAX_FT: 100 - N_TOPICS: 2\n",
      "Iteration: 18 / ~72 - MIN_DF: 2 - MAX_DF: 0.85 - MAX_FT: 100 - N_TOPICS: 5\n",
      "Iteration: 19 / ~72 - MIN_DF: 2 - MAX_DF: 0.85 - MAX_FT: 100 - N_TOPICS: 7\n",
      "Iteration: 20 / ~72 - MIN_DF: 2 - MAX_DF: 0.85 - MAX_FT: 100 - N_TOPICS: 10\n",
      "Iteration: 21 / ~72 - MIN_DF: 2 - MAX_DF: 0.85 - MAX_FT: 100 - N_TOPICS: 16\n",
      "Iteration: 22 / ~72 - MIN_DF: 2 - MAX_DF: 0.85 - MAX_FT: 100 - N_TOPICS: 50\n",
      "Iteration: 23 / ~72 - MIN_DF: 2 - MAX_DF: 0.85 - MAX_FT: 1000 - N_TOPICS: 2\n",
      "Iteration: 24 / ~72 - MIN_DF: 2 - MAX_DF: 0.85 - MAX_FT: 1000 - N_TOPICS: 10\n",
      "Iteration: 25 / ~72 - MIN_DF: 2 - MAX_DF: 0.85 - MAX_FT: 1000 - N_TOPICS: 50\n",
      "Iteration: 26 / ~72 - MIN_DF: 2 - MAX_DF: 0.85 - MAX_FT: 1000 - N_TOPICS: 5\n",
      "Iteration: 27 / ~72 - MIN_DF: 2 - MAX_DF: 0.85 - MAX_FT: 1000 - N_TOPICS: 7\n",
      "Iteration: 28 / ~72 - MIN_DF: 2 - MAX_DF: 0.85 - MAX_FT: 7005 - N_TOPICS: 2\n",
      "Iteration: 29 / ~72 - MIN_DF: 2 - MAX_DF: 0.85 - MAX_FT: 7005 - N_TOPICS: 5\n",
      "Iteration: 30 / ~72 - MIN_DF: 2 - MAX_DF: 0.85 - MAX_FT: 7005 - N_TOPICS: 6\n",
      "Iteration: 31 / ~72 - MIN_DF: 2 - MAX_DF: 0.85 - MAX_FT: 7005 - N_TOPICS: 7\n",
      "Iteration: 32 / ~72 - MIN_DF: 2 - MAX_DF: 0.85 - MAX_FT: 7005 - N_TOPICS: 10\n",
      "Iteration: 33 / ~72 - MIN_DF: 2 - MAX_DF: 0.85 - MAX_FT: 7005 - N_TOPICS: 50\n",
      "Iteration: 34 / ~72 - MIN_DF: 3 - MAX_DF: 0.85 - MAX_FT: 100 - N_TOPICS: 2\n",
      "Iteration: 35 / ~72 - MIN_DF: 3 - MAX_DF: 0.85 - MAX_FT: 100 - N_TOPICS: 5\n",
      "Iteration: 36 / ~72 - MIN_DF: 3 - MAX_DF: 0.85 - MAX_FT: 100 - N_TOPICS: 7\n",
      "Iteration: 37 / ~72 - MIN_DF: 3 - MAX_DF: 0.85 - MAX_FT: 100 - N_TOPICS: 10\n",
      "Iteration: 38 / ~72 - MIN_DF: 3 - MAX_DF: 0.85 - MAX_FT: 100 - N_TOPICS: 16\n",
      "Iteration: 39 / ~72 - MIN_DF: 3 - MAX_DF: 0.85 - MAX_FT: 100 - N_TOPICS: 50\n",
      "Iteration: 40 / ~72 - MIN_DF: 3 - MAX_DF: 0.85 - MAX_FT: 1000 - N_TOPICS: 2\n",
      "Iteration: 41 / ~72 - MIN_DF: 3 - MAX_DF: 0.85 - MAX_FT: 1000 - N_TOPICS: 10\n",
      "Iteration: 42 / ~72 - MIN_DF: 3 - MAX_DF: 0.85 - MAX_FT: 1000 - N_TOPICS: 50\n",
      "Iteration: 43 / ~72 - MIN_DF: 3 - MAX_DF: 0.85 - MAX_FT: 1000 - N_TOPICS: 5\n",
      "Iteration: 44 / ~72 - MIN_DF: 3 - MAX_DF: 0.85 - MAX_FT: 1000 - N_TOPICS: 7\n",
      "Iteration: 45 / ~72 - MIN_DF: 3 - MAX_DF: 0.85 - MAX_FT: 7005 - N_TOPICS: 2\n",
      "Iteration: 46 / ~72 - MIN_DF: 3 - MAX_DF: 0.85 - MAX_FT: 7005 - N_TOPICS: 10\n",
      "Iteration: 47 / ~72 - MIN_DF: 3 - MAX_DF: 0.85 - MAX_FT: 7005 - N_TOPICS: 50\n",
      "Iteration: 48 / ~72 - MIN_DF: 3 - MAX_DF: 0.85 - MAX_FT: 7005 - N_TOPICS: 5\n",
      "Iteration: 49 / ~72 - MIN_DF: 3 - MAX_DF: 0.85 - MAX_FT: 7005 - N_TOPICS: 7\n",
      "Iteration: 50 / ~72 - MIN_DF: 4 - MAX_DF: 0.85 - MAX_FT: 100 - N_TOPICS: 2\n",
      "Iteration: 51 / ~72 - MIN_DF: 4 - MAX_DF: 0.85 - MAX_FT: 100 - N_TOPICS: 5\n",
      "Iteration: 52 / ~72 - MIN_DF: 4 - MAX_DF: 0.85 - MAX_FT: 100 - N_TOPICS: 7\n",
      "Iteration: 53 / ~72 - MIN_DF: 4 - MAX_DF: 0.85 - MAX_FT: 100 - N_TOPICS: 10\n",
      "Iteration: 54 / ~72 - MIN_DF: 4 - MAX_DF: 0.85 - MAX_FT: 100 - N_TOPICS: 16\n",
      "Iteration: 55 / ~72 - MIN_DF: 4 - MAX_DF: 0.85 - MAX_FT: 100 - N_TOPICS: 50\n",
      "Iteration: 56 / ~72 - MIN_DF: 4 - MAX_DF: 0.85 - MAX_FT: 1000 - N_TOPICS: 2\n",
      "Iteration: 57 / ~72 - MIN_DF: 4 - MAX_DF: 0.85 - MAX_FT: 1000 - N_TOPICS: 5\n",
      "Iteration: 58 / ~72 - MIN_DF: 4 - MAX_DF: 0.85 - MAX_FT: 1000 - N_TOPICS: 6\n",
      "Iteration: 59 / ~72 - MIN_DF: 4 - MAX_DF: 0.85 - MAX_FT: 1000 - N_TOPICS: 7\n",
      "Iteration: 60 / ~72 - MIN_DF: 4 - MAX_DF: 0.85 - MAX_FT: 1000 - N_TOPICS: 10\n",
      "Iteration: 61 / ~72 - MIN_DF: 4 - MAX_DF: 0.85 - MAX_FT: 1000 - N_TOPICS: 50\n",
      "Iteration: 62 / ~72 - MIN_DF: 4 - MAX_DF: 0.85 - MAX_FT: 7005 - N_TOPICS: 2\n",
      "Iteration: 63 / ~72 - MIN_DF: 4 - MAX_DF: 0.85 - MAX_FT: 7005 - N_TOPICS: 5\n",
      "Iteration: 64 / ~72 - MIN_DF: 4 - MAX_DF: 0.85 - MAX_FT: 7005 - N_TOPICS: 6\n",
      "Iteration: 65 / ~72 - MIN_DF: 4 - MAX_DF: 0.85 - MAX_FT: 7005 - N_TOPICS: 7\n",
      "Iteration: 66 / ~72 - MIN_DF: 4 - MAX_DF: 0.85 - MAX_FT: 7005 - N_TOPICS: 10\n",
      "Iteration: 67 / ~72 - MIN_DF: 4 - MAX_DF: 0.85 - MAX_FT: 7005 - N_TOPICS: 50\n",
      "CPU times: user 26.7 s, sys: 24.9 s, total: 51.6 s\n",
      "Wall time: 10.8 s\n"
     ]
    }
   ],
   "source": [
    "%%time\n",
    "\n",
    "# lsi_topics_lists = []\n",
    "lda_topics_lists = []\n",
    "hdp_topics_lists = []\n",
    "\n",
    "MIN_DFs = [1, 2, 3, 4]\n",
    "MAX_DFs = [0.85]\n",
    "MAX_FTs = [100, 1000, len(dictionary)]\n",
    "N_TOPICSs = [2, 5, 10, len(texts), 50]\n",
    "N_WORDS = 10\n",
    "\n",
    "total_iterations = len(MIN_DFs) * len(MAX_DFs) * len(MAX_FTs) * (len(N_TOPICSs) + 1)\n",
    "iteration = 1\n",
    "for MIN_DF in MIN_DFs:\n",
    "    for MAX_DF in MAX_DFs:\n",
    "        for MAX_FT in MAX_FTs:\n",
    "            dictionary = load_ini_dictionary(texts)\n",
    "            dictionary = load_param_dictionary(dictionary, MIN_DF, MAX_DF, MAX_FT)\n",
    "            corpus = [dictionary.doc2bow(text) for text in texts]\n",
    "            tfidf = models.TfidfModel(corpus)\n",
    "            corpus_tfidf = tfidf[corpus]\n",
    "            \n",
    "            # HDP\n",
    "            hdp = models.HdpModel(corpus, id2word=dictionary, random_state=0)\n",
    "            corpus_hdp = hdp[corpus]\n",
    "            ts = hdp.show_topics(-1, num_words=N_WORDS, formatted=False)\n",
    "            result = (ts, (MIN_DF, MAX_DF, MAX_FT, -1), corpus_hdp)\n",
    "            hdp_topics_lists.append(result)\n",
    "                        \n",
    "            topics_set = set(topic for doc in corpus_hdp for topic, weight in doc)\n",
    "            hdp_n_topics = len(topics_set)\n",
    "            \n",
    "            n_topics_aux = set(N_TOPICSs).union([hdp_n_topics])\n",
    "            for N_TOPICS in n_topics_aux:\n",
    "                print('Iteration: {} / ~{}'.format(iteration, total_iterations), \\\n",
    "                      '- MIN_DF:', MIN_DF, '- MAX_DF:', MAX_DF, '- MAX_FT:', MAX_FT, '- N_TOPICS:', N_TOPICS)\n",
    "                iteration += 1\n",
    "                \n",
    "                # LSI\n",
    "#                 lsi = models.LsiModel(corpus_tfidf, id2word=dictionary, num_topics=N_TOPICS)\n",
    "#                 corpus_lsi = lsi[corpus_tfidf]\n",
    "#                 ts = lsi.show_topics(lsi.num_topics, formatted=False)\n",
    "#                 result = (ts, (MIN_DF, MAX_DF, MAX_FT, N_TOPICS), corpus_lsi)\n",
    "#                 lsi_topics_lists.append(result)\n",
    "            \n",
    "                # LDA\n",
    "                lda = models.LdaModel(corpus, id2word=dictionary, num_topics=N_TOPICS, random_state=0)\n",
    "                corpus_lda = lda[corpus]\n",
    "                ts = sorted(lda.show_topics(lda.num_topics, formatted=False))\n",
    "                result = (ts, (MIN_DF, MAX_DF, MAX_FT, N_TOPICS), corpus_lda)\n",
    "                lda_topics_lists.append(result)\n",
    "            \n",
    "                "
   ]
  },
  {
   "cell_type": "code",
   "execution_count": 21,
   "metadata": {
    "scrolled": true
   },
   "outputs": [],
   "source": [
    "# %%time\n",
    "\n",
    "# # lsi_topics_lists = []\n",
    "# lda_topics_lists = []\n",
    "# hdp_topics_lists = []\n",
    "\n",
    "# MIN_DFs = [1, 2]\n",
    "# MAX_DFs = [0.9, 1.0]\n",
    "# MAX_FTs = [100, 1000, len(dictionary)]\n",
    "# N_TOPICSs = [2, 5, 10, len(texts), 50]\n",
    "# N_WORDS = 10\n",
    "\n",
    "# total_iterations = len(MIN_DFs) * len(MAX_DFs) * len(MAX_FTs) * (len(N_TOPICSs) + 1)\n",
    "# iteration = 1\n",
    "\n",
    "# dictionary = load_dictionary(texts)\n",
    "# dictionary.filter_extremes(no_below=2, no_above=0.9, keep_n=8000)\n",
    "# corpus = [dictionary.doc2bow(text) for text in texts]\n",
    "# tfidf = models.TfidfModel(corpus)\n",
    "# corpus_tfidf = tfidf[corpus]\n",
    "\n",
    "# # HDP\n",
    "# hdp = models.HdpModel(corpus, id2word=dictionary, random_state=0)\n",
    "# corpus_hdp = hdp[corpus]\n",
    "# ts = hdp.show_topics(-1, num_words=N_WORDS, formatted=False)\n",
    "# result = (ts, (0, 0, 0, -1), corpus_hdp)\n",
    "# hdp_topics_lists.append(result)\n",
    "\n",
    "\n",
    "# n_topics_aux = N_TOPICSs# + [hdp_n_topics]\n",
    "# for N_TOPICS in n_topics_aux:\n",
    "#     print('Iteration: {} / {}'.format(iteration, total_iterations), \\\n",
    "#           '- MIN_DF:', 0, '- MAX_DF:', 0, '- MAX_FT:', 0, '- N_TOPICS:', N_TOPICS)\n",
    "#     iteration += 1\n",
    "\n",
    "\n",
    "#     # LDA\n",
    "#     lda = models.LdaModel(corpus, id2word=dictionary, num_topics=N_TOPICS, random_state=0)\n",
    "#     corpus_lda = lda[corpus]\n",
    "#     ts = sorted(lda.show_topics(lda.num_topics, formatted=False))\n",
    "#     result = (ts, (0, 0, 0, N_TOPICS), corpus_lda)\n",
    "#     lda_topics_lists.append(result)"
   ]
  },
  {
   "cell_type": "code",
   "execution_count": 22,
   "metadata": {},
   "outputs": [],
   "source": [
    "def extract_vocabulary(ts):\n",
    "    vocab = set()\n",
    "    for t in ts:\n",
    "        words = [word for word, weight in t]\n",
    "        vocab = vocab.union(words)\n",
    "    vocab = sorted(vocab)\n",
    "    r = {w: i for i, w in enumerate(vocab)}\n",
    "    return r\n",
    "\n",
    "def get_weights(t):\n",
    "    return dict(t)\n",
    "\n",
    "def create_vector(vocab, weights):\n",
    "    r = [0] * len(vocab)\n",
    "    for wo in weights:\n",
    "        r[vocab[wo]] = weights[wo]\n",
    "    return r\n",
    "\n",
    "def vectorize(ts):\n",
    "    r = []\n",
    "    ts = [t for i, j, t in ts]\n",
    "    vocab = extract_vocabulary(ts)\n",
    "    for t in ts:\n",
    "        weights = get_weights(t)\n",
    "        vector = create_vector(vocab, weights)\n",
    "        r.append(vector)\n",
    "    return r"
   ]
  },
  {
   "cell_type": "code",
   "execution_count": 23,
   "metadata": {},
   "outputs": [],
   "source": [
    "def two_topics_distance(t1, t2):\n",
    "    r = spatial.distance.cosine(t1, t2)\n",
    "    return r\n",
    "\n",
    "def multiple_topics_distance(ts):\n",
    "    ds = []\n",
    "    for i, t1 in enumerate(ts[:-1]):\n",
    "        for j in range(i + 1, len(ts)):\n",
    "            t2 = ts[j]\n",
    "            d = two_topics_distance(t1, t2)\n",
    "            ds.append(d)\n",
    "    return np.mean(ds)\n",
    "\n",
    "def transform(ts_list): # formerly top_n_used_topics\n",
    "    total_weights = defaultdict(float)\n",
    "    corpus = ts_list[2]\n",
    "    for doc in corpus:\n",
    "        for topic, weight in doc:\n",
    "            total_weights[topic] += abs(weight)\n",
    "    total_weights = dict(total_weights)\n",
    "    counter = Counter(total_weights)\n",
    "    topics_dct = dict(ts_list[0])\n",
    "    r = ([(weight, topic_id, topics_dct[topic_id])\n",
    "             for topic_id, weight in counter.most_common()], ts_list[1], ts_list[2])\n",
    "    return r\n",
    "\n",
    "def best_topics(ts_lists):\n",
    "    r = []\n",
    "    for ts_list in ts_lists:\n",
    "        top_n_ts_list = transform(ts_list)\n",
    "        ts_vector = vectorize(top_n_ts_list[0])\n",
    "        d = multiple_topics_distance(ts_vector)\n",
    "        r.append((d, top_n_ts_list))\n",
    "    r = sorted(r, reverse=True)\n",
    "    return r[0]"
   ]
  },
  {
   "cell_type": "code",
   "execution_count": 24,
   "metadata": {},
   "outputs": [
    {
     "name": "stdout",
     "output_type": "stream",
     "text": [
      "LDA\n",
      "HDP\n",
      "CPU times: user 8.24 s, sys: 7.71 s, total: 15.9 s\n",
      "Wall time: 2.41 s\n"
     ]
    }
   ],
   "source": [
    "%%time\n",
    "\n",
    "# print('LSI')\n",
    "# lsi_best_topics_list = best_topics(lsi_topics_lists)\n",
    "print('LDA')\n",
    "lda_best_topics_list = best_topics(lda_topics_lists)\n",
    "print('HDP')\n",
    "hdp_best_topics_list = best_topics(hdp_topics_lists)"
   ]
  },
  {
   "cell_type": "markdown",
   "metadata": {},
   "source": [
    "## Results"
   ]
  },
  {
   "cell_type": "markdown",
   "metadata": {},
   "source": [
    "### LSI"
   ]
  },
  {
   "cell_type": "code",
   "execution_count": 25,
   "metadata": {},
   "outputs": [],
   "source": [
    "# for i, doc in enumerate(lsi_best_topics_list[1][2]):\n",
    "#     print(texts_sr.index[i], doc)"
   ]
  },
  {
   "cell_type": "code",
   "execution_count": 26,
   "metadata": {},
   "outputs": [],
   "source": [
    "# lsi_best_topics_list[1][0]"
   ]
  },
  {
   "cell_type": "markdown",
   "metadata": {},
   "source": [
    "### LDA"
   ]
  },
  {
   "cell_type": "code",
   "execution_count": 27,
   "metadata": {},
   "outputs": [
    {
     "name": "stdout",
     "output_type": "stream",
     "text": [
      "2010 [(40, 0.9947594)]\n",
      "2011 [(33, 0.9948959)]\n",
      "2012 [(23, 0.7842242), (32, 0.21182513)]\n",
      "2013 [(1, 0.9964748)]\n",
      "2014 [(32, 0.9967114)]\n",
      "2015 [(32, 0.99840915)]\n",
      "2016 [(32, 0.84612715), (40, 0.15140496)]\n"
     ]
    }
   ],
   "source": [
    "for i, doc in enumerate(lda_best_topics_list[1][2]):\n",
    "    print(texts_sr.index[i], doc)"
   ]
  },
  {
   "cell_type": "code",
   "execution_count": 28,
   "metadata": {},
   "outputs": [
    {
     "data": {
      "text/plain": [
       "(4, 0.85, 7005, 50)"
      ]
     },
     "execution_count": 28,
     "metadata": {},
     "output_type": "execute_result"
    }
   ],
   "source": [
    "lda_best_topics_list[1][1]"
   ]
  },
  {
   "cell_type": "code",
   "execution_count": 29,
   "metadata": {
    "scrolled": false
   },
   "outputs": [
    {
     "data": {
      "text/plain": [
       "[(3.0530900359153748,\n",
       "  32,\n",
       "  [('picasso', 0.042111713),\n",
       "   ('mujeres', 0.019770708),\n",
       "   ('vida', 0.015750268),\n",
       "   ('casa', 0.0110806795),\n",
       "   ('teresa', 0.010485754),\n",
       "   ('jesús', 0.009898915),\n",
       "   ('certamen', 0.0092140315),\n",
       "   ('siglos', 0.0091078915),\n",
       "   ('visiones', 0.008784279),\n",
       "   ('imagen', 0.007793367)]),\n",
       " (1.146168440580368,\n",
       "  40,\n",
       "  [('picasso', 0.064249195),\n",
       "   ('carlos', 0.01334744),\n",
       "   ('nuevo', 0.01216151),\n",
       "   ('nacional', 0.010964673),\n",
       "   ('línea', 0.010742326),\n",
       "   ('retrato', 0.009919678),\n",
       "   ('renacimiento', 0.009820684),\n",
       "   ('real', 0.00979706),\n",
       "   ('lleida', 0.00967091),\n",
       "   ('xxi', 0.008766832)]),\n",
       " (0.9964748024940491,\n",
       "  1,\n",
       "  [('picasso', 0.04758247),\n",
       "   ('vida', 0.020572735),\n",
       "   ('moda', 0.015070789),\n",
       "   ('retorno', 0.014542604),\n",
       "   ('blanco', 0.014354866),\n",
       "   ('eterno', 0.01361901),\n",
       "   ('contemporáneas', 0.010970152),\n",
       "   ('casa', 0.009521288),\n",
       "   ('objetos', 0.009255764),\n",
       "   ('visiones', 0.009074654)]),\n",
       " (0.994895875453949,\n",
       "  33,\n",
       "  [('picasso', 0.03883271),\n",
       "   ('martín', 0.015053455),\n",
       "   ('frente', 0.014776201),\n",
       "   ('adquisiciones', 0.013353575),\n",
       "   ('siglos', 0.011668868),\n",
       "   ('bornemisza', 0.010938664),\n",
       "   ('thyssen', 0.010762712),\n",
       "   ('española', 0.009773359),\n",
       "   ('bellas', 0.009707491),\n",
       "   ('vida', 0.00916035)]),\n",
       " (0.7842029333114624,\n",
       "  23,\n",
       "  [('picasso', 0.03901058),\n",
       "   ('imagen', 0.029732062),\n",
       "   ('martínez', 0.019946044),\n",
       "   ('vida', 0.015797468),\n",
       "   ('nacional', 0.015723284),\n",
       "   ('cruzadas', 0.015600442),\n",
       "   ('experimental', 0.015526758),\n",
       "   ('española', 0.014544334),\n",
       "   ('bellas', 0.013398677),\n",
       "   ('retrato', 0.012626261)])]"
      ]
     },
     "execution_count": 29,
     "metadata": {},
     "output_type": "execute_result"
    }
   ],
   "source": [
    "lda_best_topics_list[1][0]"
   ]
  },
  {
   "cell_type": "markdown",
   "metadata": {},
   "source": [
    "### HDP"
   ]
  },
  {
   "cell_type": "code",
   "execution_count": 30,
   "metadata": {},
   "outputs": [
    {
     "name": "stdout",
     "output_type": "stream",
     "text": [
      "2010 [(0, 0.26917055298939785), (3, 0.3981342024210884), (7, 0.149032337077542), (85, 0.12071013724633103), (98, 0.0574830586916904)]\n",
      "2011 [(1, 0.07083517311593109), (7, 0.9190842025434731)]\n",
      "2012 [(0, 0.20985017394290115), (1, 0.5247006088917318), (88, 0.12511310112843976), (125, 0.08811896996589506), (149, 0.048733999805026025)]\n",
      "2013 [(0, 0.2107894995525091), (5, 0.784059976564012)]\n",
      "2014 [(0, 0.2473898858108832), (4, 0.7479843167620706)]\n",
      "2015 [(0, 0.950380969233341), (127, 0.04723218544778237)]\n",
      "2016 [(2, 0.7582413105016008), (61, 0.05197206011844201), (66, 0.10090265701580343), (79, 0.08120569678845073)]\n"
     ]
    }
   ],
   "source": [
    "for i, doc in enumerate(hdp_best_topics_list[1][2]):\n",
    "    print(texts_sr.index[i], doc)"
   ]
  },
  {
   "cell_type": "code",
   "execution_count": 31,
   "metadata": {},
   "outputs": [
    {
     "data": {
      "text/plain": [
       "(4, 0.85, 100, -1)"
      ]
     },
     "execution_count": 31,
     "metadata": {},
     "output_type": "execute_result"
    }
   ],
   "source": [
    "hdp_best_topics_list[1][1]"
   ]
  },
  {
   "cell_type": "code",
   "execution_count": 33,
   "metadata": {},
   "outputs": [
    {
     "data": {
      "text/plain": [
       "16"
      ]
     },
     "execution_count": 33,
     "metadata": {},
     "output_type": "execute_result"
    }
   ],
   "source": [
    "len(hdp_best_topics_list[1][0])"
   ]
  },
  {
   "cell_type": "code",
   "execution_count": 32,
   "metadata": {
    "scrolled": false
   },
   "outputs": [
    {
     "data": {
      "text/plain": [
       "[(1.8875810815290324,\n",
       "  0,\n",
       "  [('picasso', 0.037173181513935935),\n",
       "   ('vida', 0.03256538606233612),\n",
       "   ('jesús', 0.0314940393552541),\n",
       "   ('poder', 0.02393581979946046),\n",
       "   ('lugar', 0.021827229613317567),\n",
       "   ('mujeres', 0.02168088108026971),\n",
       "   ('hoy', 0.021252625814563206),\n",
       "   ('xxi', 0.020447885782844046),\n",
       "   ('nuevas', 0.019032313205696323),\n",
       "   ('imagen', 0.01891285392963105)]),\n",
       " (1.068116539621015,\n",
       "  7,\n",
       "  [('picasso', 0.044217519452148545),\n",
       "   ('frente', 0.03856239878182732),\n",
       "   ('col', 0.031586817210945736),\n",
       "   ('europa', 0.024859892592155697),\n",
       "   ('sombra', 0.023521600253759854),\n",
       "   ('catalunya', 0.02348389338308434),\n",
       "   ('fernández', 0.02337268637139683),\n",
       "   ('martín', 0.023182949440235124),\n",
       "   ('nuevas', 0.022791608216824466),\n",
       "   ('agua', 0.022463085622335368)]),\n",
       " (0.784059976564012,\n",
       "  5,\n",
       "  [('universo', 0.04869509542085452),\n",
       "   ('diálogos', 0.04524232305941078),\n",
       "   ('picasso', 0.04173491908754539),\n",
       "   ('frente', 0.03195686655783368),\n",
       "   ('certamen', 0.026327952142943034),\n",
       "   ('caminos', 0.02284344321084008),\n",
       "   ('creación', 0.02260644153890069),\n",
       "   ('blanco', 0.022120630316509786),\n",
       "   ('forma', 0.022044554103570264),\n",
       "   ('casa', 0.02105802071821582)]),\n",
       " (0.7582413105016008,\n",
       "  2,\n",
       "  [('documental', 0.04593756870872324),\n",
       "   ('certamen', 0.032428015990751034),\n",
       "   ('humana', 0.02866647959374236),\n",
       "   ('carlos', 0.02792773128201588),\n",
       "   ('picasso', 0.02756014598146407),\n",
       "   ('grabados', 0.025653233449502218),\n",
       "   ('pop', 0.02496935112273818),\n",
       "   ('mujeres', 0.023705552405433088),\n",
       "   ('moderno', 0.02273291425760832),\n",
       "   ('pintar', 0.019659060112096303)]),\n",
       " (0.7479843167620706,\n",
       "  4,\n",
       "  [('picasso', 0.04893061700008285),\n",
       "   ('xix', 0.04055142016202492),\n",
       "   ('marcos', 0.03213831277849723),\n",
       "   ('gabriel', 0.03207260591772351),\n",
       "   ('eduardo', 0.027323349129509063),\n",
       "   ('torres', 0.02537992693098069),\n",
       "   ('vanguardias', 0.022611774739659703),\n",
       "   ('hombre', 0.022252506190872712),\n",
       "   ('col', 0.022020241253839116),\n",
       "   ('sur', 0.02014662903220621)]),\n",
       " (0.5955357820076629,\n",
       "  1,\n",
       "  [('silencio', 0.04361156028178835),\n",
       "   ('picasso', 0.03683212536077886),\n",
       "   ('salón', 0.03279288210591738),\n",
       "   ('caminos', 0.03173284540795174),\n",
       "   ('lugar', 0.02620225885696094),\n",
       "   ('asturias', 0.02525682203221582),\n",
       "   ('española', 0.023543979733142126),\n",
       "   ('vanguardias', 0.022926040462115077),\n",
       "   ('nacional', 0.020765320619505492),\n",
       "   ('universo', 0.020712926422030337)]),\n",
       " (0.3981342024210884,\n",
       "  3,\n",
       "  [('picasso', 0.04240993692203507),\n",
       "   ('forma', 0.03670470880742215),\n",
       "   ('lugar', 0.03255906249542254),\n",
       "   ('retrato', 0.027671734391357207),\n",
       "   ('xix', 0.025154181425178997),\n",
       "   ('sol', 0.025141018174502767),\n",
       "   ('catalunya', 0.024622506441968357),\n",
       "   ('muñoz', 0.02331906622130841),\n",
       "   ('máquina', 0.02148396928850947),\n",
       "   ('artistes', 0.019049318852924924)]),\n",
       " (0.12511310112843976,\n",
       "  88,\n",
       "  [('show', 0.10415893757372176),\n",
       "   ('edición', 0.06632113058299657),\n",
       "   ('vacío', 0.05985053783355681),\n",
       "   ('vostell', 0.027824534433991827),\n",
       "   ('picasso', 0.02511284025042035),\n",
       "   ('fotógrafos', 0.022730337332167425),\n",
       "   ('española', 0.0200255551124233),\n",
       "   ('creación', 0.01944690813600239),\n",
       "   ('vanguardia', 0.019408853243217204),\n",
       "   ('piel', 0.01718547401683866)]),\n",
       " (0.12071013724633103,\n",
       "  85,\n",
       "  [('picasso', 0.03991781381398589),\n",
       "   ('humana', 0.03915537361552493),\n",
       "   ('muestra', 0.034976711780922806),\n",
       "   ('cuerpo', 0.029019465893686605),\n",
       "   ('vostell', 0.028565140920434093),\n",
       "   ('arquitecturas', 0.027103237565947257),\n",
       "   ('sombra', 0.026165720777490974),\n",
       "   ('formas', 0.02588939275851019),\n",
       "   ('vicente', 0.02554897949147258),\n",
       "   ('círculo', 0.023975333381524622)]),\n",
       " (0.10090265701580343,\n",
       "  66,\n",
       "  [('forma', 0.04453695276478557),\n",
       "   ('caminos', 0.03843897003622451),\n",
       "   ('cataluña', 0.038244368152214894),\n",
       "   ('creación', 0.03502647588418209),\n",
       "   ('líneas', 0.032862219118507535),\n",
       "   ('hoy', 0.03266722531244367),\n",
       "   ('sombra', 0.03209695637153964),\n",
       "   ('europa', 0.028979657200251394),\n",
       "   ('imagen', 0.026614026451507046),\n",
       "   ('diálogos', 0.026278738215746604)]),\n",
       " (0.08811896996589506,\n",
       "  125,\n",
       "  [('imagen', 0.04507641377953514),\n",
       "   ('picasso', 0.03647956808014014),\n",
       "   ('trabajo', 0.030053251855271117),\n",
       "   ('diálogos', 0.029431765263331904),\n",
       "   ('abad', 0.028752227033750136),\n",
       "   ('vostell', 0.02736806001341334),\n",
       "   ('cerco', 0.025745476455999346),\n",
       "   ('marcos', 0.02174644883784498),\n",
       "   ('casa', 0.021521611668593427),\n",
       "   ('félix', 0.020987652370007232)]),\n",
       " (0.08120569678845073,\n",
       "  79,\n",
       "  [('casa', 0.10483110199729226),\n",
       "   ('hombre', 0.04769844671983577),\n",
       "   ('sol', 0.04211002189691829),\n",
       "   ('torres', 0.03561279482961783),\n",
       "   ('nuevas', 0.03469141459568579),\n",
       "   ('vanguardias', 0.03439008340475814),\n",
       "   ('europa', 0.03294823611039979),\n",
       "   ('gran', 0.023484460910709364),\n",
       "   ('pep', 0.01981305557192458),\n",
       "   ('asturias', 0.019432844463299452)]),\n",
       " (0.0574830586916904,\n",
       "  98,\n",
       "  [('picasso', 0.05370759072241834),\n",
       "   ('jesús', 0.038795580035237136),\n",
       "   ('carlos', 0.03393601069996143),\n",
       "   ('nuevas', 0.03313121809728634),\n",
       "   ('imagen', 0.031246072612810538),\n",
       "   ('agua', 0.029146905134162644),\n",
       "   ('sorolla', 0.028902647091836212),\n",
       "   ('miedo', 0.02827629897940502),\n",
       "   ('nacional', 0.027652751590849053),\n",
       "   ('show', 0.02685711357952261)]),\n",
       " (0.05197206011844201,\n",
       "  61,\n",
       "  [('xix', 0.05670437099009781),\n",
       "   ('poder', 0.04002720472546209),\n",
       "   ('documental', 0.033875312609403734),\n",
       "   ('marcos', 0.03191889590067731),\n",
       "   ('jean', 0.029700350790718002),\n",
       "   ('mujeres', 0.028259858400093162),\n",
       "   ('círculo', 0.028124413248993164),\n",
       "   ('casa', 0.02596096222326491),\n",
       "   ('lugar', 0.025581928572432758),\n",
       "   ('experimental', 0.023473021761918254)]),\n",
       " (0.048733999805026025,\n",
       "  149,\n",
       "  [('asturias', 0.06748178748262272),\n",
       "   ('nacional', 0.05663129828366769),\n",
       "   ('bodegones', 0.0409282138563491),\n",
       "   ('forma', 0.040500824870451486),\n",
       "   ('vida', 0.03770429680209857),\n",
       "   ('tiempos', 0.03633722959837554),\n",
       "   ('hoy', 0.026596358104219262),\n",
       "   ('nuevas', 0.026219299773038166),\n",
       "   ('retrato', 0.025447696024638713),\n",
       "   ('marcos', 0.023985123783552793)]),\n",
       " (0.04723218544778237,\n",
       "  127,\n",
       "  [('picasso', 0.044279252624956265),\n",
       "   ('vicente', 0.04183555769581186),\n",
       "   ('hoy', 0.03551280210293959),\n",
       "   ('ideas', 0.03442092874379233),\n",
       "   ('hombre', 0.03387718847725845),\n",
       "   ('casa', 0.032387603579716304),\n",
       "   ('xxi', 0.03201017246215421),\n",
       "   ('jesús', 0.02969106633296507),\n",
       "   ('blanco', 0.026603745435094004),\n",
       "   ('sombra', 0.024819343478886563)])]"
      ]
     },
     "execution_count": 32,
     "metadata": {},
     "output_type": "execute_result"
    }
   ],
   "source": [
    "hdp_best_topics_list[1][0]"
   ]
  },
  {
   "cell_type": "code",
   "execution_count": null,
   "metadata": {},
   "outputs": [],
   "source": []
  }
 ],
 "metadata": {
  "kernelspec": {
   "display_name": "Python 3",
   "language": "python",
   "name": "python3"
  },
  "language_info": {
   "codemirror_mode": {
    "name": "ipython",
    "version": 3
   },
   "file_extension": ".py",
   "mimetype": "text/x-python",
   "name": "python",
   "nbconvert_exporter": "python",
   "pygments_lexer": "ipython3",
   "version": "3.5.2"
  }
 },
 "nbformat": 4,
 "nbformat_minor": 2
}
