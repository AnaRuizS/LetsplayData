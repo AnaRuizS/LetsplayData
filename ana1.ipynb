{
 "cells": [
  {
   "cell_type": "code",
   "execution_count": 11,
   "metadata": {},
   "outputs": [],
   "source": [
    "import pandas as pd\n",
    "from nltk import word_tokenize\n",
    "from nltk.corpus import stopwords"
   ]
  },
  {
   "cell_type": "code",
   "execution_count": 13,
   "metadata": {},
   "outputs": [],
   "source": [
    "df = pd.read_csv('data/comments.csv')\n",
    "df.fillna('', inplace=True)"
   ]
  },
  {
   "cell_type": "code",
   "execution_count": 14,
   "metadata": {},
   "outputs": [
    {
     "data": {
      "text/plain": [
       "(316043, 3)"
      ]
     },
     "execution_count": 14,
     "metadata": {},
     "output_type": "execute_result"
    }
   ],
   "source": [
    "df.shape"
   ]
  },
  {
   "cell_type": "code",
   "execution_count": 15,
   "metadata": {},
   "outputs": [
    {
     "data": {
      "text/html": [
       "<div>\n",
       "<style scoped>\n",
       "    .dataframe tbody tr th:only-of-type {\n",
       "        vertical-align: middle;\n",
       "    }\n",
       "\n",
       "    .dataframe tbody tr th {\n",
       "        vertical-align: top;\n",
       "    }\n",
       "\n",
       "    .dataframe thead th {\n",
       "        text-align: right;\n",
       "    }\n",
       "</style>\n",
       "<table border=\"1\" class=\"dataframe\">\n",
       "  <thead>\n",
       "    <tr style=\"text-align: right;\">\n",
       "      <th></th>\n",
       "      <th>channelId</th>\n",
       "      <th>community</th>\n",
       "      <th>text</th>\n",
       "    </tr>\n",
       "  </thead>\n",
       "  <tbody>\n",
       "    <tr>\n",
       "      <th>0</th>\n",
       "      <td>UC5tp0GG3-cvlnflj5NuA9xQ</td>\n",
       "      <td>9</td>\n",
       "      <td>i think it's the tree stump, could be a a slee...</td>\n",
       "    </tr>\n",
       "    <tr>\n",
       "      <th>1</th>\n",
       "      <td>UC5tp0GG3-cvlnflj5NuA9xQ</td>\n",
       "      <td>9</td>\n",
       "      <td>Lothrazar. use the dream rod on the tree stump...</td>\n",
       "    </tr>\n",
       "    <tr>\n",
       "      <th>2</th>\n",
       "      <td>UC5tp0GG3-cvlnflj5NuA9xQ</td>\n",
       "      <td>9</td>\n",
       "      <td>whoops sorry posted that half way through the ...</td>\n",
       "    </tr>\n",
       "    <tr>\n",
       "      <th>3</th>\n",
       "      <td>UC5tp0GG3-cvlnflj5NuA9xQ</td>\n",
       "      <td>9</td>\n",
       "      <td>lol kinda pointless to say so now but by the l...</td>\n",
       "    </tr>\n",
       "    <tr>\n",
       "      <th>4</th>\n",
       "      <td>UC5tp0GG3-cvlnflj5NuA9xQ</td>\n",
       "      <td>9</td>\n",
       "      <td>Thanks, and it wasn't a spoiler, I usualy have...</td>\n",
       "    </tr>\n",
       "  </tbody>\n",
       "</table>\n",
       "</div>"
      ],
      "text/plain": [
       "                  channelId  community  \\\n",
       "0  UC5tp0GG3-cvlnflj5NuA9xQ          9   \n",
       "1  UC5tp0GG3-cvlnflj5NuA9xQ          9   \n",
       "2  UC5tp0GG3-cvlnflj5NuA9xQ          9   \n",
       "3  UC5tp0GG3-cvlnflj5NuA9xQ          9   \n",
       "4  UC5tp0GG3-cvlnflj5NuA9xQ          9   \n",
       "\n",
       "                                                text  \n",
       "0  i think it's the tree stump, could be a a slee...  \n",
       "1  Lothrazar. use the dream rod on the tree stump...  \n",
       "2  whoops sorry posted that half way through the ...  \n",
       "3  lol kinda pointless to say so now but by the l...  \n",
       "4  Thanks, and it wasn't a spoiler, I usualy have...  "
      ]
     },
     "execution_count": 15,
     "metadata": {},
     "output_type": "execute_result"
    }
   ],
   "source": [
    "df.head()"
   ]
  },
  {
   "cell_type": "code",
   "execution_count": 16,
   "metadata": {},
   "outputs": [],
   "source": [
    "chars = set()\n",
    "for comment in df.text:\n",
    "    for c in comment:\n",
    "        if not c in ['-']:\n",
    "            if not c.isalpha():\n",
    "                chars.add(c)"
   ]
  },
  {
   "cell_type": "code",
   "execution_count": 22,
   "metadata": {},
   "outputs": [],
   "source": [
    "my_stopwords = [\n",
    "    'like', 'get','see','game','make',\n",
    "    'know','video','videos','got','games',\n",
    "    'would','one','oh','go','could',\n",
    "    'right','ever','want','watch','people',\n",
    "    'need','said','say','going','put','much',\n",
    "    'best','better','playing', 'spam',\n",
    "    'xd', 'watching','lol','really', 'made',\n",
    "    'comment','--','even','thing','look',\n",
    "    'omg','god','well','actually','something',\n",
    "    'vc','way','pra','favorite','next','keep',\n",
    "    'good','use','ur','llama','buen','asi','gg',\n",
    "    'wan','alot','ta','che','name','dont','stuff',\n",
    "    'si','gusta','love'\n",
    "]"
   ]
  },
  {
   "cell_type": "code",
   "execution_count": 23,
   "metadata": {},
   "outputs": [],
   "source": [
    "stop = \\\n",
    "    stopwords.words('russian') + \\\n",
    "    stopwords.words('english') + \\\n",
    "    stopwords.words('spanish') + \\\n",
    "    stopwords.words('german') + \\\n",
    "    stopwords.words('portuguese') + \\\n",
    "    my_stopwords"
   ]
  },
  {
   "cell_type": "code",
   "execution_count": 24,
   "metadata": {},
   "outputs": [],
   "source": [
    "def clean(s):\n",
    "    r = s.lower().strip()\n",
    "    for c in chars:\n",
    "        r = r.replace(c, ' ')\n",
    "    rs = [w for w in word_tokenize(r) if w not in stop and len(w) > 1]\n",
    "    r = ' '.join(rs)\n",
    "    return r"
   ]
  },
  {
   "cell_type": "code",
   "execution_count": 25,
   "metadata": {},
   "outputs": [
    {
     "name": "stdout",
     "output_type": "stream",
     "text": [
      "CPU times: user 3min, sys: 64 ms, total: 3min\n",
      "Wall time: 3min\n"
     ]
    }
   ],
   "source": [
    "%%time\n",
    "\n",
    "df['cleaned'] = df.text.apply(lambda x: clean(x) + ' ')"
   ]
  },
  {
   "cell_type": "code",
   "execution_count": 26,
   "metadata": {},
   "outputs": [],
   "source": [
    "df.to_csv('data/cleaned_comments.csv', index=False)"
   ]
  },
  {
   "cell_type": "code",
   "execution_count": null,
   "metadata": {},
   "outputs": [],
   "source": []
  }
 ],
 "metadata": {
  "kernelspec": {
   "display_name": "Python 3",
   "language": "python",
   "name": "python3"
  },
  "language_info": {
   "codemirror_mode": {
    "name": "ipython",
    "version": 3
   },
   "file_extension": ".py",
   "mimetype": "text/x-python",
   "name": "python",
   "nbconvert_exporter": "python",
   "pygments_lexer": "ipython3",
   "version": "3.5.2"
  }
 },
 "nbformat": 4,
 "nbformat_minor": 2
}
