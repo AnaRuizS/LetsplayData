{
 "cells": [
  {
   "cell_type": "markdown",
   "metadata": {},
   "source": [
    "# Channels' tags network"
   ]
  },
  {
   "cell_type": "code",
   "execution_count": 59,
   "metadata": {},
   "outputs": [],
   "source": [
    "import os\n",
    "import shlex\n",
    "import json\n",
    "import csv\n",
    "import nltk\n",
    "import itertools\n",
    "import networkx as nx\n",
    "import pandas as pd\n",
    "import collections\n",
    "\n",
    "from nltk.corpus import stopwords\n",
    "from nltk.stem import WordNetLemmatizer"
   ]
  },
  {
   "cell_type": "code",
   "execution_count": 93,
   "metadata": {},
   "outputs": [],
   "source": [
    "fileNames=['minecraft', 'overwatch','agario', 'LOL', 'callOD','fivenaf','pkgo','roblox', 'gta','happyW']\n",
    "data_folder_channels='/media/aruiz/data/channels_clean_data/'\n",
    "fileName2=os.path.join(data_folder_channels,fileNames[0]+'_data_clean.json')\n",
    "g = nx.Graph()\n",
    "lemmatizer = WordNetLemmatizer()"
   ]
  },
  {
   "cell_type": "markdown",
   "metadata": {},
   "source": [
    "### Tag network using .json file"
   ]
  },
  {
   "cell_type": "code",
   "execution_count": 19,
   "metadata": {},
   "outputs": [],
   "source": [
    "i=0\n",
    "with open(fileName2) as f:\n",
    "    for line in f:\n",
    "        #read each json line as a json dict\n",
    "        json_dict = json.loads(line)\n",
    "        all_keys=[] # all tag/keywords for each channel\n",
    "\n",
    "        if (json_dict['statistics']['viewCount']!='0'):\n",
    "            if 'keywords' in json_dict['brandingSettings']['channel']:\n",
    "                try:\n",
    "                    for kw in shlex.split(json_dict['brandingSettings']['channel']['keywords']):\n",
    "                        kw_id = kw.lower().replace(\"'\", \"\").replace(\"´\", \"\").replace(\"’\", \"\")\n",
    "                        single_keys=nltk.word_tokenize(kw_id)\n",
    "                        \n",
    "                        for key in single_keys:\n",
    "                            \n",
    "                            if key not in all_keys:\n",
    "                                all_keys.append(key)\n",
    "                                g.add_node(key, type='keyword')\n",
    "\n",
    "                except:\n",
    "                    i+=1\n",
    "                    for kw in json_dict['brandingSettings']['channel']['keywords'].split():\n",
    "                        kw_id = kw.lower().replace(\"'\", \"\").replace(\"´\", \"\").replace(\"’\", \"\")\n",
    "                        single_keys=nltk.word_tokenize(kw_id)\n",
    "                        for key in single_keys:\n",
    "                            if key not in all_keys:\n",
    "                                all_keys.append(key)\n",
    "                                g.add_node(key, type='keyword')\n",
    "\n",
    "            for key in all_keys:\n",
    "                if key in stopwords.words('english'):\n",
    "                    all_keys.remove(key)\n",
    "            edges= itertools.combinations(all_keys,2)\n",
    "            g.add_edges_from(edges)\n",
    "            \n",
    "        i+=1\n",
    "        if (i==100):\n",
    "            break"
   ]
  },
  {
   "cell_type": "markdown",
   "metadata": {},
   "source": [
    "### Tag network using .csv file"
   ]
  },
  {
   "cell_type": "code",
   "execution_count": 94,
   "metadata": {},
   "outputs": [],
   "source": [
    "j=0\n",
    "data_folder_channels='/media/aruiz/data/channels_clean_data/'\n",
    "# file_csv='minecraft_data_clean.csv'\n",
    "file_csv='callOD_data_clean.csv'\n",
    "fileName= os.path.join(data_folder_channels,file_csv)\n",
    "        \n",
    "df=pd.read_csv(fileName)\n",
    "# df = df[df.views>205546]\n",
    "df = df[df.views>181805]\n",
    "\n",
    "for n in range(0,len(df)):\n",
    "    all_keys=[] # all tag/keywords for each channel\n",
    "    try:\n",
    "        if(df.keywords[n]!=\"\"):\n",
    "\n",
    "            try:\n",
    "                for kw in shlex.split(df.keywords[n]):\n",
    "                    kw_id = kw.lower().replace(\"'\", \"\").replace(\"´\", \"\").replace(\"’\", \"\")\n",
    "                    single_keys=nltk.word_tokenize(kw_id)\n",
    "                    for key in single_keys:\n",
    "                        key2=lemmatizer.lemmatize(key)\n",
    "                        if key2 not in all_keys:\n",
    "                            all_keys.append(key2)\n",
    "                            g.add_node(key2, type='keyword')\n",
    "                            \n",
    "            except:\n",
    "                for kw in df.keywords[n].split():\n",
    "                    kw_id = kw.lower().replace(\"'\", \"\").replace(\"´\", \"\").replace(\"’\", \"\")\n",
    "                    single_keys=nltk.word_tokenize(kw_id)\n",
    "                    for key in single_keys:\n",
    "                        key2=lemmatizer.lemmatize(key)\n",
    "                        if key2 not in all_keys:\n",
    "                            all_keys.append(key2)\n",
    "                            g.add_node(key2, type='keyword')\n",
    "                            \n",
    "            for key in all_keys:\n",
    "                if key in stopwords.words('english'):\n",
    "                    all_keys.remove(key)\n",
    "            edges= itertools.combinations(all_keys,2)\n",
    "            #if the edge exist add +1 weight\n",
    "            g.add_edges_from(edges)\n",
    "            \n",
    "            j+=1\n",
    "            if (j==100):\n",
    "                break\n",
    "    except:\n",
    "        continue       "
   ]
  },
  {
   "cell_type": "code",
   "execution_count": 95,
   "metadata": {},
   "outputs": [
    {
     "data": {
      "text/plain": [
       "DegreeView({'hacker': 18, 'help': 54, 'funny': 153, 'griefing': 12, 'turboii': 20, 'optic': 54, 'job': 33, 'clip': 121, 'blimp': 17, 'shi': 28, 'nation': 54, 'guard': 17, 'cut': 60, 'wall': 11, 'ost': 37, 'bfx': 17, 'logitech': 27, 'xbox': 357, '380': 18, 'new': 39, 'overwatch': 11, 'shooter': 83, 'gear': 83, 'walkthorugh': 25, '2017': 33, 'godsmack': 60, 'angel': 17, 'team': 70, 'bubba': 11, 'downpour': 45, 'mission': 55, 'punkrockgoddess': 60, 'hartwig': 41, 'cheap': 17, 'fraps': 80, 'hill': 45, 'show': 60, 'gun': 73, '12': 21, 'fret': 28, 'soul': 24, 'breaking': 60, 'videojuegos': 31, 'suk': 54, 'marvel': 13, 'live': 104, 'werks': 20, 'swag': 12, 'revolution': 45, '!': 34, 'airsoft': 14, 'waw': 97, 'amv': 17, 'benchmark': 15, 'gh:2': 16, 'br4mm3n': 41, 'aluke671': 12, 'german': 41, 'кино': 30, 'soar': 54, 'pet': 13, 'ok': 18, 'patriot': 55, 'source': 14, 'to': 108, 'de': 15, 'pc': 117, 'forg': 10, 'beret': 11, 'spiel': 41, 'del': 15, 'nsmedia': 20, 'box': 11, 'mitsubishi': 14, 'dr': 41, 'jogatina': 18, 'cinema': 24, 'abileen': 20, 'psp': 17, '2004': 19, 'tdu2': 27, 'streaming': 22, 'video': 247, 'sound': 66, 'homecomin': 45, 'epic': 11, 'fire': 28, 'counter': 37, 'noobtube': 27, 'gh:3': 16, 'cooperative': 22, 'ps4': 56, 'thunder': 51, 'fc': 16, 'piece': 60, 'httb': 17, 'homebrew': 11, 'beyond': 24, 'aa12': 21, 'cod4': 118, 'resident': 55, 'moon': 28, 'flyleaf': 60, 'sniping': 71, 'pietsmittie': 41, 'roflmao88': 11, 'craigaa1028': 22, 'friend': 22, 'custom': 28, 'kuwait': 19, 'code': 11, '9': 45, 'grid': 11, 'socom': 30, 'song': 37, 'mvc': 13, 'uberhaxornova': 54, 'gunsnfunz': 18, 'forever': 45, 'test': 27, 'fort': 17, 'faze': 54, 'online': 44, 'фильма': 30, 'sumter': 13, 'zombieslaya': 28, 'romance': 60, 'gtastunts': 18, 'murderator': 30, 'hvr': 63, 'zimmer': 37, 'knife': 54, 'fragmovie': 37, 'run': 114, 'prologue': 10, 'shep': 54, 'maker': 27, 'switch': 105, 'shotting': 51, 'funtage': 63, 'television': 17, 'frag': 11, 'jugador': 15, 'msr': 26, 'scootie': 10, 'tatossian': 37, 'deranker': 27, 'ontario': 60, 'gindcore': 12, 'rilex': 17, 'hour': 30, 'host': 51, 'strafing': 63, '2010': 18, 'forging': 10, 'music': 139, 'robie2233': 12, 'legend': 27, 'industry': 55, 'canada': 60, 'sp33dy': 54, 'lol': 52, 'ft': 17, 'ps3': 202, 'thompson': 18, 'chs': 17, 'barrett': 26, 'guitar': 57, 'commentary': 124, 'h2f': 55, 'underworld': 45, 'elite': 85, 'zero': 55, 'pitchblack': 10, 'indie': 75, 'rato': 18, 'raoul': 12, 'marc180292': 37, 'technology': 37, 'بةكس': 19, 'trick': 129, 'mw3': 190, 'school': 28, 'streak': 24, 'the': 83, 'carrera': 24, 'превью': 30, 'aka': 60, 'overclock': 11, 'goddess': 60, 'co': 18, 'nintendo': 56, 'rap': 19, '█': 12, 'armas': 17, 'user': 60, 'independent': 17, '1989': 60, 'substance': 55, 'infintiy': 15, 'angry': 51, 'hockey': 12, 'aeg': 14, 'phantasy': 24, 'schockey2130': 12, 'fishing': 13, 'power': 24, '360': 226, 'crossfire': 11, 'half': 14, 'lbx': 12, 'codwaw': 70, 'fortresscraft': 13, 'college': 17, 'betrayal': 27, 'space': 14, 'mario': 37, 'modder': 51, 'riese': 28, 'rescue': 21, 'halo3forum': 55, 'pistol': 17, 'theme': 37, '4': 56, 'ear': 12, 'stuff': 27, '1.0': 17, 'playstation3': 11, 'ww2': 26, 'halo2forum': 55, 'bo': 63, 'minecraft': 101, 'softair': 14, 'butt': 17, 'codbo': 63, 'game': 383, 'strike': 37, 'definiton': 63, 'two': 110, 'touched': 17, 'ps2': 55, 'thedpo9213': 24, 'gangsta': 19, 'gamer_snack': 19, 'se7ensins': 25, 'entwine': 60, 'prank': 13, 'redemption': 11, 'marc': 37, 'gamer': 58, 'prototype': 45, 'tomb': 45, 'burn': 51, 'soundtrack': 37, 'brammen': 41, 'britt': 17, 'apfaqtech': 17, 'speed': 56, 'avenged': 60, 'cry': 11, 'toggle': 63, 'geminisv300': 45, 'arab': 19, 'darkwingrocker': 12, 'q8': 19, 'khaled': 19, 'verrukt': 28, 'mass': 45, 'sep': 41, '79': 54, 'reaction': 44, 'combo': 51, 'lexus': 20, 'l4d': 11, 'paint': 33, 'female': 60, 'apmastersitetechnology': 17, 'tom': 30, '0celott': 11, 'army': 17, 'uploads': 60, 'esuba': 24, 'brittany': 17, 'путешествия': 30, 'mr': 71, 'strafe': 63, 'gameplay': 170, 'mw2': 190, 'minus': 12, 'gaming': 243, 'quickscope': 81, 'mod': 84, 'mw': 70, 'menai': 37, 'gta': 118, 'alternative': 60, 'prime': 54, 'priceless': 54, 'tech': 74, 'nextgen': 15, 'furries': 12, 'yoteslaya': 28, 'kino': 28, 'bros': 28, 'hop': 19, 'mundo': 15, 'dualshock': 30, 'matty': 18, 'ops': 323, 'one': 96, 'h20': 54, 'class': 51, 'rx7': 20, 'reach': 55, 'amd': 15, 'ink': 33, 'prestige': 25, 'filmmaker': 17, 'minnesota': 51, 'student': 17, '[': 45, 'awesome': 27, 'project': 45, 'jailbreak': 12, 'humiliation': 11, 'national': 17, 'florida': 13, 'graphic': 15, ';': 18, 'coop': 27, 'chao': 12, 'streamer': 22, 'build': 17, 'jump': 63, ':': 63, 'favorite': 60, 'cheat': 61, 'fofix': 28, 'lucien': 12, 'golem': 51, 'supply': 33, 'cell': 17, 'deathmatch': 11, 'jumper': 63, 'duke': 53, 'snd': 66, 'steering': 14, 'numa': 28, 'h': 30, 'dennis': 41, 'rapida': 24, 'radeon': 25, 'military': 17, 'madcow': 12, 'billy': 60, 'gow': 12, 'instrumental': 60, 'three': 61, '1887': 21, 'trolling': 70, 'dead': 38, 'death': 60, 'camaro': 14, 'hazard': 24, 'spot': 63, 'modified': 20, 'elektronik': 17, 'collection': 55, 'marching': 17, 'pilot': 20, 'ward': 44, 'search': 66, 'sebastian': 41, 'paradox': 24, 'infinite': 33, 'snake': 55, 'garrys': 22, 'iowa': 17, 'multiplayer': 74, 'office': 18, 'borrachudo': 18, 'public': 63, 'master': 55, 'forza': 27, 'thexdpo': 24, 'fun': 40, 'spa': 21, 'xbox360': 89, 'modded': 74, 'halo': 121, 'iraq': 17, 'wwii': 26, 'cmacisbak': 54, 'blackops': 39, 'state': 17, 'denis': 41, 'cheater': 53, 'matt': 18, 'skate': 11, 'clankfan1': 10, 'the4mula': 10, 'gtasa': 18, 'walk': 25, 'poolshark': 10, 'drop': 33, '1uzfe': 20, 'zoando': 18, 'zxnoregretzzxz': 12, 'x12': 12, 'camper': 11, 'ghwt': 16, 'duty': 539, 'argentina-xtreme': 45, 'troll': 110, 'madison': 17, 'pain': 55, 'valve': 14, 'duncan': 13, 'learn': 26, 'witcher': 25, 'human': 45, 'обзор': 30, 'tv': 71, '4650': 12, 'simulator': 19, 'pro': 79, 'computer': 17, 'contest': 24, 'frogsta360': 28, 'videosongs': 18, 'deke': 24, 'athlon': 15, 'dog': 66, 'cod2': 70, 'bigshep79': 54, 'five': 28, 'tut': 63, 'croatan': 17, 'engraçados': 18, 'godietzy.com': 24, 'promod': 63, 'hero': 113, 'pentium': 26, 'bouncing': 63, 'phantom': 55, 'phone': 17, 'peace': 60, 'vid': 16, 'ati': 25, 'lmao': 11, '13': 24, 'x4': 12, 'سعودي': 19, 'jusone': 10, 'h1': 55, 'super': 37, 'creed': 30, 'cheating': 51, 'h2': 55, 'vega': 13, 'melodic': 60, 'fear': 45, 'winterguard': 17, 'treyarch': 76, 'credit': 37, '5': 148, 'flight': 33, 'photoshop': 18, 'suspense': 37, 'smash': 28, 'forge': 10, 'killing': 27, 'frogsta': 28, 'sanandreas': 18, 'gunsnfun': 18, 'record': 63, 'thehaloforum': 55, 'quick': 26, 'usb': 11, 'sony': 49, 'acesslaya27': 28, 'headphone': 12, 'logvinov': 30, 'codmw': 17, 'beast': 21, 'film': 36, 'ghost': 118, 'jupiter': 13, 'silent': 45, '█▬█': 12, 'the4mat': 10, 'lord': 51, 'scope': 81, 'ii': 51, 'movie': 108, 'csgo': 25, 'clancys': 30, 'drive': 27, 'diving': 13, 'fails': 27, 'rofl': 11, 'war': 182, 'фильмы': 30, 'moment': 27, 'wii': 76, 'supralightning': 60, 'league': 25, 'brosator': 41, '.': 121, 'thorughts': 25, '%': 16, 'demo': 63, 'usbgecko': 11, 'darkside': 10, 'игры': 30, 'general': 12, 'modern': 301, 'bind': 63, 'effect': 72, 'sailfish': 13, 'yay': 18, 'tutorial': 163, 'painkillerq8': 19, 'battlefield': 43, 'mlg': 54, 'pellet': 17, '6': 45, 'silly': 22, 'soulidium': 60, '▀█▀': 12, 'youtube': 60, 'm40a3': 26, 'furry': 13, 'emblem': 33, 'talent': 60, 'ex': 45, 'usa': 21, 'advanced': 29, 'fall': 60, 'day': 60, 'cod5': 46, 'bug': 70, 'mta': 17, 'terrarium': 41, 'snr': 21, 'bush': 60, 'sarti': 12, 'under': 63, 'ingame': 41, 'tobuscus': 54, 'the_dpo': 24, 'tiro': 17, 'reita': 17, 'special': 27, 'видеоигры': 30, '2': 99, 'nukem': 45, 'creation': 10, '88': 11, 'jay': 41, 'tip': 118, 'craig': 22, 'track': 37, 'highlight': 22, 'onnen': 24, 'inkslasher': 33, 'scootiee': 10, 'playstation': 244, 'apfaq': 17, 'nazi': 68, 'n9ne': 60, 'richiewallace1983': 13, 'inkslasher44': 33, '2003': 18, 'infinity': 30, 'painkiller': 19, 'punk': 60, 'антон': 30, 'juegos': 31, 'der': 68, 'default': 51, 'slipknot': 60, 'chased': 14, 'solid': 55, 'skit': 12, 'kart': 37, 'quickscoping': 26, 'crysis': 45, 'metal': 119, 'mackd': 54, 'kataklysmyk': 11, 'own8ge': 13, 'toten': 28, 'teacup': 17, 'speedy': 54, 'teamkill': 12, 'assassin': 30, 'lensen': 41, 'mattyjones380': 18, 'c': 41, 'youtuber': 33, 'boy': 60, 'animal': 13, 'protest': 60, 'g25': 27, 'mejia': 12, 'remastered': 26, 'lobby': 25, 'grace': 60, 'sizzurp94': 25, 'sa-mp': 17, 'nacht': 28, 'hetoan2': 11, 'shotgun': 21, 'liberty': 55, 'trophy': 10, 'hd': 90, 'hardi': 41, 'yote': 28, 'steam': 28, 'benjamin': 60, 'boost': 25, 'اكس': 19, 'squeaker': 51, 'bigh': 54, 'iphone': 41, 'warface': 45, 'smits': 41, 'zoeira': 18, 'diy': 17, 'deus': 45, 'hardcore': 22, 'pwnage': 13, 'evil': 45, 'bungle': 11, 'map': 73, 'fc3s': 20, 'el': 15, 'punch': 11, 'stachelhaus': 41, 'lag': 51, 'tr': 54, 'han': 37, 'high': 107, 'thf': 55, 'model': 21, 'shoot': 19, 'montage': 224, 'window': 27, 'best': 129, 'kyr': 54, 'dublagem': 18, 'infinityward': 37, 'franz': 12, 'painkiller_q8': 19, 'hetoan': 11, 'guy': 18, 'speaker': 12, 'melhores': 18, 'freeze': 51, 'switching': 51, 'peter': 41, 'mg': 55, 'snow': 37, 'mazadox': 24, 'gtav': 22, 'machinima': 92, 'spielen': 41, 'inducted': 51, 'icetea': 41, 'schudar': 30, 'glitch': 149, '77': 60, 'momentos': 18, 'confirmed': 51, 'inductedgolem71': 51, 'origin': 45, 'gamersnack': 19, 'smart': 17, 'achievement': 10, 'car': 14, 'goldeneye': 12, 'dietz': 24, 'respawn': 81, 'play': 134, 'reborn': 45, 'dualtage': 63, 'john': 30, 'eater': 55, 'king': 51, 'hardstyle': 12, 'brawl': 28, 'callofduty': 18, 'icetube': 41, 'sport': 18, 'glitching': 51, 'chris': 41, 'news': 82, 'mugenfailure': 20, 'microsoft': 30, 'indy': 17, '402thunder402': 51, 'windowsxp': 18, 'cool': 31, 'surround': 12, 'rtcw': 11, 'unlimited': 27, 'jones': 18, 'fps': 101, 'expert': 28, 'cat': 13, '89': 60, 'h4': 55, 'stream': 27, 'amazing': 106, 'ground': 55, 'обзоры': 30, 'exploit': 74, 'destroy': 66, 'bo2': 17, 'kid': 11, 'dpo': 24, 'galaxi': 14, 'العاب': 19, 'nirvana': 60, 'brasil': 18, 'awsome': 18, 'top': 19, 'delta': 20, 'review': 40, 'reitaangel': 17, 'edit': 64, 'vanoss': 54, '343i': 55, 'anniversary': 55, 'imyours4life': 17, 'failure': 20, '1uz-fe': 20, 'xp500': 12, 'chief': 55, 'pietsmiet': 41, 'artist': 37, 'uncharted': 30, 'chemical': 60, 'gh5': 16, 'sniper': 42, 'abileen27': 20, 'cod': 298, 'h3': 55, 'classical': 60, 'gemini': 45, 'raider': 45, 'ramos': 54, 'filmmaking': 17, 'mexico': 15, '14': 24, 'snack': 19, 'warfare': 288, 'fs2004': 19, 'siz': 25, 'جيمر': 19, 'rosto': 18, 'brendon': 20, 'videogames': 35, 'call': 560, 'ownage': 18, 'zoera': 18, 'old': 11, 'mazarini': 24, 'minitage': 70, 'classic': 14, 'anton': 30, 'fandom': 12, 'shangri': 28, 'highest': 24, 'dietrich': 24, ']': 45, 'hip': 19, 'rock': 35, 'jonathan': 41, 'cereal': 24, 'solution': 20, '3': 115, 'chat': 30, 'wi-fi': 15, 'great': 15, 'supra': 14, 'band': 40, 'zejim': 54, 'ramadi': 17, 'director': 30, 'leopard': 37, '343': 55, 'walkthrough': 32, 'hl2': 14, 'zuera': 18, 'suhlly': 54, 'perfect': 54, 'cliff': 55, 'zombie': 48, 'mitchell': 20, 'comedian': 11, 'whole9': 10, 'ascension': 28, 'community': 17, 'snook': 13, '100': 16, 'comedy': 58, 'mafia': 30, 'moh': 12, 'opening': 33, 'логвинов': 30, '2007': 18, 'red': 11, 'xmitchell': 20, 'luke': 12, 'mac': 37, 'bounce': 63, 'la': 28, 'pacific': 19, 'let': 116, 'im': 17, 'motor': 20, 'clan': 40, 'intel': 15, 'straight': 54, 'nova': 54, 'world': 185, 'pursuit': 14, 'objective': 27, 'vr': 55, 'runescape': 12, 'life': 31, 'gecko': 11, 'kevin': 12, 'subsistence': 55, 'mejor': 15, 'moviemaker': 24, 'killer': 24, 'score': 21, 'thing': 33, 'match': 51, 'tdu': 27, 'apple': 37, 'doodlepop': 55, 'sepic': 41, 'hiphop': 10, 'redublagem': 18, 'console': 63, 'nhl': 24, 'codjumper': 63, 'جيمرز': 19, 'force': 12, 'snipe': 71, 'bb': 17, 'retro': 11, 'df': 15, 'humour': 13, 'division': 30, 'bungie': 55, 'christian': 41, 'fob': 19, 'lady': 60, 'album': 37, 'hunter': 28, 'hack': 75, 'ninja': 12, 'bubbaduckling': 11, 'tage': 63, 'ps1': 55, 'subscribe': 12, 'versus': 33, 'kill': 98, 'black': 323, 'zueira': 18, 'stevy': 24, 'f.e.a.r': 45, 'fala': 18, 'protagonista': 18, 'faded': 20, 'robie2205': 12, 'jumping': 63, '_geminis_': 45, 'sevenfold': 60, 'tuning': 14, 'v': 94, 'poolshark403': 10, 'short': 17, 'son': 55, 'untoten': 28, 'x': 37})"
      ]
     },
     "execution_count": 95,
     "metadata": {},
     "output_type": "execute_result"
    }
   ],
   "source": [
    "H =g.copy()\n",
    "for node in H.nodes():\n",
    "    if g.degree(node)<10:\n",
    "        g.remove_node(node)\n",
    "\n",
    "g.degree()\n",
    "#all_degrees=g.degree()\n",
    "#to_remove = [n for n in all_degrees if all_degrees[n].values() > 10]\n",
    "#to_remove\n",
    "#g.remove_nodes_from(to_remove)"
   ]
  },
  {
   "cell_type": "code",
   "execution_count": 98,
   "metadata": {},
   "outputs": [],
   "source": [
    " nx.write_gexf(g, \"test3.gexf\")"
   ]
  },
  {
   "cell_type": "code",
   "execution_count": 90,
   "metadata": {},
   "outputs": [
    {
     "data": {
      "text/plain": [
       "index    117.5\n",
       "0          6.0\n",
       "Name: 0.75, dtype: float64"
      ]
     },
     "execution_count": 90,
     "metadata": {},
     "output_type": "execute_result"
    }
   ],
   "source": [
    "#find maximum and minimum degree \n",
    "degrees = [val for (node, val) in g.degree()]\n",
    "ctr=collections.Counter(degrees)\n",
    "#find third quartile in degree\n",
    "df2 = pd.DataFrame.from_dict(ctr,orient='index').reset_index()\n",
    "df2.quantile(0.75)"
   ]
  },
  {
   "cell_type": "code",
   "execution_count": 65,
   "metadata": {},
   "outputs": [],
   "source": [
    "a=lemmatizer.lemmatize('drumming')"
   ]
  },
  {
   "cell_type": "code",
   "execution_count": 76,
   "metadata": {},
   "outputs": [
    {
     "data": {
      "text/plain": [
       "891"
      ]
     },
     "execution_count": 76,
     "metadata": {},
     "output_type": "execute_result"
    }
   ],
   "source": [
    "len(g)"
   ]
  },
  {
   "cell_type": "code",
   "execution_count": 97,
   "metadata": {},
   "outputs": [],
   "source": [
    "g.add_node('call of duty', type='keyword')# Add the 'merged' node\n",
    "nodes=['call', 'duty']    \n",
    "\n",
    "for n1,n2,data in H.edges(data=True):\n",
    "    # For all edges related to one of the nodes to merge,\n",
    "    # make an edge going to or coming from the `new gene`.\n",
    "    if n1 in nodes:\n",
    "        g.add_edge('call of duty',n2)\n",
    "    elif n2 in nodes:\n",
    "        g.add_edge(n1,'call of duty')\n",
    "\n",
    "for n in nodes: # remove the merged nodes\n",
    "    g.remove_node(n)"
   ]
  },
  {
   "cell_type": "code",
   "execution_count": 84,
   "metadata": {},
   "outputs": [
    {
     "name": "stdout",
     "output_type": "stream",
     "text": [
      "True\n"
     ]
    }
   ],
   "source": [
    "if 'help' in g.nodes():\n",
    "    print (True)"
   ]
  },
  {
   "cell_type": "code",
   "execution_count": null,
   "metadata": {},
   "outputs": [],
   "source": []
  }
 ],
 "metadata": {
  "kernelspec": {
   "display_name": "Python 3",
   "language": "python",
   "name": "python3"
  },
  "language_info": {
   "codemirror_mode": {
    "name": "ipython",
    "version": 3
   },
   "file_extension": ".py",
   "mimetype": "text/x-python",
   "name": "python",
   "nbconvert_exporter": "python",
   "pygments_lexer": "ipython3",
   "version": "3.5.2"
  }
 },
 "nbformat": 4,
 "nbformat_minor": 2
}
