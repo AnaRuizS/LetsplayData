{
 "cells": [
  {
   "cell_type": "markdown",
   "metadata": {},
   "source": [
    "# Channels' tags network"
   ]
  },
  {
   "cell_type": "code",
   "execution_count": 264,
   "metadata": {},
   "outputs": [],
   "source": [
    "import os\n",
    "import shlex\n",
    "import json\n",
    "import csv\n",
    "import nltk\n",
    "import itertools\n",
    "import networkx as nx\n",
    "import pandas as pd\n",
    "import collections\n",
    "\n",
    "from nltk.corpus import stopwords\n",
    "from nltk.stem import WordNetLemmatizer"
   ]
  },
  {
   "cell_type": "markdown",
   "metadata": {},
   "source": [
    "### Tag network using .json file"
   ]
  },
  {
   "cell_type": "code",
   "execution_count": 235,
   "metadata": {},
   "outputs": [],
   "source": [
    "i=0\n",
    "with open(fileName2) as f:\n",
    "    for line in f:\n",
    "        #read each json line as a json dict\n",
    "        json_dict = json.loads(line)\n",
    "        all_keys=[] # all tag/keywords for each channel\n",
    "\n",
    "        if (json_dict['statistics']['viewCount']!='0'):\n",
    "            if 'keywords' in json_dict['brandingSettings']['channel']:\n",
    "                try:\n",
    "                    for kw in shlex.split(json_dict['brandingSettings']['channel']['keywords']):\n",
    "                        kw_id = kw.lower().replace(\"'\", \"\").replace(\"´\", \"\").replace(\"’\", \"\")\n",
    "                        single_keys=nltk.word_tokenize(kw_id)\n",
    "                        \n",
    "                        for key in single_keys:\n",
    "                            \n",
    "                            if key not in all_keys:\n",
    "                                all_keys.append(key)\n",
    "                                g.add_node(key, type='keyword')\n",
    "\n",
    "                except:\n",
    "                    i+=1\n",
    "                    for kw in json_dict['brandingSettings']['channel']['keywords'].split():\n",
    "                        kw_id = kw.lower().replace(\"'\", \"\").replace(\"´\", \"\").replace(\"’\", \"\")\n",
    "                        single_keys=nltk.word_tokenize(kw_id)\n",
    "                        for key in single_keys:\n",
    "                            if key not in all_keys:\n",
    "                                all_keys.append(key)\n",
    "                                g.add_node(key, type='keyword')\n",
    "\n",
    "            for key in all_keys:\n",
    "                if key in stopwords.words('english'):\n",
    "                    all_keys.remove(key)\n",
    "            edges= itertools.combinations(all_keys,2)\n",
    "            g.add_edges_from(edges)\n",
    "            \n",
    "        i+=1\n",
    "        if (i==100):\n",
    "            break"
   ]
  },
  {
   "cell_type": "markdown",
   "metadata": {},
   "source": [
    "### Tag network using .csv file"
   ]
  },
  {
   "cell_type": "code",
   "execution_count": 373,
   "metadata": {},
   "outputs": [],
   "source": [
    "def create_tag_network(fileName, quantile, g, limit):\n",
    "    j=0\n",
    "    lemmatizer = WordNetLemmatizer()\n",
    "    df=pd.read_csv(fileName)\n",
    "    df = df[df.views>quantile]\n",
    "    df=df.sort_values(by=['views'],ascending=False)\n",
    "\n",
    "    for n in range(0,len(df)):\n",
    "        all_keys=[] # all tag/keywords for each channel without repetition\n",
    "        try:\n",
    "            if(df.keywords[n]!=\"\"):\n",
    "\n",
    "                try:\n",
    "                    for kw in shlex.split(df.keywords[n]):\n",
    "                        kw_id = kw.lower().replace(\"'\", \"\").replace(\"´\", \"\").replace(\"’\", \"\")\n",
    "                        single_keys=nltk.word_tokenize(kw_id)\n",
    "                        for key in single_keys:\n",
    "                            key2=lemmatizer.lemmatize(key)\n",
    "                            if key2 not in all_keys:\n",
    "                                all_keys.append(key2)\n",
    "\n",
    "                except:\n",
    "                    for kw in df.keywords[n].split():\n",
    "                        kw_id = kw.lower().replace(\"'\", \"\").replace(\"´\", \"\").replace(\"’\", \"\")\n",
    "                        single_keys=nltk.word_tokenize(kw_id)\n",
    "                        for key in single_keys:\n",
    "                            key2=lemmatizer.lemmatize(key)\n",
    "                            if key2 not in all_keys:\n",
    "                                all_keys.append(key2)\n",
    "                \n",
    "                #remove english stopwords and add to graph\n",
    "                for key in all_keys:\n",
    "                    if key in stopwords.words('english'):\n",
    "                        all_keys.remove(key)\n",
    "                    else:\n",
    "                        if g.has_node(key):\n",
    "                            g.node[key]['weight']+=1\n",
    "                        else:\n",
    "                            g.add_node(key, type='keyword', weight=1 )\n",
    "                        \n",
    "                #add all edges (all keywords appearing together will be connected)\n",
    "                edges= itertools.combinations(all_keys,2)\n",
    "                \n",
    "                for edge in edges:\n",
    "                    #if the edge exist add +1 weight\n",
    "                    if g.has_edge(edge[0],edge[1]):\n",
    "                        g[edge[0]][edge[1]]['weight'] += 1\n",
    "                    else:\n",
    "                        g.add_edge(edge[0],edge[1], weight=1)            \n",
    "                \n",
    "                #filter just first limit number of channels\n",
    "#                 j+=1\n",
    "#                 if (j==limit):\n",
    "#                     break\n",
    "        except:\n",
    "            continue       "
   ]
  },
  {
   "cell_type": "markdown",
   "metadata": {},
   "source": [
    "### Get degree quantile to filter information"
   ]
  },
  {
   "cell_type": "code",
   "execution_count": 270,
   "metadata": {},
   "outputs": [],
   "source": [
    "def get_quantile(q_edge, gf):\n",
    "    #find maximum and minimum degree \n",
    "    degrees = [val for (node, val) in gf.degree()]\n",
    "    ctr=collections.Counter(degrees)\n",
    "    #find third quartile in degree\n",
    "    df2 = pd.DataFrame.from_dict(ctr,orient='index').reset_index()\n",
    "    q=df2.quantile(q_edge)\n",
    "    return float(q.values[1])"
   ]
  },
  {
   "cell_type": "markdown",
   "metadata": {},
   "source": [
    "## Merge nodes "
   ]
  },
  {
   "cell_type": "code",
   "execution_count": 271,
   "metadata": {},
   "outputs": [],
   "source": [
    "def merge_nodes(new_node, node_list, gf):\n",
    "    H =gf.copy()\n",
    "    gf.add_node(new_node, type='keyword') # Add the 'merged' node   \n",
    "\n",
    "    for n1,n2,data in H.edges(data=True):\n",
    "        # For all edges related to one of the nodes to merge,\n",
    "        # make an edge going to or coming from the `new gene`.\n",
    "        if n1 in node_list:\n",
    "            g.add_edge(new_node,n2)\n",
    "        elif n2 in node_list:\n",
    "            g.add_edge(n1,new_node)\n",
    "\n",
    "    for n in node_list: # remove the merged nodes\n",
    "        gf.remove_node(n)"
   ]
  },
  {
   "cell_type": "markdown",
   "metadata": {},
   "source": [
    "### Create network using file name"
   ]
  },
  {
   "cell_type": "code",
   "execution_count": 374,
   "metadata": {},
   "outputs": [],
   "source": [
    "fileNames=['minecraft', 'overwatch','agario', 'LOL', 'callOD','fivenaf','pkgo','roblox', 'gta','happyW']\n",
    "data_folder_channels='/media/aruiz/data/channels_clean_data/'\n",
    "fileName2=os.path.join(data_folder_channels,'all_channels_clean.csv')\n",
    "g = nx.Graph()\n",
    "create_tag_network(fileName2, 42261, g, 400)       "
   ]
  },
  {
   "cell_type": "code",
   "execution_count": 333,
   "metadata": {},
   "outputs": [],
   "source": [
    "H =g.copy()\n",
    "q=get_quantile(0.75,g)\n",
    "for node in H.nodes():\n",
    "    if g.degree(node)< q:\n",
    "        g.remove_node(node)"
   ]
  },
  {
   "cell_type": "code",
   "execution_count": 375,
   "metadata": {},
   "outputs": [
    {
     "name": "stdout",
     "output_type": "stream",
     "text": [
      "23373\n",
      "20.0\n"
     ]
    }
   ],
   "source": [
    "print(len(g))\n",
    "print(q)"
   ]
  },
  {
   "cell_type": "code",
   "execution_count": 291,
   "metadata": {},
   "outputs": [],
   "source": [
    "#minecraft --- node merging\n",
    "merge_nodes('lets play',['let','play'],g)\n",
    "merge_nodes('gta V',['gta','v'],g)\n",
    "merge_nodes('call of duty',['call','duty'],g)"
   ]
  },
  {
   "cell_type": "code",
   "execution_count": 292,
   "metadata": {},
   "outputs": [],
   "source": [
    "nx.write_gexf(g, \"testG.gexf\")"
   ]
  },
  {
   "cell_type": "code",
   "execution_count": 383,
   "metadata": {},
   "outputs": [],
   "source": [
    "english_vocab = set(w.lower() for w in nltk.corpus.words.words())\n",
    "spanish_vocab=set(w.lower() for w in nltk.corpus.cess_esp.words())\n",
    "esp=[]\n",
    "eng=[]\n",
    "other=[]\n",
    "w=0\n",
    "c=0\n",
    "for node, d in g.nodes(data=True):\n",
    "    try:\n",
    "        if d['weight']>2:\n",
    "            if node in english_vocab:\n",
    "                eng.append(node)\n",
    "            elif node in spanish_vocab:\n",
    "                esp.append(node)\n",
    "            else:\n",
    "                other.append(node)\n",
    "    except:\n",
    "        continue"
   ]
  },
  {
   "cell_type": "code",
   "execution_count": 400,
   "metadata": {},
   "outputs": [
    {
     "name": "stdout",
     "output_type": "stream",
     "text": [
      "['(', 'com', 'минекрафт', 'dr', '4d', 'ゆっくり実況', 'pb', 'youtubeur', '2b2t', 'soundtrack', '1.10.2', 'mmorpg', 'frags', 'iv', 'brony', 'ep', 'bigfoot', 'przygody', 'modded', '2015', 'thepals', 'dicas', 'deutsche', 'spiele', 'glp', 'arten', 'teso', 'fnaf', 'kunst', 'rp', 'miley', 'montaż', 'hardstyle', 'fps', 'retrogaming', 'deviantart', 'howto', 'gopro', 'blackops3', 'мини', 'rockstar', 'kong', 'teamfortress2', 'игр', 'học', '720', 'aphmau', 'montreal', 'iballisticsquid', 'graciosos', '4k', 'crossfire', 'suisse', 'garrysmod', 'academia', '當個創世神', 'го', 'постройки', 'ftb', 'ssp', 'elrubius', 'skyblock', '2016', 'pvr', 'astuce', 'игры', 'bmx', 'loquendo', 'nhl', 'laptop', 'ogn', 'ireland', 'приколы', 'マインクラフト', 'makeup', 'jogo', 'warhammer', 'servidores', 'ماينكرافت', 'pe', 'マリオ', 'vid', '教學', 'gameplayer', 'deutschland', 'survivalgames', 'hry', 'ssbm', 'teenager', 'ty', 'летсплей', 'tecnico', '1.7', 'fallout', 'xbl', 'oopsclub', 'saicopvp', 'titanfall', 'pikachu', 'activision', 'tuto', 'trolled', 'gregtech', 'crysis', 'gameplays', 'tutorijali', 'chaîne', '♥', 'melhores', 'gaymer', 'skywar', 'gameing', 'facecam', 'mexico', 'как', 'vanossgaming', 'tipps', 'sc2', 'дети', 'майнкрафте', 'kootra', 'letsplay', 'parodie', 'astro', 'пвп', 'wr', 'ets2', 'xp', 'spain', 'voiceover', 'marcus', 'bo2', 'l4d', 'tgn', 'vinesauce', 'harddance', 'witcher', 'holasoygerman', 'овервоч', '1.11', 'msr', 'ac', 'odcinki', 'melagoodo', 'cosmicpvp', 'co-op', 'podcast', 'popularmmos', '1.10', 'asdf', 'quickscoping', '実況', 'bf3', 'bro', '3000', 'harlem', 'drôle', 'майнкрафт', '遊戲', 'francais', 'smp', 'lololoshka', 'esports', 'agar.io', 'tobygames', 'играем', 'nerd', 'ops', 'gamergirl', '2.0', 'tecnologia', 'esport', 'пе', 'osx', 'roadhog', 'direwolf20', 'suomalainen', 'guias', 'pg', 'rire', 'авто', 'yt', 'fuck', 'mgo', 'сериал', '1.6.4', 'chillstep', 'reggae', 'tutoriel', 'pvz', 'eminem', 'все', 'role-playing', 'présentation', 'al-quran', 'lucio', 'greatest', 'vlogi', 'dantdm', 'dansk', 'mineplex', 'pokemongo', '101', 'folgen', 'darth', 'm3rkmus1c', '1.4', 'nfl', 'intro', 'ماين', 'gamemeneer', 'лололошка', 'astroneer', 'filmmaker', 'edm', 'tik', 'chicago', 'vids', 'undertale', 'mmd', 'modding', 'lustig', 'dubstep', 'mooselife', 'inc', 'epcot', 'tobuscus', 'playstation', 'ufc', 'walkthrough', 'прохождение', 'macbook', 'dublagem', 'bosna', 'tps', 'glitch', 'texturas', 'ゆっくり', 'zarya', 'cpu', 'kinect', 'programming', 'torbjörn', 'mcpvp', 'multimedia', 'donut', 'cesky', 'смешные', 'minecraftpe', 'surfing', 'guildwars2', 'counter-strike', '直播', 'wrx', 'vc', 'chan', 'thewillyrex', 'factorio', 'farhad', 'gtx', 'vn', 'ja', '%', 'descargar', 'rpg', 'hd', 'blog', 'singleplayer', 'mmo', 'vlogging', 'technik', 'joueur', 'remixes', 'machinima', 'livestreaming', 'ufo', 'robinson', 'гайд', 'giochi', 'sims4', '”', 'português', 'chiptune', '1.8', 'crafting', 'logan', 'اون', 'moto', 'lúcio', 'ребенок', 'igrice', 'playlist', 'kinderen', 'zábava', 'speedrun', '1080p', 'mugen', 'dragonballz', 'rwj', 'gronkh', 'digimon', 'musique', 'mlb', 'arduino', 'admin', 'muselk', 'top10', 'minijuegos', 'von', 'comedia', '1.7.2', 'diversão', 'dragonball', 'biking', 'roblox', 'evolved', 'sg', 'derp', 'swearing', 'sidemen', 'онлайн', 'swiftkaratechop', 'op', 'edits', '2017', 'vlogger', 'dbz', 'канал', 'fc', 'прикол', 'deutsch', 'ps3', 'mistercrainer', 'logo', 'omg', 'facebook', 'việt', 'zagrajmy', 'sb', 'zocken', 'dunkey', 'sk', 'editing', '2014', 'баги', 'cg', 'warframe', 'slovenija', 'minetopia', 'wifi', 'dner', 'videogame', 'zylbrad', 'overclocking', 'sssniperwolf', 'gamer', '老皮', 'плей', '1.7.4', 'mojang', 'quinn', 'vevo', 'nasa', 'skybounds', 'skrillex', 'srpski', 'online', 'skydoesminecraft', 'eğlenceli', 'twomad', 'جيمر', 'survie', 'dota2', 'mini-game', 'crainer', 'hrvatska', 'cosplay', 'zyzz', 'explodingtnt', 'bloons', '2.5', 'warthunder', 'ii', 'cyber', 'jeux', 'midi', 'conan', 'messi', 'смешно', 'варс', 'runescape', 'zahir', 'hikabrain', 'nerf', '実況プレイ', 'sunnah', 'weegee', 'fragmovie', '3g', 'mega', 'mw3', 'tahir', 'sims', 'bluexephos', 'gta', 'immortalhd', '1.9', 'мир', 'multi', 'countdown', 'gfx', 'garry', 'sfx', 'skyrim', 'germanletsplay', 'freddiew', 'curiosidades', 'bfbc2', 'ster', '4x4', 'germany', 'sti', '2d', 'модов', 'rezende', 'willyrex', 'etho', 'kid', 'spyro', 'skateboarding', 'demoman', 'industrialcraft', 'ingame', 'avatar', 'funtage', 'hi-rez', 'bitcoin', 'greece', 'leagueoflegends', 'deadmau5', 'annonce', 'карта', 'capcom', 'leage', 'minigames', 'videogames', 'unboxing', 'ssb', 'moosecraft', 'freestyle', '1.6', 'skywars', 'fails', 'tutoriales', 'hetalia', 'filmiki', 'vii', 'aqw', 'ftw', 'youtuber', 'grandmaster', 'musik', 'hq', 'fazeclan', 'meinkraft', 'genji', '[', 'nederland', 'demo', 'fim', 'grappig', 'история', 'pc', 'карты', 'pickaxe', 'mmv', 'uberhaxornova', 'játék', 'hcteams', 'slyfoxhound', 'playz', 'про', 'выживание', 'astrokitty', 'chaine', 'eeoneguy', 'aventure', 'peppa', 'obby', 'dva', 'swears', 'guia', 'hypixel', 'engraçados', 'gameuse', 'half-life', 'pixelmon', 'asmr', 'gry', 'commentating', 'эпик', 'spielen', 'animaciones', 'consolas', 'bungie', 'download', 'physik', 'bgm', 'livestream', 'sohinki', 'haha', 'indie', 'camping', 'minecrafting', 'docm77', 'minecraft', 'nano', '마인크래프트', 'новый', 'miniclip', 'kommentar', 'shaytards', 'прохождения', 'garrys', 'hungary', 'playthrough', 'pl', 'adr', 'видеоигры', 'reale', 'и', 'yogscast', 'gomme', 'info', 'русском', 'walktrough', 'yoshi', 'mafia', 'tfc', 'igre', 'crafted', 'моменты', 'mehr', 'sustainability', 'mtg', 'minicraft', 'wtf', 'mcpe', 'rapida', 'yamaha', 'kohi', 'смотреть', 'мультик', '777', 'imac', 'كرافت', 'yandere', 'ijustine', 'обзор', 'wiki', '1v1', 'fala', 'ecw', 'plugin', 'playthroughs', 'ahmad', 'kart', 'türkçe', 'ownage', 'tf', 'atari', 'im', 'vous', 'kirby', 'disney', 'pvp', 'timelapse', 'crazycraft', 'varo', 'newgrounds', 'перевод', 'gohan', 'vg', 'how-to', 'xenoverse', 'trolleos', 'hcf', 'steelseries', ']', 'yolo', 'sm', '搞笑', 'naruto', 'pokken', '實況', 'ets', 'kumar', 'παιχνίδια', 'orisa', 'плэй', 'rollercoaster', 'surefour', 'fraps', 'omegle', 'multiplayer', 'sweden', 'atlantis', 'mlp', 'mashup', 'jb', 'afro', 'europe', 'h1z1', '1.12', 'mc', 'машинима', 'бесплатно', 'kawasaki', 'végigjátszás', 'motocross', 'minecraftpvp', 'frigiel', 'kephrii', 'intel', '1080', 'bhajans', 'headshot', 'с', 'wesker', 'artwork', 'hots', 'pubg', 'gt', 'mapmaking', 'fl', 'fnatic', 'deadpool', 'playerunknowns', 'yaoi', 'engraçado', 'remastered', 'tnt', 'unspeakablegaming', 'comp', 'ps4', 'vr', 'hiphop', 'skyline', 'google', 'vfx', 'xiii', 'modpack', 'dẫn', '오버워치', 'vocaloid', 'sci-fi', 'gmv', 'vareide', 'minecraf', 'darya', 'paintball', 'roleplaying', 'майн', 'vegeta', 'гта', 'qi', '9/11', 'luffy', 'kerbal', 'eggwars', 'mindcrack', 'dlc', 'fandubs', 'jacksepticeye', 'tekkit', 'dallas', 'unboxings', 'diy', 'sfm', 'jerma985', 'retro', 'budowanie', 'стрим', 'chatroulette', 'hermitcraft', 'techno', 'моды', 'noteblock', 'tdm', 'diablo3', '2010', 'minigame', 'hanzo', 'mooseblox', 'ww2', 'd.va', 'кс', 'jeu', 'cz', 'airsoft', 'symmetra', 'goku', 'evi', '創世神', 'rubik', 'junkrat', 'komik', 'юмор', 'monsterschool', 'songwriter', 'craziest', 'br', 'rnb', '生存', '阿神', 'antigos', 'ubisoft', 'pwnage', 'ssohpkc', 'nvidia', 'tejbz', ')', 'survivalcraft', 'ffxiv', 'геймер', 'факты', 'romania', 'cod4', 'aypierre', 'tna', 'blizzcon', 'sega', 'bref', 'ipad', 'popsplit', 'vidéos', 'gw2', 'чит', 'il', 'diablo', 'lasercorn', 'moddé', 'wildlands', 'epicube', 'apps', 'risas', 'vgm', 'zerg', 'callofduty', 'сервер', 'топ', '3.0', 'rct3', '``', 'widowmaker', 'gu', 'htc', 'hg', 'обзоры', 'communautaire', 'rubiks', 'girlgamer', 'videó', 'iddqd', 'psn', 'ytpbr', 'gameplay', 'rewinside', 'rom', 'ssundee', '1.7.10', 'frag', 'herobrine', 'star_', 'wwe', 'mindcraft', 'pixelart', 'protatomonster', 'tryhard', 'угар', 'xbox360', 'gta5', 'fortnite', 'youtubeuse', 'shadder2k', 'malaysia', 'mk', 'hassan', 'bf', 'top5', 'lt', 'meincraft', 'pcgaming', 'türkiye', 'mcsg', 'kombat', 'warefare', 'conconcraft', 'mccree', '97', 'fr', 'gommehd', 'lspdfr', 'bo3', 'обновление', 'zealand', 'luckyblock', 'moba', 'badlion', 'pt', 'shit', 'facepunch', 'plugins', 'nikki', 'mccreamy', 'filmes', 'slovensky', 'قيمر', 'dignitas', 'cloud9', 'divertissement', 'zenyatta', 'battlefront', 'videojuego', 'beyblade', 'игра', 'hungergames', '2018', 'thefantasio974', 'relaxing', 'ttg', 'ゲーム実況', 'délire', 'tutorijal', 'kanal', '8-bit', 'chimneyswift11', 'reallife', '鬥陣特攻', 'polski', '麥塊', 'trackmania', 'beatbox', 'captainsparklez', 'mincraft', 'sjov', 'enderman', 'détente', '360°', 'autodesk', 'synthesia', 'salman', 'pokémon', 'オーバーウォッチ', 'altis', 'bieber', '1.2.5', 'lifestyle', 'vertez', 'metroid', 'stampylongnose', 'česky', 'gamebattles', 'туториал', 'ryan', 'vidéo', 'videoları', 'childrens', 'diep.io', 'dhd', 'hentai', 'spaß', 'roleplay', 'dota', 'torbjorn', 'mma', 'bowser', 'warface', 'livestreams', 'pking', 'shokio', 'jeromeasf', 'spiderman', 'uhc', 'по', 'spongebob', 'noob', '0.16.0', 'ny', 'rezendeevil', 'прятки', 'скай', 'smosh', '마크', 'zabavno', 'skateboard', 'amd', 'irl', 'ap', 'muslim', 'lcs', '8bit', 'du', 'cinematics', 'maison', 'acapella', 'в', 'voxel', 'divertidos', 'instagram', 'cleveland', 'tumblr', 'electronica', 'obama', 'xd', 'viet', 'g27', '&', 'yugioh', 'farcry', 'thailand', 'jogos', 'subnautica', 'speedart', 'ali', '@', 'arkham', 'cydia', 'zelda', 'cody', 'tubettaja', 'vods', 'splatoon', 'dillon', 'reseña', 'lpt', '720p', 'oops', 'elo', 'harley', 'gota', 'youtube', 'eğlence', 'nukem', \"''\", 'suomeksi', 'vimeworld', 'theatlanticcraft', 'kodi', 'nissan', 'otaku', '香港', 'detonado', 'jerma', 'miku', 'смех', 'poradnik', 'slyfox', 'детей', 'gg', 'dk', 'guude', 'speedpaint', 'gamers', 'chơi', 'iii', 'linkzr', '420', 'psp', 'd3', 'polsku', 'ゲーム', 'megadrive', 'сделать', 'stampy', 'zabavan', 'linux', 'bros', '1.3', 'entretenimiento', '게임', 'gta4', 'hax', '2013', 'liam', 'moab', 'girlfriend', 'projekt', 'trucos', 'lgbt', 'iphone', 'oyun', 'henrik', 'l4d2', 'jak', 'wiley', 'lego', 'для', 'nigahiga', 'snes', 'gm', 'griefing', 'texturepack', 'simcity', 'gmod', 'gota.io', 'iw', 'tf2', 'der', 'vlog', 'bioshock', 'троллинг', 'raiding', 'bodybuilding', 'latino', 'aoe', 'pewdiepie', 'let`s', 'rozrywka', 'gaga', 'squeezie', 'audiosurf', 'hướng', 'reinhardt', 'esltv', 'гайды', 'dayz', 'ksp', 'danisnotonfire', 'rechyyy', 'whiteboy7thst', 'coding', 'fullhd', 'mlg', 'komedi', 'm40a3', 'gtav', 'siphano', 'карт', 'hardcore', 'jogando', 'emo', 'buildcraft', 'addons', '3d', 'ржач', 'musica', 'app', 'gangnam', 'тв', 'preston', 'lp', 'multigaming', 'mody', '1.6.2', 'subaru', 'bajancanadian', 'superheroes', 'dnb', 'без', 'minecrafter', 'csgo', 'funniest', 'стримы', 'photoshop', 'reddit', 'shenmue', 'minigry', 'comédia', 'овервотч', 'sparklez', 'thediamondminecart', 'wombo', 'robotic', 'dino', 'модами', 'psvita', 'srbija', 'trending', 'amv', 'ssbb', 'gtr', 'дом', 'механизмы', 'psvr', 'brickfilm', 'maplestory', 'bedwars', 'cyprien', 'malen', 'cs', '360', 'mp3', 'mei', 'agario', 'prezivljavanje', 'dc', 'aqui', 'dspstanky', 'pmv', 'nrg', 'seagull', 'ftp', 'walkthroughs', 'на', 'playing', 'antvenom', 'divertente', 'bionicle', '“', 'cod5', 'e3', 'jaja', 'davis', 'pt-br', 'lucas', 'thaumcraft', 'meme', 'vanoss', 'ost', 'bukkit', 'ultrahardcore', 'geeky', 'daz', 'приключения', 'bored', 'nintendo', '解說', 'afghanistan', 'scifi', 'poradniki', 'doblaje', 'wolfenstein', 'france', 'привет', 'forza', 'série', 'летс', 'ipod', 'drole', 'youtubers', 'rofl', 'wii', 'delire', 'wiiu', 'taimou', 'ивангай', 'syfe', 'playoverwatch', 'niichts', 'parkour', 'awsome', 'oyunlar', 'pixel', '#', 'ytp', 'dokkan', 'amiibo', 'pokemon', 'bollywood', 'tv', 'редстоун', 'suivie', 'analisis', 'samsung', 'loadout', 'gtaiv', 'serveur', 'fandub', 'xbox', 'jailbreak', 'parodia', 'elrubiusomg', 'mythbusters', 'muhammad', 'rc', 'komentator', 'ign', 'combo', 'muzyka', 'лаки', 'clashroyale', 'kawaii', '2011', 'aaa', 'n64', 'rts', 'fifa', 'clancys', 'adc', 'dj', 'roleplays', 'shoutcast', 'العاب', 'stampylonghead', 'śmieszne', 'ctlserv', 'markiplier', 'iem', 'quran', 'standalone', 'futbol', 'nfs', 'aventures', 'français', 'xboxone', 'smartphone', 'fanta', 'e-sports', 'ttt', 'haunted', 'funcraft', 'porn', 'vorstellung', 'linkin', 'redstone', 'скачать', 'découverte', 'lol', '60fps', 'мод', 'flstudio', 'bf1', 'mw2', 'playtrough', 'videogiochi', 'vlogs', 'potg', 'cameron', 'touhou', 'летсплеи', 'nl', 'ez', 'лучшие', 'fx', '我的世界', 'видео', 'ffxi', 'pharah', 'ps2', 'vegetta777', 'trickshotting', 'esl', 'mep', 'stranded', 'seananners', 'hexxit', 'entretenimento']\n"
     ]
    }
   ],
   "source": [
    "print(other)"
   ]
  },
  {
   "cell_type": "code",
   "execution_count": 399,
   "metadata": {},
   "outputs": [
    {
     "data": {
      "text/plain": [
       "{'type': 'keyword', 'weight': 5}"
      ]
     },
     "execution_count": 399,
     "metadata": {},
     "output_type": "execute_result"
    }
   ],
   "source": [
    "g.node['directo']"
   ]
  },
  {
   "cell_type": "code",
   "execution_count": null,
   "metadata": {},
   "outputs": [],
   "source": []
  },
  {
   "cell_type": "code",
   "execution_count": null,
   "metadata": {},
   "outputs": [],
   "source": []
  }
 ],
 "metadata": {
  "kernelspec": {
   "display_name": "Python 3",
   "language": "python",
   "name": "python3"
  },
  "language_info": {
   "codemirror_mode": {
    "name": "ipython",
    "version": 3
   },
   "file_extension": ".py",
   "mimetype": "text/x-python",
   "name": "python",
   "nbconvert_exporter": "python",
   "pygments_lexer": "ipython3",
   "version": "3.5.2"
  }
 },
 "nbformat": 4,
 "nbformat_minor": 2
}
