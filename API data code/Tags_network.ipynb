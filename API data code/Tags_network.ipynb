{
 "cells": [
  {
   "cell_type": "markdown",
   "metadata": {},
   "source": [
    "# Network of channels' tags"
   ]
  },
  {
   "cell_type": "code",
   "execution_count": 2,
   "metadata": {},
   "outputs": [],
   "source": [
    "import os\n",
    "import networkx as nx\n",
    "import shlex\n",
    "import json\n",
    "import csv\n",
    "import nltk\n",
    "import itertools\n",
    "from nltk.corpus import stopwords"
   ]
  },
  {
   "cell_type": "code",
   "execution_count": 3,
   "metadata": {},
   "outputs": [],
   "source": [
    "data_folder_channels='/media/aruiz/data/channels_clean_data/'\n",
    "fileName2=os.path.join(data_folder_channels,'minecraft_ch_data_clean.json')\n",
    "g = nx.Graph()"
   ]
  },
  {
   "cell_type": "code",
   "execution_count": 4,
   "metadata": {},
   "outputs": [],
   "source": [
    "i=0\n",
    "with open(fileName2) as f:\n",
    "        for line in f:\n",
    "            #read each json line as a json dict\n",
    "            json_dict = json.loads(line)\n",
    "            all_keys=[] # all tag/keywords stored\n",
    "            \n",
    "            if (json_dict['statistics']['viewCount']!='0'):\n",
    "                if 'keywords' in json_dict['brandingSettings']['channel']:\n",
    "                    try:\n",
    "                        for kw in shlex.split(json_dict['brandingSettings']['channel']['keywords']):\n",
    "                            kw_id = kw.lower().replace(\"'\", \"\").replace(\"´\", \"\").replace(\"’\", \"\")\n",
    "                            single_keys=nltk.word_tokenize(kw_id)\n",
    "                            for key in single_keys:\n",
    "                                if key not in all_keys:\n",
    "                                    all_keys.append(key)\n",
    "                                    g.add_node(key, type='keyword')\n",
    "\n",
    "                    except:\n",
    "                        i+=1\n",
    "                        for kw in json_dict['brandingSettings']['channel']['keywords'].split():\n",
    "                            kw_id = kw.lower().replace(\"'\", \"\").replace(\"´\", \"\").replace(\"’\", \"\")\n",
    "                            single_keys=nltk.word_tokenize(kw_id)\n",
    "                            for key in single_keys:\n",
    "                                if key not in all_keys:\n",
    "                                    all_keys.append(key)\n",
    "                                    g.add_node(key, type='keyword')\n",
    "                \n",
    "                for key in all_keys:\n",
    "                    if key in stopwords.words('english'):\n",
    "                        all_keys.remove(key)\n",
    "                edges= itertools.combinations(all_keys,2)\n",
    "                g.add_edges_from(edges)"
   ]
  },
  {
   "cell_type": "code",
   "execution_count": 67,
   "metadata": {},
   "outputs": [],
   "source": [
    " nx.write_gexf(g, \"test.gexf\")"
   ]
  },
  {
   "cell_type": "code",
   "execution_count": 6,
   "metadata": {},
   "outputs": [
    {
     "data": {
      "text/plain": [
       "10391"
      ]
     },
     "execution_count": 6,
     "metadata": {},
     "output_type": "execute_result"
    }
   ],
   "source": [
    "#find maximum and minimum degree \n",
    "degrees = [val for (node, val) in g.degree()]\n",
    "max(degrees)"
   ]
  },
  {
   "cell_type": "code",
   "execution_count": 65,
   "metadata": {},
   "outputs": [],
   "source": [
    "isolates=nx.isolates(g)\n",
    "g.remove_nodes_from(isolates)"
   ]
  },
  {
   "cell_type": "code",
   "execution_count": 1,
   "metadata": {},
   "outputs": [
    {
     "ename": "NameError",
     "evalue": "name 'g' is not defined",
     "output_type": "error",
     "traceback": [
      "\u001b[0;31m---------------------------------------------------------------------------\u001b[0m",
      "\u001b[0;31mNameError\u001b[0m                                 Traceback (most recent call last)",
      "\u001b[0;32m<ipython-input-1-137d8d6f9e6d>\u001b[0m in \u001b[0;36m<module>\u001b[0;34m()\u001b[0m\n\u001b[0;32m----> 1\u001b[0;31m \u001b[0msum\u001b[0m\u001b[0;34m(\u001b[0m\u001b[0;36m1\u001b[0m \u001b[0;32mfor\u001b[0m \u001b[0mnodes\u001b[0m \u001b[0;32min\u001b[0m \u001b[0mg\u001b[0m\u001b[0;34m.\u001b[0m\u001b[0mnodes\u001b[0m\u001b[0;34m(\u001b[0m\u001b[0;34m)\u001b[0m\u001b[0;34m)\u001b[0m\u001b[0;34m\u001b[0m\u001b[0m\n\u001b[0m",
      "\u001b[0;31mNameError\u001b[0m: name 'g' is not defined"
     ]
    }
   ],
   "source": [
    "sum(1 for nodes in g.nodes())"
   ]
  },
  {
   "cell_type": "code",
   "execution_count": null,
   "metadata": {},
   "outputs": [],
   "source": [
    "data_folder_channels='/media/aruiz/data/channels_clean_data/'\n",
    "fileName2=os.path.join(data_folder_channels,'minecraft_ch_data_clean.json')\n",
    "df=pd.read_csv(fileName)\n",
    "df = df[df.views!= 0]"
   ]
  }
 ],
 "metadata": {
  "kernelspec": {
   "display_name": "Python 3",
   "language": "python",
   "name": "python3"
  },
  "language_info": {
   "codemirror_mode": {
    "name": "ipython",
    "version": 3
   },
   "file_extension": ".py",
   "mimetype": "text/x-python",
   "name": "python",
   "nbconvert_exporter": "python",
   "pygments_lexer": "ipython3",
   "version": "3.5.2"
  }
 },
 "nbformat": 4,
 "nbformat_minor": 2
}
