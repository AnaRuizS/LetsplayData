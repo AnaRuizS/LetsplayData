{
 "cells": [
  {
   "cell_type": "code",
   "execution_count": 22,
   "metadata": {},
   "outputs": [],
   "source": [
    "import os\n",
    "import networkx as nx\n",
    "import shlex\n",
    "import json\n",
    "import csv\n",
    "import nltk\n",
    "import itertools"
   ]
  },
  {
   "cell_type": "code",
   "execution_count": 30,
   "metadata": {},
   "outputs": [],
   "source": [
    "data_folder_channels='/media/aruiz/data/channels_clean_data/'\n",
    "fileName2=os.path.join(data_folder_channels,'minecraft_ch_data_clean.json')\n",
    "g = nx.Graph()"
   ]
  },
  {
   "cell_type": "code",
   "execution_count": 35,
   "metadata": {},
   "outputs": [],
   "source": [
    "i=0\n",
    "with open(fileName2) as f:\n",
    "        for line in f:\n",
    "            i+=1\n",
    "            if (i==4):\n",
    "                break\n",
    "            json_dict = json.loads(line)\n",
    "            all_keys=[]\n",
    "            if (json_dict['statistics']['subscriberCount']!='0'):\n",
    "                if 'keywords' in json_dict['brandingSettings']['channel']:\n",
    "                    try:\n",
    "                        for kw in shlex.split(json_dict['brandingSettings']['channel']['keywords']):\n",
    "                            kw_id = kw.lower().replace(\"'\", \"\").replace(\"´\", \"\").replace(\"’\", \"\")\n",
    "                            single_keys=nltk.word_tokenize(kw_id)\n",
    "                            for key in single_keys:\n",
    "                                if key not in all_keys:\n",
    "                                    all_keys.append(key)\n",
    "                                    g.add_node(key, type='keyword')\n",
    "\n",
    "                    except:\n",
    "                        for kw in json_dict['brandingSettings']['channel']['keywords'].split():\n",
    "                            kw_id = kw.lower().replace(\"'\", \"\").replace(\"´\", \"\").replace(\"’\", \"\")\n",
    "                            for key in single_keys:\n",
    "                                if key not in all_keys:\n",
    "                                    all_keys.append(key)\n",
    "                                    g.add_node(key, type='keyword')\n",
    "                \n",
    "                edges= itertools.combinations(all_keys,2)\n",
    "                g.add_edges_from(edges)\n",
    "                            "
   ]
  },
  {
   "cell_type": "code",
   "execution_count": 36,
   "metadata": {},
   "outputs": [],
   "source": [
    " nx.write_gexf(g, \"test.gexf\")"
   ]
  },
  {
   "cell_type": "code",
   "execution_count": null,
   "metadata": {},
   "outputs": [],
   "source": []
  },
  {
   "cell_type": "code",
   "execution_count": null,
   "metadata": {},
   "outputs": [],
   "source": []
  },
  {
   "cell_type": "code",
   "execution_count": null,
   "metadata": {},
   "outputs": [],
   "source": []
  }
 ],
 "metadata": {
  "kernelspec": {
   "display_name": "Python 3",
   "language": "python",
   "name": "python3"
  },
  "language_info": {
   "codemirror_mode": {
    "name": "ipython",
    "version": 3
   },
   "file_extension": ".py",
   "mimetype": "text/x-python",
   "name": "python",
   "nbconvert_exporter": "python",
   "pygments_lexer": "ipython3",
   "version": "3.5.2"
  }
 },
 "nbformat": 4,
 "nbformat_minor": 2
}
