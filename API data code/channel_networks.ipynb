{
 "cells": [
  {
   "cell_type": "code",
   "execution_count": 53,
   "metadata": {},
   "outputs": [],
   "source": [
    "import os\n",
    "import csv\n",
    "import nltk\n",
    "import math\n",
    "import shlex\n",
    "import itertools\n",
    "import networkx as nx\n",
    "import pandas as pd\n",
    "import numpy as np\n",
    "import matplotlib.pyplot as plt\n",
    "from string import punctuation\n",
    "from datetime import datetime\n",
    "from nltk.util import ngrams\n",
    "from collections import Counter\n",
    "\n",
    "from pandas import Series\n",
    "from nltk.corpus import stopwords\n",
    "from nltk import word_tokenize\n",
    "from nltk.corpus import words\n",
    "from nltk.stem import WordNetLemmatizer"
   ]
  },
  {
   "cell_type": "markdown",
   "metadata": {},
   "source": [
    "## Clean tags per df"
   ]
  },
  {
   "cell_type": "markdown",
   "metadata": {},
   "source": [
    "### Clean function"
   ]
  },
  {
   "cell_type": "code",
   "execution_count": 306,
   "metadata": {},
   "outputs": [],
   "source": [
    "def clean(s):\n",
    "    r = s.lower().strip()\n",
    "    for c in chars:\n",
    "        r = r.replace(c, ' ')\n",
    "    rs = [w for w in word_tokenize(r) if w not in stop and len(w)>2]\n",
    "    rs = [lemmatizer.lemmatize(w) for w in rs]\n",
    "#     r = ' '.join(rs)\n",
    "#     return list(set(rs))\n",
    "    return rs"
   ]
  },
  {
   "cell_type": "markdown",
   "metadata": {},
   "source": [
    "## Define variables/folders/filenames"
   ]
  },
  {
   "cell_type": "code",
   "execution_count": 257,
   "metadata": {},
   "outputs": [],
   "source": [
    "data_folder_channels='/media/aruiz/data/videos_data/'\n",
    "data_folder='/media/aruiz/data/videos_tags/'\n",
    "filename=os.path.join(data_folder,'tags_videosPerChannel4.csv')\n",
    "fieldnames = ['year', 'channelId','tags','channelTitle', 'previous_community']\n",
    "output=open(filename, 'a')\n",
    "writer = csv.DictWriter(output, fieldnames=fieldnames)\n",
    "# writer.writeheader()\n",
    "\n",
    "community_num=[9,22,85,76,71,37,87]\n",
    "lemmatizer = WordNetLemmatizer()\n",
    "stop= set(stopwords.words('english'))\n",
    "# exclude = set(punctuation)"
   ]
  },
  {
   "cell_type": "markdown",
   "metadata": {},
   "source": [
    "## Save all info in a csv"
   ]
  },
  {
   "cell_type": "code",
   "execution_count": 258,
   "metadata": {},
   "outputs": [
    {
     "name": "stderr",
     "output_type": "stream",
     "text": [
      "/home/aruiz/.virtualenvs/LetsPlayData/lib/python3.5/site-packages/IPython/core/interactiveshell.py:2728: DtypeWarning: Columns (5,9,10,11,12,13,16,17) have mixed types. Specify dtype option on import or set low_memory=False.\n",
      "  interactivity=interactivity, compiler=compiler, result=result)\n"
     ]
    },
    {
     "name": "stdout",
     "output_type": "stream",
     "text": [
      "finished community: 9\n"
     ]
    },
    {
     "name": "stderr",
     "output_type": "stream",
     "text": [
      "/home/aruiz/.virtualenvs/LetsPlayData/lib/python3.5/site-packages/IPython/core/interactiveshell.py:2728: DtypeWarning: Columns (5,9,10,11,12,13,16) have mixed types. Specify dtype option on import or set low_memory=False.\n",
      "  interactivity=interactivity, compiler=compiler, result=result)\n"
     ]
    },
    {
     "name": "stdout",
     "output_type": "stream",
     "text": [
      "finished community: 22\n",
      "finished community: 85\n",
      "finished community: 76\n",
      "finished community: 71\n",
      "finished community: 37\n",
      "finished community: 87\n"
     ]
    }
   ],
   "source": [
    "for ind in range (0,len(community_num)):\n",
    "    \n",
    "    # create csv to read community video tags\n",
    "    file3=os.path.join(data_folder_channels,'data_community_'+str(community_num[ind])+'.csv')\n",
    "    # put data into a dataframe\n",
    "    df=pd.read_csv(file3)\n",
    "    df=df.fillna(\"N/A\")\n",
    "    df=df[~(df['id']=='id')]\n",
    "    df=df.reset_index(drop=True)\n",
    "    \n",
    "    df['year']= df.publishedAt.apply(lambda x: datetime.strptime(x, '%Y-%m-%dT%H:%M:%S.%fZ').year)\n",
    "    \n",
    "    # set chars per df\n",
    "    chars = set()\n",
    "    for tag in df.tags:\n",
    "        for ch in tag:\n",
    "            if not ch.isalpha():\n",
    "                chars.add(ch)\n",
    "                    \n",
    "    df['clean_tags']= df.tags.apply(lambda x: clean(x))\n",
    "    # choose only the tags repeated more than few times\n",
    "\n",
    "    df2=df.groupby(['year','channelId']).clean_tags.apply(lambda x: x.sum())\n",
    "    \n",
    "    df.set_index('channelId', inplace=True)\n",
    "#     df3.drop_duplicates(subset=['channelTitle'], keep='first', inplace= True)\n",
    "    \n",
    "    for params,tags in df2.items():\n",
    "        dc={}\n",
    "        counts= Series(tags)\n",
    "        cou=Counter(counts).most_common(20)\n",
    "        all_tags=''\n",
    "        for tup in cou:\n",
    "            all_tags+=tup[0]+' '\n",
    "            \n",
    "        dc['year']=params[0]\n",
    "        dc['channelId']=params[1]\n",
    "        dc['tags']=all_tags\n",
    "        dc['channelTitle']=df.at[params[1], 'channelTitle'][0]\n",
    "        dc['previous_community']=community_num[ind]\n",
    "        #write each dictionary in a csv file\n",
    "        writer.writerow(dc)\n",
    "        \n",
    "    print('finished community: '+ str(community_num[ind]))\n",
    "    \n",
    "output.close()"
   ]
  },
  {
   "cell_type": "code",
   "execution_count": null,
   "metadata": {},
   "outputs": [],
   "source": []
  },
  {
   "cell_type": "markdown",
   "metadata": {},
   "source": [
    "## Read csv and create a network by year"
   ]
  },
  {
   "cell_type": "code",
   "execution_count": 161,
   "metadata": {},
   "outputs": [],
   "source": [
    "data_folder='/media/aruiz/data/videos_tags/'\n",
    "file=os.path.join(data_folder,'tags_videosPerChannel4.csv')\n",
    "df=pd.read_csv(file)"
   ]
  },
  {
   "cell_type": "code",
   "execution_count": 174,
   "metadata": {},
   "outputs": [
    {
     "name": "stderr",
     "output_type": "stream",
     "text": [
      "/home/aruiz/.virtualenvs/LetsPlayData/lib/python3.5/site-packages/ipykernel_launcher.py:4: SettingWithCopyWarning: \n",
      "A value is trying to be set on a copy of a slice from a DataFrame.\n",
      "Try using .loc[row_indexer,col_indexer] = value instead\n",
      "\n",
      "See the caveats in the documentation: http://pandas.pydata.org/pandas-docs/stable/indexing.html#indexing-view-versus-copy\n",
      "  after removing the cwd from sys.path.\n"
     ]
    }
   ],
   "source": [
    "for y in range (2016,2017):\n",
    "    df2=df[df['year']==y]\n",
    "    df2.reset_index(drop=True, inplace=True)\n",
    "    df2['temp']=df2.tags.apply(lambda x: set(str(x).split()))\n",
    "    break"
   ]
  },
  {
   "cell_type": "markdown",
   "metadata": {},
   "source": [
    "## Adding nodes"
   ]
  },
  {
   "cell_type": "code",
   "execution_count": 187,
   "metadata": {},
   "outputs": [],
   "source": [
    "g=nx.Graph()\n",
    "for i in range (0, len(df2)):\n",
    "    g.add_node(df2.channelId[i], Label=df2.channelTitle[i],p_community=int(df2.previous_community[i]))"
   ]
  },
  {
   "cell_type": "markdown",
   "metadata": {},
   "source": [
    "## Adding edges with weight calculation"
   ]
  },
  {
   "cell_type": "code",
   "execution_count": 188,
   "metadata": {},
   "outputs": [],
   "source": [
    "# fanp=['mod', 'machinima', 'montage', 'let', 'walkthrough', 'tutorial']\n",
    "fanp=['game', 'video', 'call', 'duty', 'minecraft', 'grand', 'theft', 'auto',\n",
    "      'agar.io','overwatch','roblox','five', 'nights', 'freddys','pokemon', 'go', 'happy', 'wheels', 'league', 'legends',\n",
    "      'gameplay', 'gaming']"
   ]
  },
  {
   "cell_type": "code",
   "execution_count": 189,
   "metadata": {},
   "outputs": [],
   "source": [
    "for i in range (0, len(df2)-1):\n",
    "    for j in range (i+1,len(df2)):\n",
    "        shared_items=df2.temp[i]&df2.temp[j]\n",
    "        fanTags=[s for s in shared_items if s not in fanp]\n",
    "#         shared_len=len(shared_items)\n",
    "        shared_len=len(fanTags)\n",
    "        if shared_len>2:\n",
    "            g.add_edge(df2.channelId[i],df2.channelId[j], weight=int(shared_len), fanTag=' '.join(fanTags))"
   ]
  },
  {
   "cell_type": "markdown",
   "metadata": {},
   "source": [
    "## Save network in file"
   ]
  },
  {
   "cell_type": "code",
   "execution_count": 181,
   "metadata": {},
   "outputs": [
    {
     "name": "stdout",
     "output_type": "stream",
     "text": [
      "1819\n",
      "165545\n"
     ]
    }
   ],
   "source": [
    "print(len(g.nodes()))\n",
    "print(len(g.edges()))"
   ]
  },
  {
   "cell_type": "code",
   "execution_count": 182,
   "metadata": {},
   "outputs": [],
   "source": [
    "h=g.copy()\n",
    "a=nx.isolates (g)\n",
    "h.remove_nodes_from(a)"
   ]
  },
  {
   "cell_type": "code",
   "execution_count": 183,
   "metadata": {},
   "outputs": [
    {
     "name": "stdout",
     "output_type": "stream",
     "text": [
      "1721\n",
      "165545\n"
     ]
    }
   ],
   "source": [
    "print(len(h.nodes()))\n",
    "print(len(h.edges()))"
   ]
  },
  {
   "cell_type": "code",
   "execution_count": 185,
   "metadata": {},
   "outputs": [],
   "source": [
    "nx.write_gexf(h,\"similarity_videos_ch2016_fanp2.gexf\")"
   ]
  },
  {
   "cell_type": "code",
   "execution_count": 184,
   "metadata": {},
   "outputs": [
    {
     "name": "stdout",
     "output_type": "stream",
     "text": [
      "[('gameplay', 90883), ('play', 48867), ('black', 38152), ('let', 36484), ('ops', 34715), ('funny', 34341), ('cod', 23292), ('gaming', 19651), ('moment', 16373), ('walkthrough', 14695), ('new', 14297), ('xbox', 13934), ('best', 13525), ('gta', 12087), ('warfare', 11159), ('online', 10982), ('one', 9999), ('playthrough', 9858), ('playstation', 7921), ('mod', 7480), ('zombie', 7466), ('multiplayer', 7338), ('live', 6593), ('dlc', 5805), ('montage', 5466), ('sony', 5452), ('entertainment', 4888), ('glitch', 4569), ('commentary', 4560), ('guide', 3687)]\n"
     ]
    }
   ],
   "source": [
    "shared_list=[]\n",
    "for n1,n2,data in h.edges(data=True):\n",
    "    shared_list+=(data['fanTag'].split())\n",
    "most_shared= Counter(Series(shared_list)).most_common()[0:30]\n",
    "print(most_shared)"
   ]
  },
  {
   "cell_type": "code",
   "execution_count": null,
   "metadata": {},
   "outputs": [],
   "source": []
  },
  {
   "cell_type": "markdown",
   "metadata": {},
   "source": [
    "## Count other kinds of fan production "
   ]
  },
  {
   "cell_type": "code",
   "execution_count": 66,
   "metadata": {},
   "outputs": [],
   "source": [
    "def clean_unique(s):\n",
    "    r = s.lower().strip()\n",
    "    for c in chars:\n",
    "        r = r.replace(c, ' ')\n",
    "    rs = [w for w in word_tokenize(r) if w not in stop and len(w)>2]\n",
    "    rs = [lemmatizer.lemmatize(w) for w in rs]\n",
    "    r = ' '.join(list(set(rs)))\n",
    "#     return list(set(rs))\n",
    "    return r+' '"
   ]
  },
  {
   "cell_type": "code",
   "execution_count": 74,
   "metadata": {},
   "outputs": [],
   "source": [
    "data_folder_channels='/media/aruiz/data/videos_data/'\n",
    "data_folder='/media/aruiz/data/videos_tags/'\n",
    "filename=os.path.join(data_folder,'frequency_tags_community_final_lk.csv')\n",
    "fieldnames = ['channelId','year', 'previous_community','counts']\n",
    "output=open(filename, 'a')\n",
    "writer = csv.DictWriter(output, fieldnames=fieldnames)\n",
    "# writer.writeheader()\n",
    "\n",
    "community_num=[9,22,85,76,71,37,87]\n",
    "lemmatizer = WordNetLemmatizer()\n",
    "stop= set(stopwords.words('english'))\n",
    "# exclude = set(punctuation)"
   ]
  },
  {
   "cell_type": "code",
   "execution_count": 50,
   "metadata": {},
   "outputs": [
    {
     "name": "stderr",
     "output_type": "stream",
     "text": [
      "/home/aruiz/.virtualenvs/LetsPlayData/lib/python3.5/site-packages/IPython/core/interactiveshell.py:2728: DtypeWarning: Columns (5,9,10,11,12,13,16,17) have mixed types. Specify dtype option on import or set low_memory=False.\n",
      "  interactivity=interactivity, compiler=compiler, result=result)\n"
     ]
    },
    {
     "name": "stdout",
     "output_type": "stream",
     "text": [
      "finished community: 9\n"
     ]
    },
    {
     "name": "stderr",
     "output_type": "stream",
     "text": [
      "/home/aruiz/.virtualenvs/LetsPlayData/lib/python3.5/site-packages/IPython/core/interactiveshell.py:2728: DtypeWarning: Columns (5,9,10,11,12,13,16) have mixed types. Specify dtype option on import or set low_memory=False.\n",
      "  interactivity=interactivity, compiler=compiler, result=result)\n"
     ]
    },
    {
     "name": "stdout",
     "output_type": "stream",
     "text": [
      "finished community: 22\n",
      "finished community: 85\n",
      "finished community: 76\n",
      "finished community: 71\n",
      "finished community: 37\n",
      "finished community: 87\n"
     ]
    }
   ],
   "source": [
    "for ind in range (0,len(community_num)):\n",
    "    # create csv to read community video tags\n",
    "    file2=os.path.join(data_folder_channels,'data_community_'+str(community_num[ind])+'.csv')\n",
    "    # put data into a dataframe\n",
    "    df=pd.read_csv(file2)\n",
    "    df=df[~(df['id']=='id')]\n",
    "    #------------------------------------------\n",
    "    df=df.fillna(\" \")\n",
    "    if ind==3 or ind==5 or ind==6:\n",
    "        df=df[df['categoryId']=='20']\n",
    "    else:\n",
    "        df=df[df['categoryId']==20]\n",
    "    #------------------------------------------\n",
    "    df=df.reset_index(drop=True)\n",
    "    \n",
    "    df['year']= df.publishedAt.apply(lambda x: datetime.strptime(x, '%Y-%m-%dT%H:%M:%S.%fZ').year)\n",
    "    \n",
    "    # set chars per df\n",
    "    chars = set()\n",
    "    for tag in df.tags:\n",
    "        for ch in tag:\n",
    "            if not ch.isalpha():\n",
    "                chars.add(ch)\n",
    "                    \n",
    "    df['clean_tags']= df.tags.apply(lambda x: clean_unique(x))\n",
    "    # choose only the tags repeated more than few times\n",
    "    \n",
    "    df2=df.groupby(['year','channelId'])\n",
    "    df3=df.groupby(['year','channelId']).clean_tags.sum()\n",
    "    \n",
    "    for params, dic in df2:\n",
    "        x=len(dic)\n",
    "        tags=df3[params[0],params[1]]\n",
    "        count=Counter(Series(tags.split()))\n",
    "        for c in count:\n",
    "            count[c]=count[c]*(100/x)\n",
    "        df3[params[0],params[1]]=count\n",
    "    \n",
    "    df4=df3.groupby('year')\n",
    "    df3=df3.groupby('year').sum()\n",
    "   \n",
    "    for year, dic in df4:\n",
    "        dc={}\n",
    "        x=len(dic)\n",
    "        tag_count=df3[year]\n",
    "        for tag in tag_count:\n",
    "            tag_count[tag]=tag_count[tag]/x\n",
    "#         df3[year]=tag_count\n",
    "        dc['year']=year\n",
    "        dc['previous_community']=community_num[ind]\n",
    "        dc['counts']=tag_count\n",
    "        writer.writerow(dc)\n",
    "    \n",
    "    print('finished community: '+ str(community_num[ind]))\n",
    "    \n",
    "output.close()"
   ]
  },
  {
   "cell_type": "code",
   "execution_count": 68,
   "metadata": {},
   "outputs": [
    {
     "name": "stderr",
     "output_type": "stream",
     "text": [
      "/home/aruiz/.virtualenvs/LetsPlayData/lib/python3.5/site-packages/IPython/core/interactiveshell.py:2728: DtypeWarning: Columns (5,9,10,11,12,13,16,17) have mixed types. Specify dtype option on import or set low_memory=False.\n",
      "  interactivity=interactivity, compiler=compiler, result=result)\n"
     ]
    },
    {
     "name": "stdout",
     "output_type": "stream",
     "text": [
      "finished community: 9\n"
     ]
    },
    {
     "name": "stderr",
     "output_type": "stream",
     "text": [
      "/home/aruiz/.virtualenvs/LetsPlayData/lib/python3.5/site-packages/IPython/core/interactiveshell.py:2728: DtypeWarning: Columns (5,9,10,11,12,13,16) have mixed types. Specify dtype option on import or set low_memory=False.\n",
      "  interactivity=interactivity, compiler=compiler, result=result)\n"
     ]
    },
    {
     "name": "stdout",
     "output_type": "stream",
     "text": [
      "finished community: 22\n",
      "finished community: 85\n",
      "finished community: 76\n",
      "finished community: 71\n",
      "finished community: 37\n",
      "finished community: 87\n"
     ]
    }
   ],
   "source": [
    "for ind in range (0,len(community_num)):\n",
    "    # create csv to read community video tags\n",
    "    file2=os.path.join(data_folder_channels,'data_community_'+str(community_num[ind])+'.csv')\n",
    "    # put data into a dataframe\n",
    "    df=pd.read_csv(file2)\n",
    "    df=df[~(df['id']=='id')]\n",
    "    #------------------------------------------\n",
    "    df=df.fillna(\" \")\n",
    "    if ind==3 or ind==5 or ind==6:\n",
    "        df=df[df['categoryId']=='20']\n",
    "    else:\n",
    "        df=df[df['categoryId']==20]\n",
    "    #------------------------------------------\n",
    "    df=df.reset_index(drop=True)\n",
    "    \n",
    "    df['year']= df.publishedAt.apply(lambda x: datetime.strptime(x, '%Y-%m-%dT%H:%M:%S.%fZ').year)\n",
    "    \n",
    "    # set chars per df\n",
    "    chars = set()\n",
    "    for tag in df.tags:\n",
    "        for ch in tag:\n",
    "            if not ch.isalpha():\n",
    "                chars.add(ch)\n",
    "                    \n",
    "    df['clean_tags']= df.tags.apply(lambda x: clean_unique(x))\n",
    "#     df['clean_titles']=df.tags.apply(lambda x: clean_unique(x))\n",
    "    # choose only the tags repeated more than few times\n",
    "    \n",
    "    df2=df.groupby(['year','channelId'])\n",
    "    df3=df.groupby(['year','channelId']).clean_tags.sum()\n",
    "    \n",
    "    for params, dic in df2:\n",
    "        x=len(dic)\n",
    "        tags=df3[params[0],params[1]]\n",
    "        count=Counter(Series(tags.split()))\n",
    "#         for c in count:\n",
    "#             count[c]=count[c]*(100/x)\n",
    "        df3[params[0],params[1]]=count\n",
    "    \n",
    "#     df4=df3.groupby('year')\n",
    "#     df3=df3.groupby('year').sum()\n",
    "   \n",
    "#     for year, dic in df4:\n",
    "    for params, dic in df3.items():\n",
    "        dc={}\n",
    "#         x=len(dic)\n",
    "#         tag_count=df3[year]\n",
    "#         for tag in tag_count:\n",
    "#             tag_count[tag]=tag_count[tag]/x\n",
    "# #         df3[year]=tag_count\n",
    "        dc['year']=params[0]\n",
    "        dc['previous_community']=community_num[ind]\n",
    "        dc['channelId']=params[1]\n",
    "        dc['counts']=dic\n",
    "        writer.writerow(dc)\n",
    "    \n",
    "    print('finished community: '+ str(community_num[ind]))\n",
    "    \n",
    "output.close()"
   ]
  },
  {
   "cell_type": "code",
   "execution_count": 311,
   "metadata": {},
   "outputs": [],
   "source": [
    "df3=df.groupby(['year','channelId']).clean_tags.sum()"
   ]
  },
  {
   "cell_type": "code",
   "execution_count": 252,
   "metadata": {},
   "outputs": [],
   "source": [
    "%%time\n",
    "df['clean_tags']= df.tags.apply(lambda x: clean_unique(x))"
   ]
  },
  {
   "cell_type": "code",
   "execution_count": 312,
   "metadata": {},
   "outputs": [],
   "source": [
    "for params, dic in df2:\n",
    "    x=len(dic)\n",
    "    tags=df3[params[0],params[1]]\n",
    "    count=Counter(Series(tags.split()))\n",
    "    for c in count:\n",
    "        count[c]=round(count[c]*(100/x),1)\n",
    "    df3[params[0],params[1]]=count"
   ]
  },
  {
   "cell_type": "code",
   "execution_count": 51,
   "metadata": {},
   "outputs": [],
   "source": [
    "df4=df3.groupby('year')\n",
    "df3=df3.groupby('year').sum()"
   ]
  },
  {
   "cell_type": "code",
   "execution_count": 314,
   "metadata": {},
   "outputs": [],
   "source": [
    "for year, dic in df4:\n",
    "    x=len(dic)\n",
    "    tag_count=df3[year]\n",
    "    for tag in tag_count:\n",
    "        tag_count[tag]=round(tag_count[tag]/x,1)\n",
    "        \n",
    "    df3[year]=tag_count"
   ]
  },
  {
   "cell_type": "code",
   "execution_count": 52,
   "metadata": {},
   "outputs": [],
   "source": [
    "df3[2012].most_common(20)"
   ]
  },
  {
   "cell_type": "code",
   "execution_count": 80,
   "metadata": {},
   "outputs": [
    {
     "name": "stderr",
     "output_type": "stream",
     "text": [
      "/home/aruiz/.virtualenvs/LetsPlayData/lib/python3.5/site-packages/IPython/core/interactiveshell.py:2728: DtypeWarning: Columns (5,9,10,11,12,13,16,17) have mixed types. Specify dtype option on import or set low_memory=False.\n",
      "  interactivity=interactivity, compiler=compiler, result=result)\n"
     ]
    },
    {
     "name": "stdout",
     "output_type": "stream",
     "text": [
      "wrote 9\n"
     ]
    },
    {
     "name": "stderr",
     "output_type": "stream",
     "text": [
      "/home/aruiz/.virtualenvs/LetsPlayData/lib/python3.5/site-packages/IPython/core/interactiveshell.py:2728: DtypeWarning: Columns (5,9,10,11,12,13,16) have mixed types. Specify dtype option on import or set low_memory=False.\n",
      "  interactivity=interactivity, compiler=compiler, result=result)\n"
     ]
    },
    {
     "name": "stdout",
     "output_type": "stream",
     "text": [
      "wrote 22\n",
      "wrote 85\n",
      "wrote 76\n",
      "wrote 71\n",
      "wrote 37\n",
      "wrote 87\n"
     ]
    }
   ],
   "source": [
    "for ind in range (0,len(community_num)):\n",
    "    # create csv to read community video tags\n",
    "    file2=os.path.join(data_folder_channels,'data_community_'+str(community_num[ind])+'.csv')\n",
    "    # put data into a dataframe\n",
    "    df=pd.read_csv(file2)\n",
    "    df=df[~(df['id']=='id')]\n",
    "    #------------------------------------------\n",
    "    df=df.fillna(\" \")\n",
    "    if ind==3 or ind==5 or ind==6:\n",
    "        df=df[df['categoryId']=='20']\n",
    "    else:\n",
    "        df=df[df['categoryId']==20]\n",
    "    #------------------------------------------\n",
    "    df=df.reset_index(drop=True)\n",
    "    \n",
    "    df['year']= df.publishedAt.apply(lambda x: datetime.strptime(x, '%Y-%m-%dT%H:%M:%S.%fZ').year)\n",
    "    \n",
    "    # set chars per df\n",
    "    chars = set()\n",
    "    for tag in df.tags:\n",
    "        for ch in tag:\n",
    "            if not ch.isalpha():\n",
    "                chars.add(ch)\n",
    "                    \n",
    "    df['clean_tags']= df.tags.apply(lambda x: clean_unique(x))\n",
    "    \n",
    "    df['previous_community']=community_num[ind]\n",
    "    \n",
    "    with open('frequency_tags_complete.csv', 'a') as f:\n",
    "        df.to_csv(f, index=False)\n",
    "        \n",
    "    print('wrote '+ str(community_num[ind]))"
   ]
  },
  {
   "cell_type": "code",
   "execution_count": null,
   "metadata": {},
   "outputs": [],
   "source": []
  },
  {
   "cell_type": "code",
   "execution_count": 81,
   "metadata": {},
   "outputs": [
    {
     "name": "stderr",
     "output_type": "stream",
     "text": [
      "/home/aruiz/.virtualenvs/LetsPlayData/lib/python3.5/site-packages/IPython/core/interactiveshell.py:2728: DtypeWarning: Columns (5,9,11,16,19,21) have mixed types. Specify dtype option on import or set low_memory=False.\n",
      "  interactivity=interactivity, compiler=compiler, result=result)\n"
     ]
    }
   ],
   "source": [
    "df=pd.read_csv('frequency_tags_complete.csv')"
   ]
  },
  {
   "cell_type": "code",
   "execution_count": 83,
   "metadata": {},
   "outputs": [
    {
     "data": {
      "text/plain": [
       "'map trolling gaming spotlight build review lanceypooh glitch adventure lancey commentary multiplayer mod forge montage popular play troll video quality minecraft funny custom playthrough showcase let survival moment xbox minecart high '"
      ]
     },
     "execution_count": 83,
     "metadata": {},
     "output_type": "execute_result"
    }
   ],
   "source": [
    "df.head().clean_tags[0]"
   ]
  },
  {
   "cell_type": "code",
   "execution_count": 142,
   "metadata": {},
   "outputs": [
    {
     "name": "stdout",
     "output_type": "stream",
     "text": [
      "\n",
      "9\n",
      "Leave a like, helps me out a good bit. http://www.youtube.com/subscription_center?add_user=uberhaxornova\r\n",
      "\r\n",
      "Our first play of the new zombie map.\r\n",
      "\r\n",
      "LINKSSSS: \r\n",
      "\r\n",
      "Twitter:\r\n",
      "http://twitter.com/UberHaxorNova\r\n",
      "\r\n",
      "Sp00ners Page:\r\n",
      "http://www.youtube.com/user/TheCampingTree\r\n",
      "\r\n",
      "Kootras Channel:\r\n",
      "http://www.youtube.com/user/kootra\r\n",
      "\r\n",
      "Minecraft Playlist:\r\n",
      "http://www.youtube.com/view_play_list?p=76FE625737BE2A4C\r\n",
      "\r\n",
      "ALL BLACK OPS ZOMBIES:\r\n",
      "http://tinyurl.com/27cjnez\n",
      "Call of Duty: Black Ops - Escalation Call of the Dead Zombies w/Nova, Kootra & Spoon #36\n",
      "5852.0\n",
      "2011\n",
      "07JfzsDwJQE\n",
      "1864230.0\n",
      "\n",
      "71\n"
     ]
    }
   ],
   "source": [
    "# community_num =[9,22,85,76,71,37,87]\n",
    "community_num =[9,71]\n",
    "exclude=['bqNzbkIHYF8', 'ZTjkUpyBnpA']\n",
    "\n",
    "for n in range (0, len(community_num)):\n",
    "    mxview=-1\n",
    "    idvid=''\n",
    "    description=''\n",
    "    title=''\n",
    "\n",
    "    df3=df[df['previous_community']==community_num[n]]\n",
    "    df3=df3[df3['year']==2011]\n",
    "    df3.reset_index(inplace=True, drop=True)\n",
    "\n",
    "    for i in range (0, len (df3)):\n",
    "        tag=df3.clean_tags[i].split()\n",
    "        if 'montage' in tag:\n",
    "            if df3.viewCount[i]!=' ':\n",
    "                if df3.id[i] not in exclude:\n",
    "                    if (float(df3.viewCount[i]))>mxview:\n",
    "                        mxview=float(df3.viewCount[i])\n",
    "                        idvid=df3.id[i]\n",
    "\n",
    "    print('')\n",
    "    print(community_num[n])\n",
    "    if idvid!='':\n",
    "        print(df2.description[idvid])\n",
    "        print(df2.title[idvid])\n",
    "        print(df2.likeCount[idvid])\n",
    "        print(df2.year[idvid])\n",
    "        print(idvid)\n",
    "        print(mxview)"
   ]
  },
  {
   "cell_type": "code",
   "execution_count": 137,
   "metadata": {},
   "outputs": [
    {
     "data": {
      "text/plain": [
       "'[\\'pvz\\', \\'plants\\', \\'gargantuar boss\\', \\'zombies\\', \\'pvz mod\\', \\'pvz garden warfare\\', \\'plants vs. zombies\\', \\'iulitm\\', \\'fan mods\\', \\'plants vs. zombies garden warfare\\', \\'IULITM\\', \\'FNAC gameplay\\', \\'torture\\', \\'Animatronics Jumpscares\\', \"FNAF Let\\'s Play\"]'"
      ]
     },
     "execution_count": 137,
     "metadata": {},
     "output_type": "execute_result"
    }
   ],
   "source": [
    "df2.tags['ZTjkUpyBnpA']"
   ]
  },
  {
   "cell_type": "code",
   "execution_count": null,
   "metadata": {},
   "outputs": [],
   "source": []
  }
 ],
 "metadata": {
  "kernelspec": {
   "display_name": "Python 3",
   "language": "python",
   "name": "python3"
  },
  "language_info": {
   "codemirror_mode": {
    "name": "ipython",
    "version": 3
   },
   "file_extension": ".py",
   "mimetype": "text/x-python",
   "name": "python",
   "nbconvert_exporter": "python",
   "pygments_lexer": "ipython3",
   "version": "3.5.2"
  }
 },
 "nbformat": 4,
 "nbformat_minor": 2
}
