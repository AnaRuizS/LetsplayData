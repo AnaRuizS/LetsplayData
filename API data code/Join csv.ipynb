{
 "cells": [
  {
   "cell_type": "code",
   "execution_count": 2,
   "metadata": {},
   "outputs": [],
   "source": [
    "import os\n",
    "import json\n",
    "import csv\n",
    "import pandas as pd\n",
    "import numpy as np"
   ]
  },
  {
   "cell_type": "markdown",
   "metadata": {},
   "source": [
    "## Function join csv files"
   ]
  },
  {
   "cell_type": "code",
   "execution_count": 35,
   "metadata": {},
   "outputs": [],
   "source": [
    "def join_csv(file_list,folder_path):\n",
    "\n",
    "    for i in range(0, len(file_list)):\n",
    "        if i==0:\n",
    "            f_csv=os.path.join(folder_path,file_list[i])\n",
    "            df1=pd.read_csv(f_csv)\n",
    "        else:\n",
    "            f_csv=os.path.join(folder_path,file_list[i])\n",
    "            df2=pd.read_csv(f_csv)\n",
    "            df1=df1.append(df2, ignore_index=True)\n",
    "    \n",
    "    return df1"
   ]
  },
  {
   "cell_type": "markdown",
   "metadata": {},
   "source": [
    "## Trying function on a list of channels"
   ]
  },
  {
   "cell_type": "code",
   "execution_count": 36,
   "metadata": {},
   "outputs": [],
   "source": [
    "fileNames=['minecraft', 'overwatch','agario', 'LOL', 'callOD','fivenaf','pkgo','roblox', 'gta','happyW']\n",
    "data_folder_channels='/media/aruiz/data/channels_clean_data/'\n",
    "\n",
    "for i in range(0, len(fileNames)):\n",
    "    fileNames[i]=fileNames[i]+'_data_clean.csv'\n",
    "    \n",
    "df= join_csv(fileNames, data_folder_channels)"
   ]
  },
  {
   "cell_type": "markdown",
   "metadata": {},
   "source": [
    "### Remove duplicates and save to csv file"
   ]
  },
  {
   "cell_type": "code",
   "execution_count": 41,
   "metadata": {},
   "outputs": [],
   "source": [
    "df=df.drop_duplicates(['id'], keep='first') \n",
    "\n",
    "# f_csv1=os.path.join(data_folder_channels,'all_channels_clean.csv')\n",
    "# df.to_csv(f_csv1,encoding='utf-8', index=False)"
   ]
  },
  {
   "cell_type": "code",
   "execution_count": 43,
   "metadata": {},
   "outputs": [
    {
     "data": {
      "text/plain": [
       "0.9    1102179.5\n",
       "Name: views, dtype: float64"
      ]
     },
     "execution_count": 43,
     "metadata": {},
     "output_type": "execute_result"
    }
   ],
   "source": [
    "df.views.quantile([0.9])"
   ]
  },
  {
   "cell_type": "code",
   "execution_count": null,
   "metadata": {},
   "outputs": [],
   "source": []
  }
 ],
 "metadata": {
  "kernelspec": {
   "display_name": "Python 3",
   "language": "python",
   "name": "python3"
  },
  "language_info": {
   "codemirror_mode": {
    "name": "ipython",
    "version": 3
   },
   "file_extension": ".py",
   "mimetype": "text/x-python",
   "name": "python",
   "nbconvert_exporter": "python",
   "pygments_lexer": "ipython3",
   "version": "3.5.2"
  }
 },
 "nbformat": 4,
 "nbformat_minor": 2
}
