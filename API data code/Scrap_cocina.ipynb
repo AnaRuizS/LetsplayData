{
 "cells": [
  {
   "cell_type": "code",
   "execution_count": 95,
   "metadata": {},
   "outputs": [],
   "source": [
    "import bs4 as bs\n",
    "import urllib.request\n",
    "import numpy as np\n",
    "import time\n",
    "import random\n",
    "import os\n",
    "import csv"
   ]
  },
  {
   "cell_type": "markdown",
   "metadata": {},
   "source": [
    "### -------------------------- TESTS ----------------------------------------"
   ]
  },
  {
   "cell_type": "code",
   "execution_count": 281,
   "metadata": {},
   "outputs": [],
   "source": [
    "l=np.array(list(range(22)))+1998"
   ]
  },
  {
   "cell_type": "code",
   "execution_count": 3,
   "metadata": {},
   "outputs": [],
   "source": [
    "source = urllib.request.urlopen('https://www.mugaritz.com/es/resto/fototeca/c-5-51-1999--0/').read()"
   ]
  },
  {
   "cell_type": "code",
   "execution_count": 5,
   "metadata": {},
   "outputs": [],
   "source": [
    "soup=bs.BeautifulSoup(source, 'html5lib')"
   ]
  },
  {
   "cell_type": "code",
   "execution_count": 6,
   "metadata": {},
   "outputs": [
    {
     "data": {
      "text/plain": [
       "<title>Mugaritz, creatividad gastronómica e innovación</title>"
      ]
     },
     "execution_count": 6,
     "metadata": {},
     "output_type": "execute_result"
    }
   ],
   "source": [
    "soup.title"
   ]
  },
  {
   "cell_type": "code",
   "execution_count": 22,
   "metadata": {},
   "outputs": [],
   "source": [
    "images_data = soup.findAll('div', attrs={'class':\" item ms-item\"})"
   ]
  },
  {
   "cell_type": "code",
   "execution_count": 23,
   "metadata": {},
   "outputs": [],
   "source": [
    "for div in mydivs:\n",
    "    print( div )\n",
    "    break"
   ]
  },
  {
   "cell_type": "code",
   "execution_count": 28,
   "metadata": {},
   "outputs": [],
   "source": [
    "foo=soup.find(id='content')\n",
    "bar = foo.findAll('div', attrs={'class':\" item ms-item\"})"
   ]
  },
  {
   "cell_type": "code",
   "execution_count": 48,
   "metadata": {},
   "outputs": [
    {
     "name": "stdout",
     "output_type": "stream",
     "text": [
      "/files/fotos/1405324635_lis.jpg desc:Salmonete asado a la sartén, con alcachofas guisadas en agua de mar, trigueros crocantes crudos y tibios, caldo de cebolleta y romero f_info:FOTO: José Luis López de Zubiría / Mugaritz \n",
      "/files/fotos/1405324423_lis.jpg desc:Cigalas salteadas con tallo de puerro en compota, setas y caldo cremoso de pan \"Poilane\", nata doble y levadura f_info:FOTO: José Luis López de Zubiría / Mugaritz \n"
     ]
    }
   ],
   "source": [
    "for b in bar:\n",
    "    img_src=b.find('img')\n",
    "    src=img_src.attrs['src']\n",
    "    img_desc=b.find('h3')\n",
    "    texts=img_desc.text.split(\"\\n\")\n",
    "    desc=texts[0]\n",
    "    foto_inf=texts[1]\n",
    "    print(src+' desc:'+desc+' f_info:'+foto_inf)"
   ]
  },
  {
   "cell_type": "markdown",
   "metadata": {},
   "source": [
    "### ----------------------------- END TESTS ------------------------------------"
   ]
  },
  {
   "cell_type": "code",
   "execution_count": 116,
   "metadata": {},
   "outputs": [],
   "source": [
    "# imports \n",
    "import os\n",
    "import csv\n",
    "import time\n",
    "import random\n",
    "\n",
    "import bs4 as bs\n",
    "import urllib.request\n",
    "import numpy as np"
   ]
  },
  {
   "cell_type": "code",
   "execution_count": 297,
   "metadata": {},
   "outputs": [],
   "source": [
    "# create folders and files to download csv data\n",
    "folder='/media/aruiz/data/mugaritz_data/'\n",
    "fields=['web_source','local_name','year','description','photo_info','category']\n",
    "filename=os.path.join(folder,'mugaritz_fototeca_es.csv')\n",
    "out=open(filename, 'a')\n",
    "writer = csv.DictWriter(out, fieldnames=fields)\n",
    "writer.writeheader()\n",
    "# url fototeca spanish\n",
    "base_url='https://www.mugaritz.com/es/resto/fototeca/c-5-51-'\n",
    "category=['platos', 'personas', 'restaurante']"
   ]
  },
  {
   "cell_type": "code",
   "execution_count": 306,
   "metadata": {},
   "outputs": [],
   "source": [
    "#collect information in english\n",
    "filename=os.path.join(folder,'mugaritz_fototeca_en.csv')\n",
    "out=open(filename, 'a')\n",
    "writer = csv.DictWriter(out, fieldnames=fields)\n",
    "writer.writeheader()\n",
    "\n",
    "base_url='https://www.mugaritz.com/en/resto/photo-gallery/c-5-51-'\n",
    "category=['dishes', 'people', 'restaurant']"
   ]
  },
  {
   "cell_type": "code",
   "execution_count": 307,
   "metadata": {},
   "outputs": [
    {
     "data": {
      "text/plain": [
       "['dishes', 'people', 'restaurant']"
      ]
     },
     "execution_count": 307,
     "metadata": {},
     "output_type": "execute_result"
    }
   ],
   "source": [
    "category"
   ]
  },
  {
   "cell_type": "code",
   "execution_count": 299,
   "metadata": {},
   "outputs": [],
   "source": [
    "def write_dict_data (bar, writer, folder, cat):\n",
    "    for b in bar:\n",
    "        #image source and download\n",
    "        img_src=b.find('img')\n",
    "        src=img_src.attrs['src']\n",
    "        #find filename of the individual images\n",
    "        source_list=src.split(\"/\")\n",
    "        img_file=source_list[len(source_list)-1]\n",
    "        #create directory with year to store images \n",
    "        img_filename=os.path.join(folder,str(l[i])+'/'+img_file)\n",
    "       \n",
    "        #--------- DOWNLOAD IMAGES ---------\n",
    "        \n",
    "#        #create directory if it doesn't exist\n",
    "#         os.makedirs(os.path.dirname(img_filename), exist_ok=True)\n",
    "\n",
    "#         #wait a random time\n",
    "#         time.sleep(random.uniform(1,6.5))\n",
    "\n",
    "#         #request/download file in website\n",
    "#         f = open(img_filename,'wb')\n",
    "#         f.write(urllib.request.urlopen('https://www.mugaritz.com'+src).read())\n",
    "#         f.close()\n",
    "\n",
    "        #find image metadata\n",
    "        img_desc=b.find('h3')\n",
    "        texts=img_desc.text.split(\"\\n\")\n",
    "        desc=texts[0]\n",
    "        if len(texts)>1:\n",
    "            foto_inf=texts[1]\n",
    "        else:\n",
    "            foto_inf=''\n",
    "\n",
    "        dictio={}\n",
    "        dictio['web_source']=src\n",
    "        dictio['local_name']=img_file\n",
    "        dictio['year']=str(l[i])\n",
    "        dictio['description']=desc\n",
    "        dictio['photo_info']=foto_inf\n",
    "        dictio['category']=cat\n",
    "        \n",
    "        writer.writerow(dictio)\n",
    "    "
   ]
  },
  {
   "cell_type": "code",
   "execution_count": 282,
   "metadata": {},
   "outputs": [],
   "source": [
    "l=np.array(list(range(22)))+1998"
   ]
  },
  {
   "cell_type": "code",
   "execution_count": 300,
   "metadata": {},
   "outputs": [
    {
     "name": "stdout",
     "output_type": "stream",
     "text": [
      "[1998 1999 2000 2001 2002 2003 2004 2005 2006 2007 2008 2009 2010 2011\n",
      " 2012 2013 2014 2015 2016 2017 2018 2019]\n",
      "22\n"
     ]
    }
   ],
   "source": [
    "print(l)\n",
    "print(len(l))"
   ]
  },
  {
   "cell_type": "code",
   "execution_count": 308,
   "metadata": {},
   "outputs": [],
   "source": [
    "for k in range(0, len(category)):\n",
    "    for i in range(0,len(l)):\n",
    "        j=0\n",
    "        # wait a random time until ask web search\n",
    "        time.sleep(random.uniform(1,4.5))\n",
    "        source = urllib.request.urlopen(base_url+str(l[i])+'--'+category[k]+'/').read()\n",
    "\n",
    "        #get html5 source\n",
    "        soup=bs.BeautifulSoup(source, 'html5lib')\n",
    "        foo=soup.find(id='content')\n",
    "        #find gallery item\n",
    "        bar = foo.findAll('div', attrs={'class':\" item ms-item\"})\n",
    "        \n",
    "        #if it's empty do not write csv\n",
    "        if len(bar)!=0:\n",
    "            write_dict_data (bar, writer, folder, category[k])\n",
    "            j=2\n",
    "        \n",
    "        while (len (bar)!=0):\n",
    "            time.sleep(random.uniform(1,4.5))\n",
    "            source = urllib.request.urlopen(base_url+str(l[i])+'--'+category[k]+'/'+'p-'+str(j)+'/').read()\n",
    "\n",
    "            soup=bs.BeautifulSoup(source, 'html5lib')\n",
    "            foo=soup.find(id='content')\n",
    "            bar = foo.findAll('div', attrs={'class':\" item ms-item\"})\n",
    "            \n",
    "            #if it's empty do not write csv\n",
    "            if len(bar)!=0:\n",
    "                write_dict_data (bar, writer, folder, category[k])\n",
    "            \n",
    "            j+=1"
   ]
  },
  {
   "cell_type": "code",
   "execution_count": 309,
   "metadata": {},
   "outputs": [],
   "source": [
    "out.close()"
   ]
  },
  {
   "cell_type": "code",
   "execution_count": null,
   "metadata": {},
   "outputs": [],
   "source": []
  },
  {
   "cell_type": "code",
   "execution_count": 349,
   "metadata": {},
   "outputs": [],
   "source": [
    "import pandas as pd\n",
    "data1= pd.read_csv('/media/aruiz/data/mugaritz_data/mugaritz_fototeca_en.csv')"
   ]
  },
  {
   "cell_type": "code",
   "execution_count": 350,
   "metadata": {},
   "outputs": [
    {
     "data": {
      "text/plain": [
       "452"
      ]
     },
     "execution_count": 350,
     "metadata": {},
     "output_type": "execute_result"
    }
   ],
   "source": [
    "len(data)"
   ]
  },
  {
   "cell_type": "code",
   "execution_count": 303,
   "metadata": {},
   "outputs": [],
   "source": [
    "import pandas as pd\n",
    "data2= pd.read_csv('/media/aruiz/data/mugaritz_data/mugaritz_fototeca_es.csv')"
   ]
  },
  {
   "cell_type": "code",
   "execution_count": 400,
   "metadata": {},
   "outputs": [],
   "source": [
    "from nltk import word_tokenize\n",
    "from nltk.corpus import stopwords\n",
    "from collections import Counter\n",
    "from nltk import WordNetLemmatizer"
   ]
  },
  {
   "cell_type": "code",
   "execution_count": 401,
   "metadata": {},
   "outputs": [],
   "source": [
    "lemmatizer = WordNetLemmatizer()"
   ]
  },
  {
   "cell_type": "code",
   "execution_count": 403,
   "metadata": {},
   "outputs": [
    {
     "data": {
      "text/plain": [
       "'flower'"
      ]
     },
     "execution_count": 403,
     "metadata": {},
     "output_type": "execute_result"
    }
   ],
   "source": [
    "lemmatizer.lemmatize(\"flowers\")"
   ]
  },
  {
   "cell_type": "code",
   "execution_count": 312,
   "metadata": {},
   "outputs": [
    {
     "data": {
      "text/html": [
       "<div>\n",
       "<style scoped>\n",
       "    .dataframe tbody tr th:only-of-type {\n",
       "        vertical-align: middle;\n",
       "    }\n",
       "\n",
       "    .dataframe tbody tr th {\n",
       "        vertical-align: top;\n",
       "    }\n",
       "\n",
       "    .dataframe thead th {\n",
       "        text-align: right;\n",
       "    }\n",
       "</style>\n",
       "<table border=\"1\" class=\"dataframe\">\n",
       "  <thead>\n",
       "    <tr style=\"text-align: right;\">\n",
       "      <th></th>\n",
       "      <th>web_source</th>\n",
       "      <th>local_name</th>\n",
       "      <th>year</th>\n",
       "      <th>description</th>\n",
       "      <th>photo_info</th>\n",
       "      <th>category</th>\n",
       "    </tr>\n",
       "  </thead>\n",
       "  <tbody>\n",
       "    <tr>\n",
       "      <th>0</th>\n",
       "      <td>/files/fotos/1405071378_lis.jpg</td>\n",
       "      <td>1405071378_lis.jpg</td>\n",
       "      <td>1998</td>\n",
       "      <td>Caramelized french toast enriched with cream a...</td>\n",
       "      <td>PHOTO: José Luis López de Zubiría / Mugaritz</td>\n",
       "      <td>dishes</td>\n",
       "    </tr>\n",
       "    <tr>\n",
       "      <th>1</th>\n",
       "      <td>/files/fotos/1405324635_lis.jpg</td>\n",
       "      <td>1405324635_lis.jpg</td>\n",
       "      <td>1999</td>\n",
       "      <td>Rougets grillés à la pôele, artichauts à l'eau...</td>\n",
       "      <td>PHOTO: José Luis López de Zubiría / Mugaritz</td>\n",
       "      <td>dishes</td>\n",
       "    </tr>\n",
       "    <tr>\n",
       "      <th>2</th>\n",
       "      <td>/files/fotos/1405324423_lis.jpg</td>\n",
       "      <td>1405324423_lis.jpg</td>\n",
       "      <td>1999</td>\n",
       "      <td>Sautéed acallops, raw and wrm, in a concentrat...</td>\n",
       "      <td>PHOTO:  José Luis López de Zubiría / Mugaritz</td>\n",
       "      <td>dishes</td>\n",
       "    </tr>\n",
       "    <tr>\n",
       "      <th>3</th>\n",
       "      <td>/files/fotos/1405325211_lis.jpg</td>\n",
       "      <td>1405325211_lis.jpg</td>\n",
       "      <td>2000</td>\n",
       "      <td>Vegetables, oven roasted and raw, sprotus and ...</td>\n",
       "      <td>PHOTO: José Luis López de Zubiría / Mugaritz</td>\n",
       "      <td>dishes</td>\n",
       "    </tr>\n",
       "    <tr>\n",
       "      <th>4</th>\n",
       "      <td>/files/fotos/1405325128_lis.jpg</td>\n",
       "      <td>1405325128_lis.jpg</td>\n",
       "      <td>2000</td>\n",
       "      <td>Baked gilthead bream with hot citrus vinegar  ...</td>\n",
       "      <td>PHOTO: José Luis López de Zubiría / Mugaritz</td>\n",
       "      <td>dishes</td>\n",
       "    </tr>\n",
       "  </tbody>\n",
       "</table>\n",
       "</div>"
      ],
      "text/plain": [
       "                        web_source          local_name  year  \\\n",
       "0  /files/fotos/1405071378_lis.jpg  1405071378_lis.jpg  1998   \n",
       "1  /files/fotos/1405324635_lis.jpg  1405324635_lis.jpg  1999   \n",
       "2  /files/fotos/1405324423_lis.jpg  1405324423_lis.jpg  1999   \n",
       "3  /files/fotos/1405325211_lis.jpg  1405325211_lis.jpg  2000   \n",
       "4  /files/fotos/1405325128_lis.jpg  1405325128_lis.jpg  2000   \n",
       "\n",
       "                                         description  \\\n",
       "0  Caramelized french toast enriched with cream a...   \n",
       "1  Rougets grillés à la pôele, artichauts à l'eau...   \n",
       "2  Sautéed acallops, raw and wrm, in a concentrat...   \n",
       "3  Vegetables, oven roasted and raw, sprotus and ...   \n",
       "4  Baked gilthead bream with hot citrus vinegar  ...   \n",
       "\n",
       "                                       photo_info category  \n",
       "0   PHOTO: José Luis López de Zubiría / Mugaritz    dishes  \n",
       "1   PHOTO: José Luis López de Zubiría / Mugaritz    dishes  \n",
       "2  PHOTO:  José Luis López de Zubiría / Mugaritz    dishes  \n",
       "3   PHOTO: José Luis López de Zubiría / Mugaritz    dishes  \n",
       "4   PHOTO: José Luis López de Zubiría / Mugaritz    dishes  "
      ]
     },
     "execution_count": 312,
     "metadata": {},
     "output_type": "execute_result"
    }
   ],
   "source": [
    "data1.head()"
   ]
  },
  {
   "cell_type": "code",
   "execution_count": 313,
   "metadata": {},
   "outputs": [
    {
     "data": {
      "text/html": [
       "<div>\n",
       "<style scoped>\n",
       "    .dataframe tbody tr th:only-of-type {\n",
       "        vertical-align: middle;\n",
       "    }\n",
       "\n",
       "    .dataframe tbody tr th {\n",
       "        vertical-align: top;\n",
       "    }\n",
       "\n",
       "    .dataframe thead th {\n",
       "        text-align: right;\n",
       "    }\n",
       "</style>\n",
       "<table border=\"1\" class=\"dataframe\">\n",
       "  <thead>\n",
       "    <tr style=\"text-align: right;\">\n",
       "      <th></th>\n",
       "      <th>web_source</th>\n",
       "      <th>local_name</th>\n",
       "      <th>year</th>\n",
       "      <th>description</th>\n",
       "      <th>photo_info</th>\n",
       "      <th>category</th>\n",
       "    </tr>\n",
       "  </thead>\n",
       "  <tbody>\n",
       "    <tr>\n",
       "      <th>0</th>\n",
       "      <td>/files/fotos/1405071378_lis.jpg</td>\n",
       "      <td>1405071378_lis.jpg</td>\n",
       "      <td>1998</td>\n",
       "      <td>Torrija empapada en nata y yema de huevo, tost...</td>\n",
       "      <td>FOTO: José Luis López de Zubiría / Mugaritz</td>\n",
       "      <td>platos</td>\n",
       "    </tr>\n",
       "    <tr>\n",
       "      <th>1</th>\n",
       "      <td>/files/fotos/1405324635_lis.jpg</td>\n",
       "      <td>1405324635_lis.jpg</td>\n",
       "      <td>1999</td>\n",
       "      <td>Salmonete asado a la sartén, con alcachofas gu...</td>\n",
       "      <td>FOTO: José Luis López de Zubiría / Mugaritz</td>\n",
       "      <td>platos</td>\n",
       "    </tr>\n",
       "    <tr>\n",
       "      <th>2</th>\n",
       "      <td>/files/fotos/1405324423_lis.jpg</td>\n",
       "      <td>1405324423_lis.jpg</td>\n",
       "      <td>1999</td>\n",
       "      <td>Cigalas salteadas con tallo de puerro en compo...</td>\n",
       "      <td>FOTO: José Luis López de Zubiría / Mugaritz</td>\n",
       "      <td>platos</td>\n",
       "    </tr>\n",
       "    <tr>\n",
       "      <th>3</th>\n",
       "      <td>/files/fotos/1405325211_lis.jpg</td>\n",
       "      <td>1405325211_lis.jpg</td>\n",
       "      <td>2000</td>\n",
       "      <td>Verduras asadas y crudas, brotes y hojas, silv...</td>\n",
       "      <td>FOTO: José Luis López de Zubiría / Mugaritz</td>\n",
       "      <td>platos</td>\n",
       "    </tr>\n",
       "    <tr>\n",
       "      <th>4</th>\n",
       "      <td>/files/fotos/1405325128_lis.jpg</td>\n",
       "      <td>1405325128_lis.jpg</td>\n",
       "      <td>2000</td>\n",
       "      <td>Rodaballo salvaje asado con vinagreta caliente...</td>\n",
       "      <td>FOTO: José Luis López de Zubiría / Mugaritz</td>\n",
       "      <td>platos</td>\n",
       "    </tr>\n",
       "  </tbody>\n",
       "</table>\n",
       "</div>"
      ],
      "text/plain": [
       "                        web_source          local_name  year  \\\n",
       "0  /files/fotos/1405071378_lis.jpg  1405071378_lis.jpg  1998   \n",
       "1  /files/fotos/1405324635_lis.jpg  1405324635_lis.jpg  1999   \n",
       "2  /files/fotos/1405324423_lis.jpg  1405324423_lis.jpg  1999   \n",
       "3  /files/fotos/1405325211_lis.jpg  1405325211_lis.jpg  2000   \n",
       "4  /files/fotos/1405325128_lis.jpg  1405325128_lis.jpg  2000   \n",
       "\n",
       "                                         description  \\\n",
       "0  Torrija empapada en nata y yema de huevo, tost...   \n",
       "1  Salmonete asado a la sartén, con alcachofas gu...   \n",
       "2  Cigalas salteadas con tallo de puerro en compo...   \n",
       "3  Verduras asadas y crudas, brotes y hojas, silv...   \n",
       "4  Rodaballo salvaje asado con vinagreta caliente...   \n",
       "\n",
       "                                     photo_info category  \n",
       "0  FOTO: José Luis López de Zubiría / Mugaritz    platos  \n",
       "1  FOTO: José Luis López de Zubiría / Mugaritz    platos  \n",
       "2  FOTO: José Luis López de Zubiría / Mugaritz    platos  \n",
       "3  FOTO: José Luis López de Zubiría / Mugaritz    platos  \n",
       "4  FOTO: José Luis López de Zubiría / Mugaritz    platos  "
      ]
     },
     "execution_count": 313,
     "metadata": {},
     "output_type": "execute_result"
    }
   ],
   "source": [
    "data2.head()"
   ]
  },
  {
   "cell_type": "code",
   "execution_count": 355,
   "metadata": {},
   "outputs": [
    {
     "data": {
      "text/plain": [
       "platos    475\n",
       "Name: category, dtype: int64"
      ]
     },
     "execution_count": 355,
     "metadata": {},
     "output_type": "execute_result"
    }
   ],
   "source": [
    "data2.category.value_counts()"
   ]
  },
  {
   "cell_type": "code",
   "execution_count": 356,
   "metadata": {},
   "outputs": [
    {
     "data": {
      "text/plain": [
       "dishes    475\n",
       "Name: category, dtype: int64"
      ]
     },
     "execution_count": 356,
     "metadata": {},
     "output_type": "execute_result"
    }
   ],
   "source": [
    "data1.category.value_counts()"
   ]
  },
  {
   "cell_type": "code",
   "execution_count": 353,
   "metadata": {},
   "outputs": [],
   "source": [
    "data1=data1[data1.category=='dishes']"
   ]
  },
  {
   "cell_type": "code",
   "execution_count": 354,
   "metadata": {},
   "outputs": [],
   "source": [
    "data2=data2[data2.category=='platos']"
   ]
  },
  {
   "cell_type": "code",
   "execution_count": 395,
   "metadata": {},
   "outputs": [
    {
     "data": {
      "text/plain": [
       "1998     1\n",
       "1999     2\n",
       "2000     5\n",
       "2001     7\n",
       "2002    14\n",
       "2003     2\n",
       "2004    22\n",
       "2005    11\n",
       "2006    31\n",
       "2007    19\n",
       "2008    14\n",
       "2009    14\n",
       "2010     7\n",
       "2011    29\n",
       "2012    20\n",
       "2013    36\n",
       "2014    14\n",
       "2015    44\n",
       "2016    42\n",
       "2017    60\n",
       "2018    40\n",
       "2019    41\n",
       "Name: year, dtype: int64"
      ]
     },
     "execution_count": 395,
     "metadata": {},
     "output_type": "execute_result"
    }
   ],
   "source": [
    "data1.year.value_counts(sort=False)"
   ]
  },
  {
   "cell_type": "code",
   "execution_count": 358,
   "metadata": {},
   "outputs": [],
   "source": [
    "data1.fillna('', inplace=True)\n",
    "data2.fillna('', inplace=True)"
   ]
  },
  {
   "cell_type": "code",
   "execution_count": 359,
   "metadata": {},
   "outputs": [],
   "source": [
    "chars = set()\n",
    "for desc in data1.description:\n",
    "    for d in desc:\n",
    "        if not d in ['-']:\n",
    "            if not d.isalpha():\n",
    "                chars.add(d)"
   ]
  },
  {
   "cell_type": "code",
   "execution_count": 360,
   "metadata": {},
   "outputs": [],
   "source": [
    "chars2 = set()\n",
    "for desc in data2.description:\n",
    "    for d in desc:\n",
    "        if not d in ['-']:\n",
    "            if not d.isalpha():\n",
    "                chars2.add(d)"
   ]
  },
  {
   "cell_type": "code",
   "execution_count": 374,
   "metadata": {},
   "outputs": [],
   "source": [
    "stop1 = \\\n",
    "    stopwords.words('spanish')+\\\n",
    "    stopwords.words('english')+\\\n",
    "    stopwords.words('french')"
   ]
  },
  {
   "cell_type": "code",
   "execution_count": 375,
   "metadata": {},
   "outputs": [],
   "source": [
    "stop2 = \\\n",
    "    stopwords.words('spanish')+\\\n",
    "    stopwords.words('french')"
   ]
  },
  {
   "cell_type": "code",
   "execution_count": 416,
   "metadata": {},
   "outputs": [],
   "source": [
    "def clean(s, char, stpwrds):\n",
    "    r = s.lower().strip()\n",
    "    for c in char:\n",
    "        r = r.replace(c, ' ')\n",
    "    rs = [w for w in word_tokenize(r) if w not in stpwrds and len(w) > 1]\n",
    "    rs=[lemmatizer.lemmatize(r) for r in rs]\n",
    "    r = ' '.join(rs)\n",
    "    return r"
   ]
  },
  {
   "cell_type": "code",
   "execution_count": 417,
   "metadata": {},
   "outputs": [],
   "source": [
    "data1['cleaned'] = data1.description.apply(lambda x: clean(x,chars,stop1) + ' ')"
   ]
  },
  {
   "cell_type": "code",
   "execution_count": 418,
   "metadata": {},
   "outputs": [],
   "source": [
    "data2['cleaned'] = data2.description.apply(lambda x: clean(x,chars2, stop2) + ' ')"
   ]
  },
  {
   "cell_type": "code",
   "execution_count": 419,
   "metadata": {},
   "outputs": [
    {
     "name": "stdout",
     "output_type": "stream",
     "text": [
      "cream,27\n",
      "vegetable,25\n",
      "milk,22\n",
      "roasted,22\n",
      "flower,21\n",
      "toasted,19\n",
      "leaf,18\n",
      "grilled,14\n",
      "wild,13\n",
      "sweet,13\n",
      "black,13\n",
      "chocolate,12\n",
      "rice,12\n",
      "herb,12\n",
      "warm,12\n",
      "soup,12\n",
      "hake,12\n",
      "white,11\n",
      "red,11\n",
      "skin,11\n"
     ]
    }
   ],
   "source": [
    "desc_by_year = data1.groupby('year').cleaned.sum()\n",
    "des_general=data1.cleaned.sum()\n",
    "counter = Counter(des_general.split())\n",
    "cou=counter.most_common(20)\n",
    "for c in cou:\n",
    "    print(c[0]+\",\"+str(c[1]))"
   ]
  },
  {
   "cell_type": "code",
   "execution_count": 420,
   "metadata": {},
   "outputs": [
    {
     "name": "stdout",
     "output_type": "stream",
     "text": [
      "asado,30\n",
      "leche,26\n",
      "hojas,24\n",
      "crema,24\n",
      "flores,24\n",
      "lomo,20\n",
      "hierbas,19\n",
      "caldo,19\n",
      "jugo,18\n",
      "helado,18\n",
      "tostada,17\n",
      "mar,15\n",
      "brotes,15\n",
      "ajos,14\n",
      "dulce,13\n",
      "queso,13\n",
      "merluza,13\n",
      "arroz,12\n",
      "tallos,12\n",
      "asada,12\n"
     ]
    }
   ],
   "source": [
    "desc2_by_year = data2.groupby('year').cleaned.sum()\n",
    "des2_general=data2.cleaned.sum()\n",
    "counter = Counter(des2_general.split())\n",
    "cou=counter.most_common(20)\n",
    "for c in cou:\n",
    "    print(c[0]+\",\"+str(c[1]))"
   ]
  },
  {
   "cell_type": "code",
   "execution_count": 389,
   "metadata": {},
   "outputs": [
    {
     "name": "stdout",
     "output_type": "stream",
     "text": [
      "30\n"
     ]
    }
   ],
   "source": [
    "cou=counter.most_common(20)\n",
    "# for c in cou:\n",
    "#     if c.values()>1:\n",
    "#         print(c)\n",
    "print(c[1])"
   ]
  },
  {
   "cell_type": "code",
   "execution_count": 421,
   "metadata": {},
   "outputs": [
    {
     "name": "stdout",
     "output_type": "stream",
     "text": [
      "1998\n",
      "\n",
      "1999\n",
      "bouillon,2\n",
      "\n",
      "2000\n",
      "wild,2\n",
      "seasoned,2\n",
      "\n",
      "2001\n",
      "jugo,2\n",
      "fruit,2\n",
      "brotes,2\n",
      "cerdo,2\n",
      "\n",
      "2002\n",
      "flores,5\n",
      "hojas,3\n",
      "salteado,2\n",
      "sepia,2\n",
      "quinoa,2\n",
      "idiazabal,2\n",
      "asados,2\n",
      "cocido,2\n",
      "queso,2\n",
      "chipirón,2\n",
      "\n",
      "2003\n",
      "\n",
      "2004\n",
      "sauce,5\n",
      "grilled,4\n",
      "roasted,4\n",
      "onion,4\n",
      "chocolate,3\n",
      "milk,3\n",
      "truffle,3\n",
      "leaf,3\n",
      "vegetable,3\n",
      "hazelnut,3\n",
      "\n",
      "2005\n",
      "flower,3\n",
      "cream,3\n",
      "blossom,2\n",
      "fresh,2\n",
      "shoot,2\n",
      "garlic,2\n",
      "lychee,2\n",
      "borage,2\n",
      "ajos,2\n",
      "vegetable,2\n",
      "\n",
      "2006\n",
      "soup,5\n",
      "leaf,4\n",
      "iberian,4\n",
      "cream,4\n",
      "vegetable,4\n",
      "toasted,4\n",
      "garlic,3\n",
      "white,3\n",
      "pork,3\n",
      "asado,3\n",
      "\n",
      "2007\n",
      "vegetable,6\n",
      "milk,4\n",
      "sweet,3\n",
      "red,3\n",
      "cheese,3\n",
      "accompanied,3\n",
      "roasted,3\n",
      "chocolate,2\n",
      "petal,2\n",
      "sandía,2\n",
      "\n",
      "2008\n",
      "crab,3\n",
      "flower,3\n",
      "citrus,2\n",
      "vine,2\n",
      "broth,2\n",
      "tallos,2\n",
      "lomo,2\n",
      "soup,2\n",
      "hojas,2\n",
      "herb,2\n",
      "\n",
      "2009\n",
      "served,3\n",
      "fresh,2\n",
      "hezelnuts,2\n",
      "cream,2\n",
      "warm,2\n",
      "ajos,2\n",
      "vanilla,2\n",
      "\n",
      "2010\n",
      "toasted,2\n",
      "black,2\n",
      "cream,2\n",
      "bean,2\n",
      "perfumed,2\n",
      "\n",
      "2011\n",
      "rind,3\n",
      "stew,3\n",
      "toasted,2\n",
      "peppercorn,2\n",
      "sprout,2\n",
      "ragout,2\n",
      "loin,2\n",
      "catch,2\n",
      "fruit,2\n",
      "portion,2\n",
      "\n",
      "2012\n",
      "vegetable,3\n",
      "garlic,2\n",
      "pickled,2\n",
      "milk,2\n",
      "fish,2\n",
      "burnt,2\n",
      "spiced,2\n",
      "herb,2\n",
      "roasted,2\n",
      "crème,2\n",
      "\n",
      "2013\n",
      "flower,3\n",
      "yolk,2\n",
      "sugar,2\n",
      "royale,2\n",
      "frozen,2\n",
      "honey,2\n",
      "lamb,2\n",
      "herb,2\n",
      "hake,2\n",
      "almond,2\n",
      "\n",
      "2014\n",
      "black,2\n",
      "\n",
      "2015\n",
      "omelette,2\n",
      "idea,2\n",
      "garlic,2\n",
      "lamb,2\n",
      "grilled,2\n",
      "cake,2\n",
      "wild,2\n",
      "crunchy,2\n",
      "oyster,2\n",
      "bitter,2\n",
      "\n",
      "2016\n",
      "grilled,3\n",
      "glazed,3\n",
      "chicken,3\n",
      "anchovy,2\n",
      "sweet,2\n",
      "bitter,2\n",
      "leaf,2\n",
      "vegetable,2\n",
      "marrow,2\n",
      "pea,2\n",
      "\n",
      "2017\n",
      "cream,5\n",
      "creamy,5\n",
      "rice,4\n",
      "black,4\n",
      "heart,3\n",
      "aged,3\n",
      "caviar,3\n",
      "bread,3\n",
      "warm,3\n",
      "bone,3\n",
      "\n",
      "2018\n",
      "edan,2\n",
      "condensed,2\n",
      "never,2\n",
      "life,2\n",
      "cepa,2\n",
      "tic,2\n",
      "urrup,2\n",
      "\n",
      "2019\n",
      "thread,4\n",
      "skin,3\n",
      "time,2\n",
      "squid,2\n",
      "pil,2\n",
      "frozen,2\n",
      "\n"
     ]
    }
   ],
   "source": [
    "for year, desc in desc_by_year.items():\n",
    "    print(year)\n",
    "    counter = Counter(desc.split())\n",
    "    cou=counter.most_common(10)\n",
    "    for c in cou:\n",
    "        if c[1]>1:\n",
    "            print(c[0]+\",\"+str(c[1]))\n",
    "            \n",
    "    print()"
   ]
  },
  {
   "cell_type": "code",
   "execution_count": 422,
   "metadata": {},
   "outputs": [
    {
     "name": "stdout",
     "output_type": "stream",
     "text": [
      "1998\n",
      "\n",
      "1999\n",
      "caldo,2\n",
      "\n",
      "2000\n",
      "cítricos,2\n",
      "vinagreta,2\n",
      "asado,2\n",
      "dado,2\n",
      "pequeños,2\n",
      "salvaje,2\n",
      "confitadas,2\n",
      "caliente,2\n",
      "pieles,2\n",
      "\n",
      "2001\n",
      "brotes,3\n",
      "jugo,2\n",
      "frutas,2\n",
      "carbón,2\n",
      "asado,2\n",
      "huevos,2\n",
      "cerdo,2\n",
      "tallos,2\n",
      "\n",
      "2002\n",
      "flores,6\n",
      "hojas,3\n",
      "cebollino,3\n",
      "salteado,2\n",
      "sepia,2\n",
      "quinoa,2\n",
      "velo,2\n",
      "idiazabal,2\n",
      "cocido,2\n",
      "queso,2\n",
      "\n",
      "2003\n",
      "\n",
      "2004\n",
      "asado,8\n",
      "lomo,6\n",
      "caldo,5\n",
      "hojas,4\n",
      "brotes,4\n",
      "jugo,3\n",
      "leche,3\n",
      "flores,3\n",
      "trazo,3\n",
      "liliáceas,3\n",
      "\n",
      "2005\n",
      "flores,4\n",
      "ajos,4\n",
      "helado,3\n",
      "vegetal,2\n",
      "azahar,2\n",
      "pulpa,2\n",
      "chipirón,2\n",
      "carbón,2\n",
      "parrilla,2\n",
      "borraja,2\n",
      "\n",
      "2006\n",
      "lomo,4\n",
      "leche,4\n",
      "asado,4\n",
      "sopa,4\n",
      "crema,4\n",
      "brasa,3\n",
      "hojas,3\n",
      "acompañado,3\n",
      "pescados,2\n",
      "trufas,2\n",
      "\n",
      "2007\n",
      "láminas,4\n",
      "acompañado,4\n",
      "semillas,3\n",
      "queso,3\n",
      "leche,3\n",
      "caldo,2\n",
      "hojas,2\n",
      "dulce,2\n",
      "pétalos,2\n",
      "salteado,2\n",
      "\n",
      "2008\n",
      "mar,3\n",
      "buey,3\n",
      "leche,3\n",
      "caldo,2\n",
      "sopa,2\n",
      "hierbas,2\n",
      "flores,2\n",
      "bañado,2\n",
      "tallos,2\n",
      "lomo,2\n",
      "\n",
      "2009\n",
      "huevo,2\n",
      "reposado,2\n",
      "avellanas,2\n",
      "hierbas,2\n",
      "vainillas,2\n",
      "fondo,2\n",
      "hojas,2\n",
      "ajos,2\n",
      "virutas,2\n",
      "silvestres,2\n",
      "\n",
      "2010\n",
      "alubias,2\n",
      "buey,2\n",
      "mar,2\n",
      "\n",
      "2011\n",
      "pescado,3\n",
      "tostada,3\n",
      "manzana,2\n",
      "lonja,2\n",
      "rape,2\n",
      "hierbas,2\n",
      "semillas,2\n",
      "queso,2\n",
      "potaje,2\n",
      "hoja,2\n",
      "\n",
      "2012\n",
      "leche,4\n",
      "tostada,4\n",
      "hierbas,3\n",
      "helado,3\n",
      "marino,2\n",
      "pasta,2\n",
      "dulce,2\n",
      "limón,2\n",
      "tomate,2\n",
      "crema,2\n",
      "\n",
      "2013\n",
      "hierbas,4\n",
      "jugo,3\n",
      "helada,2\n",
      "concentrado,2\n",
      "cacao,2\n",
      "flores,2\n",
      "royal,2\n",
      "cordero,2\n",
      "hidromiel,2\n",
      "vegetal,2\n",
      "\n",
      "2014\n",
      "\n",
      "2015\n",
      "tortilla,3\n",
      "hojaldre,2\n",
      "cordero,2\n",
      "yemas,2\n",
      "crema,2\n",
      "terciopelo,2\n",
      "amargas,2\n",
      "idea,2\n",
      "tarta,2\n",
      "silvestres,2\n",
      "\n",
      "2016\n",
      "pollo,3\n",
      "hojas,2\n",
      "dulce,2\n",
      "leche,2\n",
      "polvorón,2\n",
      "queso,2\n",
      "glaseado,2\n",
      "limón,2\n",
      "helado,2\n",
      "guisantes,2\n",
      "\n",
      "2017\n",
      "cremoso,4\n",
      "arroz,4\n",
      "crema,4\n",
      "caviar,3\n",
      "pan,3\n",
      "negro,3\n",
      "huevas,3\n",
      "cultura,2\n",
      "prés,2\n",
      "aguacate,2\n",
      "\n",
      "2018\n",
      "ven,2\n",
      "vida,2\n",
      "edan,2\n",
      "condensada,2\n",
      "urrup,2\n",
      "cepa,2\n",
      "flor,2\n",
      "nunca,2\n",
      "tic,2\n",
      "\n",
      "2019\n",
      "hebras,3\n",
      "tiempo,2\n",
      "piel,2\n",
      "\n"
     ]
    }
   ],
   "source": [
    "for year, desc in desc2_by_year.items():\n",
    "    print(year)\n",
    "    counter = Counter(desc.split())\n",
    "    cou=counter.most_common(10)\n",
    "    for c in cou:\n",
    "        if c[1]>1:\n",
    "            print(c[0]+\",\"+str(c[1]))\n",
    "            \n",
    "    print()"
   ]
  },
  {
   "cell_type": "code",
   "execution_count": 423,
   "metadata": {},
   "outputs": [
    {
     "data": {
      "text/plain": [
       "'hojas'"
      ]
     },
     "execution_count": 423,
     "metadata": {},
     "output_type": "execute_result"
    }
   ],
   "source": [
    "lemmatizer.lemmatize('hojas')"
   ]
  },
  {
   "cell_type": "code",
   "execution_count": null,
   "metadata": {},
   "outputs": [],
   "source": []
  }
 ],
 "metadata": {
  "kernelspec": {
   "display_name": "Python 3",
   "language": "python",
   "name": "python3"
  },
  "language_info": {
   "codemirror_mode": {
    "name": "ipython",
    "version": 3
   },
   "file_extension": ".py",
   "mimetype": "text/x-python",
   "name": "python",
   "nbconvert_exporter": "python",
   "pygments_lexer": "ipython3",
   "version": "3.5.2"
  }
 },
 "nbformat": 4,
 "nbformat_minor": 2
}
