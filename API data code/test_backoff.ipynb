{
 "cells": [
  {
   "cell_type": "markdown",
   "metadata": {},
   "source": [
    "#  Test - exponential backoff implementation"
   ]
  },
  {
   "cell_type": "code",
   "execution_count": 1,
   "metadata": {
    "collapsed": true
   },
   "outputs": [],
   "source": [
    "#!/usr/bin/python\n",
    "\n",
    "from apiclient.discovery import build\n",
    "from apiclient.errors import HttpError"
   ]
  },
  {
   "cell_type": "code",
   "execution_count": null,
   "metadata": {
    "collapsed": true
   },
   "outputs": [],
   "source": [
    "#retry CTRL + /\n",
    "for id in ids:\n",
    "    n_tries = 0\n",
    "    channel = None\n",
    "    while not channel and n_tries < MAX_TRIES:\n",
    "        try:\n",
    "            channel = getChannel(id, ...)\n",
    "        except HttpError as e:\n",
    "            if e.code == 503:\n",
    "                wait(10min)\n",
    "                n_tries += 1\n",
    "    if not channel:\n",
    "        print(id, 'no encontrado')"
   ]
  }
 ],
 "metadata": {
  "kernelspec": {
   "display_name": "Python 3",
   "language": "python",
   "name": "python3"
  },
  "language_info": {
   "codemirror_mode": {
    "name": "ipython",
    "version": 3
   },
   "file_extension": ".py",
   "mimetype": "text/x-python",
   "name": "python",
   "nbconvert_exporter": "python",
   "pygments_lexer": "ipython3",
   "version": "3.4.3"
  }
 },
 "nbformat": 4,
 "nbformat_minor": 2
}
