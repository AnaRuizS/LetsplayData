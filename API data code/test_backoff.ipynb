{
 "cells": [
  {
   "cell_type": "markdown",
   "metadata": {},
   "source": [
    "#  Test - exponential backoff implementation"
   ]
  },
  {
   "cell_type": "code",
   "execution_count": 1,
   "metadata": {
    "collapsed": true
   },
   "outputs": [],
   "source": [
    "#!/usr/bin/python\n",
    "import os\n",
    "import datetime as datetime\n",
    "import pytz\n",
    "import pandas as pd\n",
    "import csv\n",
    "import json\n",
    "import time\n",
    "\n",
    "from retrying import retry\n",
    "from retrying import RetryError\n",
    "from apiclient.discovery import build\n",
    "from apiclient.errors import HttpError\n",
    "from oauth2client.tools import argparser\n",
    "\n",
    "DEVELOPER_KEY= os.environ.get('API_CODE')\n",
    "YOUTUBE_API_SERVICE_NAME = \"youtube\"\n",
    "YOUTUBE_API_VERSION = \"v3\"\n",
    "service= build(YOUTUBE_API_SERVICE_NAME, YOUTUBE_API_VERSION, developerKey=DEVELOPER_KEY)"
   ]
  },
  {
   "cell_type": "markdown",
   "metadata": {
    "collapsed": true
   },
   "source": [
    "#retry CTRL + /\n",
    "for id in ids:\n",
    "    n_tries = 0\n",
    "    channel = None\n",
    "    while not channel and n_tries < MAX_TRIES:\n",
    "        try:\n",
    "            channel = getChannel(id, ...)\n",
    "        except HttpError as e:\n",
    "            if e.code == 503:\n",
    "                wait(10min)\n",
    "                n_tries += 1\n",
    "    if not channel:\n",
    "        print(id, 'no encontrado')"
   ]
  },
  {
   "cell_type": "code",
   "execution_count": 14,
   "metadata": {
    "collapsed": true
   },
   "outputs": [],
   "source": [
    "@retry(stop_max_attempt_number=3,retry_on_exception=is_503_error, \n",
    "       wrap_exception=True,wait_random_min=1000, wait_random_max=2000)\n",
    "def search_channel(i):\n",
    "    int1=50\n",
    "    print(\"intentando...\")\n",
    "#     for i in range (0,5):\n",
    "    print(int1/i)"
   ]
  },
  {
   "cell_type": "code",
   "execution_count": 15,
   "metadata": {},
   "outputs": [
    {
     "name": "stdout",
     "output_type": "stream",
     "text": [
      "intentando...\n",
      "intentando...\n",
      "intentando...\n",
      "max unsucessful attempt x:0\n",
      "intentando...\n",
      "50.0\n",
      "intentando...\n",
      "25.0\n",
      "intentando...\n",
      "16.666666666666668\n",
      "intentando...\n",
      "12.5\n",
      "intentando...\n",
      "10.0\n",
      "intentando...\n",
      "8.333333333333334\n"
     ]
    }
   ],
   "source": [
    "for x in range(0,7):\n",
    "    try:\n",
    "        search_channel(x)\n",
    "    except RetryError as e:\n",
    "        print(\"max unsucessful attempt\"+\" x:\"+str(x))\n",
    "        continue"
   ]
  },
  {
   "cell_type": "code",
   "execution_count": 13,
   "metadata": {
    "collapsed": true
   },
   "outputs": [],
   "source": [
    "# def is_503_error(exception):\n",
    "#     return isinstance(exception, ZeroDivisionError)\n",
    "def is_503_error(exception):\n",
    "    is503=False\n",
    "    if (isinstance(exception, HttpError)):\n",
    "        if (e.resp.status==503):\n",
    "            is503=True\n",
    "    elif (isinstance(exception,ZeroDivisionError)):\n",
    "        is503=True\n",
    "        \n",
    "    return(is503)"
   ]
  },
  {
   "cell_type": "code",
   "execution_count": 93,
   "metadata": {
    "collapsed": true
   },
   "outputs": [],
   "source": [
    "#http error\n",
    "try:\n",
    "    channels=service.channels().list(\n",
    "            id=50,\n",
    "            part=\"id, snippet, brandingSettings, contentDetails, invideoPromotion, statistics, topicDetails\",\n",
    "            maxResults=50\n",
    "    ).execute()\n",
    "except HttpError as e:\n",
    "    print (e.resp.status)"
   ]
  }
 ],
 "metadata": {
  "kernelspec": {
   "display_name": "Python 3",
   "language": "python",
   "name": "python3"
  },
  "language_info": {
   "codemirror_mode": {
    "name": "ipython",
    "version": 3
   },
   "file_extension": ".py",
   "mimetype": "text/x-python",
   "name": "python",
   "nbconvert_exporter": "python",
   "pygments_lexer": "ipython3",
   "version": "3.4.3"
  }
 },
 "nbformat": 4,
 "nbformat_minor": 2
}
