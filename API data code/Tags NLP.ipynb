{
 "cells": [
  {
   "cell_type": "code",
   "execution_count": 325,
   "metadata": {},
   "outputs": [],
   "source": [
    "import os\n",
    "import sys\n",
    "import nltk\n",
    "import math\n",
    "import shlex\n",
    "import itertools\n",
    "import networkx as nx\n",
    "import pandas as pd\n",
    "import numpy as np\n",
    "import seaborn as sns\n",
    "import matplotlib.pyplot as plt\n",
    "from scipy.optimize import curve_fit\n",
    "from string import punctuation\n",
    "\n",
    "from pandas import Series\n",
    "from nltk.corpus import stopwords\n",
    "from nltk.corpus import words\n",
    "from nltk.stem import WordNetLemmatizer\n",
    "from matplotlib.gridspec import GridSpec"
   ]
  },
  {
   "cell_type": "code",
   "execution_count": 326,
   "metadata": {},
   "outputs": [
    {
     "name": "stderr",
     "output_type": "stream",
     "text": [
      "/home/aruiz/.virtualenvs/LetsPlayData/lib/python3.5/site-packages/IPython/core/interactiveshell.py:2728: DtypeWarning: Columns (10) have mixed types. Specify dtype option on import or set low_memory=False.\n",
      "  interactivity=interactivity, compiler=compiler, result=result)\n"
     ]
    }
   ],
   "source": [
    "data_folder_channels='/media/aruiz/data/channels_clean_data/'\n",
    "fileName2=os.path.join(data_folder_channels,'all_channels_cat_clean.csv')\n",
    "# fileName2=os.path.join(data_folder_channels,'gta_data_clean.csv')\n",
    "df=pd.read_csv(fileName2)\n",
    "df=df.sort_values(by=['views'],ascending=True)\n",
    "df=df.fillna(\"N/A\")\n",
    "df=df.reset_index(drop=True)\n",
    "lemmatizer = WordNetLemmatizer()\n",
    "stopWords = set(stopwords.words('english'))\n",
    "searchKeys=[\"minecraft\",\"roblox\",\"call\", \"of\", \"duty\",\"overwatch\", \"grand\",\"theft\",\"auto\",\"league\",\"legend\",\n",
    "            \"Happy\",\"wheel\",\"five\", \"night\", \"at\", \"freddy's\",\"agar.io\", \"pokemon\"]\n",
    "# searchKeys=[\"grand\",\"theft\",\"auto\"]\n",
    "top_words= [\"game\", \"gaming\", \"video\", \"gameplay\", \"funny\", \"play\", \"let\",\"cod\", \"mod\", \"tutorial\"]\n",
    "# quartile3=246352\n",
    "quartile3=42267\n",
    "#punctuation list to exclude from keywords\n",
    "exclude = set(punctuation)"
   ]
  },
  {
   "cell_type": "markdown",
   "metadata": {},
   "source": [
    "# Frequent words (unigrams/bigrams)"
   ]
  },
  {
   "cell_type": "code",
   "execution_count": 329,
   "metadata": {},
   "outputs": [],
   "source": [
    "\n",
    "all_keys_u=[] # all tag/words for each channel\n",
    "all_keys_b=[] # all co-ocurrence of tags (bigrams)\n",
    "all_categories=[] # top words with the most present categories\n",
    "\n",
    "for n in range(0,len(df)):\n",
    "    if (df.keywords[n]!=\"N/A\") and (df.views[n]>quartile3):\n",
    "        channel_keys=[]\n",
    "        \n",
    "        try:\n",
    "            l = shlex.split(df.keywords[n])\n",
    "\n",
    "        except:\n",
    "            l = df.keywords[n].split()\n",
    "            \n",
    "        for kw in l:\n",
    "            kw_id = kw.lower().replace(\"'\", \"\").replace(\"´\", \"\").replace(\"’\", \"\").replace(\"`\", \"\")\n",
    "            single_keys=nltk.word_tokenize(kw_id)\n",
    "            for key in single_keys:\n",
    "                key=lemmatizer.lemmatize(key)\n",
    "                if (key not in stopWords)and(len(key)>1):\n",
    "                    if (key not in channel_keys) and (key not in searchKeys):\n",
    "                        channel_keys.append(key)\n",
    "                        \n",
    "        #clean all digits and punctuation from keywords\n",
    "        channel_keys_clean=remove_dig_punct(channel_keys)\n",
    "        \n",
    "        #find category of the keyword /game belongs to\n",
    "        for key in channel_keys_clean:\n",
    "            all_keys_u.append(key)\n",
    "            if key in top_words:\n",
    "                single_cat=nltk.word_tokenize(str(df.game_q.iloc[n]))\n",
    "                for cat in single_cat:\n",
    "                    string=key+\" \"+ str(cat)\n",
    "                    all_categories.append(string)\n",
    "                    \n",
    "        edges= itertools.combinations(channel_keys_clean,2)\n",
    "        for edge in edges:\n",
    "            t=(edge[0],edge[1])\n",
    "            all_keys_b.append(t)\n",
    "            \n",
    "        df.loc[n,\"num_tags\"]=len(channel_keys_clean)"
   ]
  },
  {
   "cell_type": "code",
   "execution_count": 328,
   "metadata": {},
   "outputs": [],
   "source": [
    "def remove_dig_punct(list1):\n",
    "    new=[]\n",
    "    for n in range (0, len(list1)):\n",
    "        #removing digits\n",
    "        res=''.join([i for i in list1[n] if not i.isdigit()])\n",
    "        #removing punctuation\n",
    "        s = ''.join(ch for ch in res if ch not in exclude)\n",
    "        if (s !=\"\") and (s not in new):\n",
    "            if (len(s)>1):\n",
    "                new.append(s)\n",
    "    return (new)"
   ]
  },
  {
   "cell_type": "code",
   "execution_count": 330,
   "metadata": {},
   "outputs": [],
   "source": [
    "counts_u=Series(all_keys_u)\n",
    "cu=counts_u.value_counts()\n",
    "counts_b=Series(all_keys_b)\n",
    "cb=counts_b.value_counts()\n",
    "counts_c=Series(all_categories)\n",
    "ca=counts_c.value_counts()"
   ]
  },
  {
   "cell_type": "markdown",
   "metadata": {},
   "source": [
    "# Tag co-ocurrence network"
   ]
  },
  {
   "cell_type": "code",
   "execution_count": 331,
   "metadata": {},
   "outputs": [],
   "source": [
    "# adding nodes\n",
    "g = nx.Graph()\n",
    "for n in range (0,len(cu)):\n",
    "    g.add_node(cu.index[n], type='keyword', weight=int(cu[n]))"
   ]
  },
  {
   "cell_type": "code",
   "execution_count": 332,
   "metadata": {},
   "outputs": [],
   "source": [
    "# adding edges\n",
    "for n in range (0,len(cb)):\n",
    "    edge=cb.index[n]\n",
    "    if g.has_edge(edge[0],edge[1]):\n",
    "        g[edge[0]][edge[1]]['weight'] += cb[n]\n",
    "    else:\n",
    "#         w=(cb[n])/math.sqrt(cu.loc[edge[0]]+cu.loc[edge[1]])\n",
    "        g.add_edge(edge[0],edge[1], weight=cb[n]) "
   ]
  },
  {
   "cell_type": "code",
   "execution_count": 333,
   "metadata": {},
   "outputs": [],
   "source": [
    "for u,v,d in g.edges(data=True):\n",
    "    d['weight']=d['weight']/(math.sqrt(cu.loc[u]*cu.loc[v]))"
   ]
  },
  {
   "cell_type": "code",
   "execution_count": 363,
   "metadata": {},
   "outputs": [],
   "source": [
    "H=g.copy()\n",
    "for n in range (14047, len(cu)):\n",
    "    H.remove_node(cu.index[n])"
   ]
  },
  {
   "cell_type": "markdown",
   "metadata": {},
   "source": [
    "## ego graph"
   ]
  },
  {
   "cell_type": "code",
   "execution_count": 364,
   "metadata": {},
   "outputs": [],
   "source": [
    "tag='funny'\n",
    "let_ego=nx.ego_graph(H,tag,radius=1)"
   ]
  },
  {
   "cell_type": "code",
   "execution_count": 387,
   "metadata": {},
   "outputs": [
    {
     "data": {
      "text/plain": [
       "124"
      ]
     },
     "execution_count": 387,
     "metadata": {},
     "output_type": "execute_result"
    }
   ],
   "source": [
    "len(G.nodes())"
   ]
  },
  {
   "cell_type": "code",
   "execution_count": 372,
   "metadata": {},
   "outputs": [
    {
     "name": "stdout",
     "output_type": "stream",
     "text": [
      "0.0002072104726414487\n",
      "0.4971097175996318moment funny\n"
     ]
    }
   ],
   "source": [
    "cum=0\n",
    "highest=0\n",
    "\n",
    "for u,v,d in G.edges(data=True):\n",
    "    cum+=d['weight']\n",
    "    if highest<d['weight']:\n",
    "        highest=d['weight']\n",
    "        val=u\n",
    "        val2=v\n",
    "print(cum/502944)\n",
    "print (str(highest)+\"\"+val+\" \"+val2 )"
   ]
  },
  {
   "cell_type": "code",
   "execution_count": 383,
   "metadata": {},
   "outputs": [],
   "source": [
    "#mean of the weight of the edges\n",
    "H=let_ego.copy()\n",
    "\n",
    "for u,v,d in let_ego.edges(data=True):\n",
    "    if (d['weight']<0.06):\n",
    "        H.remove_edge(u,v)\n",
    "#mean=0.15"
   ]
  },
  {
   "cell_type": "code",
   "execution_count": 386,
   "metadata": {},
   "outputs": [],
   "source": [
    "G=H.copy()\n",
    "a=list(nx.isolates(H))\n",
    "G.remove_nodes_from(a)"
   ]
  },
  {
   "cell_type": "code",
   "execution_count": 385,
   "metadata": {},
   "outputs": [],
   "source": [
    "H=G.copy()\n",
    "for u,v,d in G.edges(data=True):\n",
    "    if (u!=tag) and (v!=tag):\n",
    "        H.remove_edge(u,v)"
   ]
  },
  {
   "cell_type": "code",
   "execution_count": null,
   "metadata": {},
   "outputs": [],
   "source": []
  },
  {
   "cell_type": "markdown",
   "metadata": {},
   "source": [
    "## save to gexf file"
   ]
  },
  {
   "cell_type": "code",
   "execution_count": 388,
   "metadata": {},
   "outputs": [],
   "source": [
    "nx.write_gexf(G,\"semantic_fun3.gexf\")"
   ]
  },
  {
   "cell_type": "code",
   "execution_count": 11,
   "metadata": {},
   "outputs": [],
   "source": [
    "nx.draw_spring(let_ego,with_labels=True)"
   ]
  },
  {
   "cell_type": "code",
   "execution_count": 13,
   "metadata": {},
   "outputs": [
    {
     "data": {
      "text/plain": [
       "<matplotlib.figure.Figure at 0x7f77aa60bcc0>"
      ]
     },
     "metadata": {},
     "output_type": "display_data"
    }
   ],
   "source": [
    "plt.savefig(\"ego1.png\")"
   ]
  },
  {
   "cell_type": "code",
   "execution_count": null,
   "metadata": {},
   "outputs": [],
   "source": []
  },
  {
   "cell_type": "markdown",
   "metadata": {},
   "source": [
    "# Save keywords txt"
   ]
  },
  {
   "cell_type": "code",
   "execution_count": 22,
   "metadata": {},
   "outputs": [
    {
     "data": {
      "text/plain": [
       "1569755"
      ]
     },
     "execution_count": 22,
     "metadata": {},
     "output_type": "execute_result"
    }
   ],
   "source": [
    "i=0\n",
    "f= open ('bigrams.txt','w')\n",
    "for n in range (0,len(cb)):\n",
    "    f.write(str(cb.index[n][0])+\" \" +str(cb.index[n][1]))\n",
    "    f.write('\\n')\n",
    "    i+=1\n",
    "i"
   ]
  },
  {
   "cell_type": "markdown",
   "metadata": {},
   "source": [
    "# Tags distribution"
   ]
  },
  {
   "cell_type": "code",
   "execution_count": 74,
   "metadata": {},
   "outputs": [],
   "source": [
    "# # English language filter\n",
    "# i=0\n",
    "# d=enchant.Dict('en_US')\n",
    "# counts2=list(counts)\n",
    "# counts_eng=[]\n",
    "# for word in counts2:\n",
    "#     if (d.check(word)):\n",
    "#         del counts[word]\n",
    "#         counts_eng.append(counts[word])"
   ]
  },
  {
   "cell_type": "code",
   "execution_count": 2,
   "metadata": {},
   "outputs": [
    {
     "ename": "NameError",
     "evalue": "name 'df' is not defined",
     "output_type": "error",
     "traceback": [
      "\u001b[0;31m---------------------------------------------------------------------------\u001b[0m",
      "\u001b[0;31mNameError\u001b[0m                                 Traceback (most recent call last)",
      "\u001b[0;32m<ipython-input-2-5d2cf1454db4>\u001b[0m in \u001b[0;36m<module>\u001b[0;34m()\u001b[0m\n\u001b[0;32m----> 1\u001b[0;31m \u001b[0mdf\u001b[0m\u001b[0;34m=\u001b[0m\u001b[0mdf\u001b[0m\u001b[0;34m.\u001b[0m\u001b[0msort_values\u001b[0m\u001b[0;34m(\u001b[0m\u001b[0mby\u001b[0m\u001b[0;34m=\u001b[0m\u001b[0;34m[\u001b[0m\u001b[0;34m'views'\u001b[0m\u001b[0;34m]\u001b[0m\u001b[0;34m,\u001b[0m\u001b[0mascending\u001b[0m\u001b[0;34m=\u001b[0m\u001b[0;32mTrue\u001b[0m\u001b[0;34m)\u001b[0m\u001b[0;34m\u001b[0m\u001b[0m\n\u001b[0m\u001b[1;32m      2\u001b[0m \u001b[0;31m# plt.xticks(np.arange(42261, max(df['views'])+100, 1000000))\u001b[0m\u001b[0;34m\u001b[0m\u001b[0;34m\u001b[0m\u001b[0m\n\u001b[1;32m      3\u001b[0m \u001b[0;31m# df.iloc[0:103716].plot(x='views', y='num_tags', style='.', figsize=(18,10), xticks=np.arange(0, 42661, 10000), rot=90)\u001b[0m\u001b[0;34m\u001b[0m\u001b[0;34m\u001b[0m\u001b[0m\n\u001b[1;32m      4\u001b[0m \u001b[0;31m# df.iloc[103716:138288].plot(x='views', y='num_tags', style='.', figsize=(18,10), xticks=np.arange(42661, 500000, 10000), rot=90)\u001b[0m\u001b[0;34m\u001b[0m\u001b[0;34m\u001b[0m\u001b[0m\n\u001b[1;32m      5\u001b[0m \u001b[0;31m# df.iloc[120371:130000].plot(x='views', y='num_tags', style='.', figsize=(18,10), rot=90)\u001b[0m\u001b[0;34m\u001b[0m\u001b[0;34m\u001b[0m\u001b[0m\n",
      "\u001b[0;31mNameError\u001b[0m: name 'df' is not defined"
     ]
    }
   ],
   "source": [
    "df=df.sort_values(by=['views'],ascending=True)\n",
    "# plt.xticks(np.arange(42261, max(df['views'])+100, 1000000))\n",
    "# df.iloc[0:103716].plot(x='views', y='num_tags', style='.', figsize=(18,10), xticks=np.arange(0, 42661, 10000), rot=90)\n",
    "# df.iloc[103716:138288].plot(x='views', y='num_tags', style='.', figsize=(18,10), xticks=np.arange(42661, 500000, 10000), rot=90)\n",
    "# df.iloc[120371:130000].plot(x='views', y='num_tags', style='.', figsize=(18,10), rot=90)\n",
    "# df.iloc[128871:138288].plot(x='views', y='num_tags', style='.', figsize=(18,10), rot=90)\n",
    "#xticks"
   ]
  },
  {
   "cell_type": "code",
   "execution_count": 66,
   "metadata": {},
   "outputs": [],
   "source": [
    "quartile3=42261 \n",
    "all_keys_u=[] # all tag/words for each channel\n",
    "all_keys_b=[] # all co-ocurrence of tags (bigrams)\n",
    "\n",
    "for n in range(0,len(df)):\n",
    "    if (df.description[n]!=\"N/A\") and (df.views[n]>quartile3):\n",
    "        channel_keys=[]\n",
    "        \n",
    "        try:\n",
    "            l = shlex.split(df.description[n])\n",
    "\n",
    "        except:\n",
    "            l = df.description[n].split()\n",
    "            \n",
    "        for kw in l:\n",
    "            kw_id = kw.lower().replace(\"'\", \"\").replace(\"´\", \"\").replace(\"’\", \"\").replace(\"`\", \"\")\n",
    "            single_keys=nltk.word_tokenize(kw_id)\n",
    "            for key in single_keys:\n",
    "                key=lemmatizer.lemmatize(key)\n",
    "                if (key not in stopWords)and(len(key)>1):\n",
    "                    if (key not in channel_keys) and (key not in searchKeys):\n",
    "                        channel_keys.append(key)\n",
    "        \n",
    "        for key in channel_keys:\n",
    "            all_keys_u.append(key)\n",
    "        \n",
    "#         edges= itertools.combinations(channel_keys,2)\n",
    "#         for edge in edges:\n",
    "#             t=(edge[0],edge[1])\n",
    "#             all_keys_b.append(t)\n",
    "            \n",
    "        df.loc[n,\"num_unigrams\"]=len(channel_keys)"
   ]
  },
  {
   "cell_type": "code",
   "execution_count": 1,
   "metadata": {},
   "outputs": [],
   "source": [
    "# df.plot(x='views', y='num_unigrams', style='.', figsize=(12,10))"
   ]
  },
  {
   "cell_type": "code",
   "execution_count": 78,
   "metadata": {},
   "outputs": [
    {
     "data": {
      "text/plain": [
       "76"
      ]
     },
     "execution_count": 78,
     "metadata": {},
     "output_type": "execute_result"
    }
   ],
   "source": [
    "len(np.arange(42261, max(df['views']), 250000000))"
   ]
  },
  {
   "cell_type": "code",
   "execution_count": 109,
   "metadata": {},
   "outputs": [],
   "source": [
    "df2=df['views']>42266"
   ]
  },
  {
   "cell_type": "markdown",
   "metadata": {},
   "source": [
    "## Tag and no tag distribution among channels"
   ]
  },
  {
   "cell_type": "code",
   "execution_count": 21,
   "metadata": {},
   "outputs": [],
   "source": [
    "# df=df.sort_values(by=['views'],ascending=True)\n",
    "df=df.sort_values(by=['views'],ascending=False)"
   ]
  },
  {
   "cell_type": "code",
   "execution_count": 7,
   "metadata": {},
   "outputs": [],
   "source": [
    "q1=df['num_tags'].iloc[0:34572].isna().value_counts()\n",
    "q2=df['num_tags'].iloc[34572:69144].isna().value_counts()\n",
    "q3=df['num_tags'].iloc[69144:103716].isna().value_counts()\n",
    "q4=df['num_tags'].iloc[103716:138288].isna().value_counts()\n",
    "q5=df['num_tags'].iloc[124460:138288].isna().value_counts()"
   ]
  },
  {
   "cell_type": "code",
   "execution_count": null,
   "metadata": {},
   "outputs": [],
   "source": []
  },
  {
   "cell_type": "code",
   "execution_count": 8,
   "metadata": {},
   "outputs": [
    {
     "data": {
      "text/plain": [
       "<matplotlib.legend.Legend at 0x7f52392155f8>"
      ]
     },
     "execution_count": 8,
     "metadata": {},
     "output_type": "execute_result"
    },
    {
     "data": {
      "image/png": "[encoded data removed]",
      "text/plain": [
       "<matplotlib.figure.Figure at 0x7f5249fdb240>"
      ]
     },
     "metadata": {},
     "output_type": "display_data"
    }
   ],
   "source": [
    "barWidth = 0.3\n",
    "# height of the blue bars\n",
    "bars1 = [31392, 28230,22681,22416]\n",
    "# height of the cyan bars\n",
    "bars2 = [3180,6342,11891,12156]\n",
    "# The x position of bars\n",
    "r1 = np.arange(len(bars1))\n",
    "r2 = [x + barWidth for x in r1]\n",
    "#plot bars\n",
    "plt.bar(r1, bars1, width = barWidth, color = 'orange', edgecolor = 'black', capsize=7, label='No tags')\n",
    "plt.bar(r2, bars2, width = barWidth, color = 'blue', edgecolor = 'black', capsize=7, label='Tags')\n",
    "plt.xticks([r + (barWidth*2) for r in range(len(bars1))], ['Q1=199', 'Q2=1.847', 'Q3=42.267', '18,500,000,000'])\n",
    "plt.xlabel('Number of views')\n",
    "plt.ylabel('Number of channels')\n",
    "plt.legend()"
   ]
  },
  {
   "cell_type": "markdown",
   "metadata": {},
   "source": [
    "## Distribution of top ten words among the top ten channels"
   ]
  },
  {
   "cell_type": "code",
   "execution_count": 298,
   "metadata": {},
   "outputs": [],
   "source": [
    "df_hm=pd.read_csv(\"heatmap.csv\")"
   ]
  },
  {
   "cell_type": "code",
   "execution_count": 299,
   "metadata": {},
   "outputs": [],
   "source": [
    "df=df_hm.set_index('TAG')"
   ]
  },
  {
   "cell_type": "code",
   "execution_count": 312,
   "metadata": {},
   "outputs": [],
   "source": [
    "df_hm=df_hm.reset_index(drop=True)\n",
    "df_hm=df_hm.drop(['TAG'], axis=1)\n",
    "array=df_hm.values"
   ]
  },
  {
   "cell_type": "code",
   "execution_count": 324,
   "metadata": {},
   "outputs": [
    {
     "data": {
      "text/plain": [
       "<matplotlib.axes._subplots.AxesSubplot at 0x7f7773eca908>"
      ]
     },
     "execution_count": 324,
     "metadata": {},
     "output_type": "execute_result"
    },
    {
     "data": {
      "image/png": "[encoded data removed]",
      "text/plain": [
       "<matplotlib.figure.Figure at 0x7f77981e3860>"
      ]
     },
     "metadata": {},
     "output_type": "display_data"
    }
   ],
   "source": [
    "ylabels=['game','gaming', 'video', 'gameplay', 'funny', 'play','let','cod', 'mod', 'tutorial']\n",
    "sns.heatmap(df_hm,yticklabels=ylabels, cmap='Blues')"
   ]
  },
  {
   "cell_type": "code",
   "execution_count": 316,
   "metadata": {},
   "outputs": [
    {
     "data": {
      "text/html": [
       "<div>\n",
       "<style scoped>\n",
       "    .dataframe tbody tr th:only-of-type {\n",
       "        vertical-align: middle;\n",
       "    }\n",
       "\n",
       "    .dataframe tbody tr th {\n",
       "        vertical-align: top;\n",
       "    }\n",
       "\n",
       "    .dataframe thead th {\n",
       "        text-align: right;\n",
       "    }\n",
       "</style>\n",
       "<table border=\"1\" class=\"dataframe\">\n",
       "  <thead>\n",
       "    <tr style=\"text-align: right;\">\n",
       "      <th></th>\n",
       "      <th>Minecraft</th>\n",
       "      <th>Overwatch</th>\n",
       "      <th>Agar.io</th>\n",
       "      <th>League of Legends</th>\n",
       "      <th>Call of Duty</th>\n",
       "      <th>Five nights at freddy’s</th>\n",
       "      <th>Pokemon GO</th>\n",
       "      <th>roblox</th>\n",
       "      <th>Grand Theft auto</th>\n",
       "      <th>Happy wheels</th>\n",
       "    </tr>\n",
       "  </thead>\n",
       "  <tbody>\n",
       "    <tr>\n",
       "      <th>0</th>\n",
       "      <td>349.0</td>\n",
       "      <td>518.0</td>\n",
       "      <td>521.0</td>\n",
       "      <td>603.0</td>\n",
       "      <td>573.0</td>\n",
       "      <td>538.0</td>\n",
       "      <td>448.0</td>\n",
       "      <td>463.0</td>\n",
       "      <td>466.0</td>\n",
       "      <td>564.0</td>\n",
       "    </tr>\n",
       "    <tr>\n",
       "      <th>1</th>\n",
       "      <td>396.0</td>\n",
       "      <td>617.0</td>\n",
       "      <td>541.0</td>\n",
       "      <td>638.0</td>\n",
       "      <td>626.0</td>\n",
       "      <td>597.0</td>\n",
       "      <td>494.0</td>\n",
       "      <td>592.0</td>\n",
       "      <td>569.0</td>\n",
       "      <td>675.0</td>\n",
       "    </tr>\n",
       "    <tr>\n",
       "      <th>2</th>\n",
       "      <td>213.0</td>\n",
       "      <td>356.0</td>\n",
       "      <td>340.0</td>\n",
       "      <td>399.0</td>\n",
       "      <td>399.0</td>\n",
       "      <td>341.0</td>\n",
       "      <td>313.0</td>\n",
       "      <td>342.0</td>\n",
       "      <td>307.0</td>\n",
       "      <td>379.0</td>\n",
       "    </tr>\n",
       "    <tr>\n",
       "      <th>3</th>\n",
       "      <td>154.0</td>\n",
       "      <td>306.0</td>\n",
       "      <td>276.0</td>\n",
       "      <td>374.0</td>\n",
       "      <td>325.0</td>\n",
       "      <td>339.0</td>\n",
       "      <td>281.0</td>\n",
       "      <td>280.0</td>\n",
       "      <td>235.0</td>\n",
       "      <td>335.0</td>\n",
       "    </tr>\n",
       "    <tr>\n",
       "      <th>4</th>\n",
       "      <td>179.0</td>\n",
       "      <td>297.0</td>\n",
       "      <td>274.0</td>\n",
       "      <td>341.0</td>\n",
       "      <td>320.0</td>\n",
       "      <td>333.0</td>\n",
       "      <td>282.0</td>\n",
       "      <td>294.0</td>\n",
       "      <td>253.0</td>\n",
       "      <td>331.0</td>\n",
       "    </tr>\n",
       "    <tr>\n",
       "      <th>5</th>\n",
       "      <td>181.0</td>\n",
       "      <td>290.0</td>\n",
       "      <td>272.0</td>\n",
       "      <td>325.0</td>\n",
       "      <td>336.0</td>\n",
       "      <td>287.0</td>\n",
       "      <td>242.0</td>\n",
       "      <td>277.0</td>\n",
       "      <td>225.0</td>\n",
       "      <td>282.0</td>\n",
       "    </tr>\n",
       "    <tr>\n",
       "      <th>6</th>\n",
       "      <td>131.0</td>\n",
       "      <td>203.0</td>\n",
       "      <td>198.0</td>\n",
       "      <td>226.0</td>\n",
       "      <td>241.0</td>\n",
       "      <td>198.0</td>\n",
       "      <td>181.0</td>\n",
       "      <td>201.0</td>\n",
       "      <td>235.0</td>\n",
       "      <td>194.0</td>\n",
       "    </tr>\n",
       "    <tr>\n",
       "      <th>7</th>\n",
       "      <td>123.0</td>\n",
       "      <td>191.0</td>\n",
       "      <td>164.0</td>\n",
       "      <td>190.0</td>\n",
       "      <td>166.0</td>\n",
       "      <td>161.0</td>\n",
       "      <td>117.0</td>\n",
       "      <td>150.0</td>\n",
       "      <td>130.0</td>\n",
       "      <td>202.0</td>\n",
       "    </tr>\n",
       "    <tr>\n",
       "      <th>8</th>\n",
       "      <td>57.0</td>\n",
       "      <td>111.0</td>\n",
       "      <td>112.0</td>\n",
       "      <td>170.0</td>\n",
       "      <td>136.0</td>\n",
       "      <td>142.0</td>\n",
       "      <td>129.0</td>\n",
       "      <td>103.0</td>\n",
       "      <td>102.0</td>\n",
       "      <td>134.0</td>\n",
       "    </tr>\n",
       "    <tr>\n",
       "      <th>9</th>\n",
       "      <td>88.0</td>\n",
       "      <td>134.0</td>\n",
       "      <td>141.0</td>\n",
       "      <td>137.0</td>\n",
       "      <td>137.0</td>\n",
       "      <td>148.0</td>\n",
       "      <td>110.0</td>\n",
       "      <td>125.0</td>\n",
       "      <td>116.0</td>\n",
       "      <td>159.0</td>\n",
       "    </tr>\n",
       "  </tbody>\n",
       "</table>\n",
       "</div>"
      ],
      "text/plain": [
       "   Minecraft  Overwatch  Agar.io  League of Legends  Call of Duty  \\\n",
       "0      349.0      518.0    521.0              603.0         573.0   \n",
       "1      396.0      617.0    541.0              638.0         626.0   \n",
       "2      213.0      356.0    340.0              399.0         399.0   \n",
       "3      154.0      306.0    276.0              374.0         325.0   \n",
       "4      179.0      297.0    274.0              341.0         320.0   \n",
       "5      181.0      290.0    272.0              325.0         336.0   \n",
       "6      131.0      203.0    198.0              226.0         241.0   \n",
       "7      123.0      191.0    164.0              190.0         166.0   \n",
       "8       57.0      111.0    112.0              170.0         136.0   \n",
       "9       88.0      134.0    141.0              137.0         137.0   \n",
       "\n",
       "   Five nights at freddy’s  Pokemon GO  roblox  Grand Theft auto  Happy wheels  \n",
       "0                    538.0       448.0   463.0             466.0         564.0  \n",
       "1                    597.0       494.0   592.0             569.0         675.0  \n",
       "2                    341.0       313.0   342.0             307.0         379.0  \n",
       "3                    339.0       281.0   280.0             235.0         335.0  \n",
       "4                    333.0       282.0   294.0             253.0         331.0  \n",
       "5                    287.0       242.0   277.0             225.0         282.0  \n",
       "6                    198.0       181.0   201.0             235.0         194.0  \n",
       "7                    161.0       117.0   150.0             130.0         202.0  \n",
       "8                    142.0       129.0   103.0             102.0         134.0  \n",
       "9                    148.0       110.0   125.0             116.0         159.0  "
      ]
     },
     "execution_count": 316,
     "metadata": {},
     "output_type": "execute_result"
    }
   ],
   "source": [
    "df_hm"
   ]
  },
  {
   "cell_type": "code",
   "execution_count": 128,
   "metadata": {},
   "outputs": [
    {
     "data": {
      "text/plain": [
       "game             3171\n",
       "gaming           3043\n",
       "video            2271\n",
       "gta              2095\n",
       "gameplay         2053\n",
       "funny            1911\n",
       "play             1720\n",
       "let              1310\n",
       "cod              1272\n",
       "black            1251\n",
       "ops              1159\n",
       "xbox             1013\n",
       "mod               964\n",
       "tutorial          961\n",
       "ps                930\n",
       "lol               925\n",
       "music             894\n",
       "warfare           842\n",
       "pc                819\n",
       "montage           774\n",
       "commentary        771\n",
       "mw                771\n",
       "online            711\n",
       "modern            709\n",
       "comedy            697\n",
       "review            645\n",
       "gamer             644\n",
       "best              619\n",
       "world             597\n",
       "moment            577\n",
       "                 ... \n",
       "defaultsound        1\n",
       "jal                 1\n",
       "festnetz            1\n",
       "kontra              1\n",
       "mrcodinatorxx       1\n",
       "deathadder          1\n",
       "maestus             1\n",
       "floyd               1\n",
       "comedias            1\n",
       "комбо               1\n",
       "daretage            1\n",
       "expel               1\n",
       "bahadır             1\n",
       "résaux              1\n",
       "kina                1\n",
       "sensei              1\n",
       "jdeg                1\n",
       "buzzfeedblue        1\n",
       "aust                1\n",
       "joncas              1\n",
       "epickills           1\n",
       "namc                1\n",
       "diedemotester       1\n",
       "fhmbp               1\n",
       "snowboar            1\n",
       "hrithik             1\n",
       "kawaiidroofie       1\n",
       "goldenkb            1\n",
       "hàn                 1\n",
       "reportaje           1\n",
       "Length: 55791, dtype: int64"
      ]
     },
     "execution_count": 128,
     "metadata": {},
     "output_type": "execute_result"
    }
   ],
   "source": [
    "cu"
   ]
  },
  {
   "cell_type": "code",
   "execution_count": 133,
   "metadata": {},
   "outputs": [],
   "source": [
    "#get the frequency distribution of tags\n",
    "n_tags=Series(cu.values).value_counts()\n",
    "# n_tags\n",
    "#the tags with frequency 1 are 41744"
   ]
  },
  {
   "cell_type": "code",
   "execution_count": 130,
   "metadata": {},
   "outputs": [],
   "source": [
    "mean=cu.sum()/len(cu)\n",
    "# print(mean)\n",
    "#mean is 4.028"
   ]
  },
  {
   "cell_type": "code",
   "execution_count": 12,
   "metadata": {},
   "outputs": [],
   "source": [
    "cu_new2=cu.iloc[0:14047]\n",
    "# cu_new3=cu_new2.iloc[1003:1256]\n",
    "# cu_new2[501:505]"
   ]
  },
  {
   "cell_type": "code",
   "execution_count": 105,
   "metadata": {},
   "outputs": [
    {
     "name": "stdout",
     "output_type": "stream",
     "text": [
      "56300\n"
     ]
    }
   ],
   "source": [
    "#get the number of characters to recognize\n",
    "tot_len=0\n",
    "for n in range(0, len(cu_new2)):\n",
    "    tot_len=tot_len+len(cu_new2.index[0])\n",
    "print (tot_len)"
   ]
  },
  {
   "cell_type": "markdown",
   "metadata": {},
   "source": [
    "### Fitting curve to power law"
   ]
  },
  {
   "cell_type": "code",
   "execution_count": 14,
   "metadata": {},
   "outputs": [
    {
     "data": {
      "text/plain": [
       "game              3171\n",
       "gaming            3043\n",
       "video             2271\n",
       "gta               2095\n",
       "gameplay          2053\n",
       "funny             1911\n",
       "play              1720\n",
       "let               1310\n",
       "cod               1272\n",
       "black             1251\n",
       "ops               1159\n",
       "xbox              1013\n",
       "mod                964\n",
       "tutorial           961\n",
       "ps                 930\n",
       "lol                925\n",
       "music              894\n",
       "warfare            842\n",
       "pc                 819\n",
       "montage            774\n",
       "mw                 771\n",
       "commentary         771\n",
       "online             711\n",
       "modern             709\n",
       "comedy             697\n",
       "review             645\n",
       "gamer              644\n",
       "best               619\n",
       "world              597\n",
       "moment             577\n",
       "                  ... \n",
       "failz                2\n",
       "terrible             2\n",
       "katakana             2\n",
       "tsum                 2\n",
       "watcher              2\n",
       "mane                 2\n",
       "archive              2\n",
       "shrimp               2\n",
       "vadr                 2\n",
       "humoristique         2\n",
       "zonday               2\n",
       "blackman             2\n",
       "veil                 2\n",
       "fenton               2\n",
       "fenerbahçe           2\n",
       "dental               2\n",
       "pup                  2\n",
       "billie               2\n",
       "amish                2\n",
       "minecraftfr          2\n",
       "tipo                 2\n",
       "guesswhaaat          2\n",
       "fancy                2\n",
       "pelaillaan           2\n",
       "pierre               2\n",
       "playcomedyclub       2\n",
       "abdullah             2\n",
       "donkrideout          2\n",
       "vaz                  2\n",
       "mak                  2\n",
       "Length: 14047, dtype: int64"
      ]
     },
     "execution_count": 14,
     "metadata": {},
     "output_type": "execute_result"
    }
   ],
   "source": [
    "cu_new2"
   ]
  },
  {
   "cell_type": "code",
   "execution_count": 17,
   "metadata": {},
   "outputs": [
    {
     "data": {
      "text/plain": [
       "(let, play)                  1239\n",
       "(black, ops)                 1132\n",
       "(video, game)                 928\n",
       "(modern, warfare)             605\n",
       "(gaming, game)                509\n",
       "(funny, moment)               480\n",
       "(game, gaming)                466\n",
       "(gta, online)                 448\n",
       "(game, play)                  418\n",
       "(gaming, video)               400\n",
       "(game, gameplay)              368\n",
       "(gaming, funny)               367\n",
       "(gaming, play)                353\n",
       "(gaming, gameplay)            345\n",
       "(gta, mod)                    343\n",
       "(game, video)                 319\n",
       "(game, funny)                 301\n",
       "(play, game)                  299\n",
       "(gaming, let)                 298\n",
       "(gameplay, game)              293\n",
       "(game, let)                   293\n",
       "(cod, ops)                    286\n",
       "(san, andreas)                284\n",
       "(cod, black)                  283\n",
       "(funny, video)                283\n",
       "(ps, xbox)                    273\n",
       "(cod, mw)                     267\n",
       "(xbox, one)                   266\n",
       "(game, xbox)                  260\n",
       "(gameplay, commentary)        259\n",
       "                             ... \n",
       "(cekay, microsoft)              1\n",
       "(vid, pivot)                    1\n",
       "(barber, ali)                   1\n",
       "(shock, troll)                  1\n",
       "(shop, iv)                      1\n",
       "(diseño, especiales)            1\n",
       "(trooper, thompson)             1\n",
       "(ops, arenanet)                 1\n",
       "(promod, msr)                   1\n",
       "(vlogger, top)                  1\n",
       "(jen, gameplay)                 1\n",
       "(aaaaceeee, daresnipin)         1\n",
       "(scienza, culture)              1\n",
       "(attraction, chaîne)            1\n",
       "(assyriansoldier, fixing)       1\n",
       "(plant, piano)                  1\n",
       "(codchameleon, timore)          1\n",
       "(cm, mk)                        1\n",
       "(celebrity, medium)             1\n",
       "(mixt, uita)                    1\n",
       "(sxephil, pc)                   1\n",
       "(tournament, european)          1\n",
       "(hoạt, student)                 1\n",
       "(freakout, pack)                1\n",
       "(visual, oshare)                1\n",
       "(сервер, как)                   1\n",
       "(gamebang, anime)               1\n",
       "(canal, julia)                  1\n",
       "(buckeye, series)               1\n",
       "(maker, draw)                   1\n",
       "Length: 1569755, dtype: int64"
      ]
     },
     "execution_count": 17,
     "metadata": {},
     "output_type": "execute_result"
    }
   ],
   "source": [
    "cb"
   ]
  },
  {
   "cell_type": "code",
   "execution_count": 21,
   "metadata": {},
   "outputs": [
    {
     "data": {
      "text/plain": [
       "'let'"
      ]
     },
     "execution_count": 21,
     "metadata": {},
     "output_type": "execute_result"
    }
   ],
   "source": [
    "cb.index[0][0]"
   ]
  },
  {
   "cell_type": "markdown",
   "metadata": {},
   "source": [
    "## clean all inverted tuples"
   ]
  },
  {
   "cell_type": "code",
   "execution_count": 75,
   "metadata": {},
   "outputs": [],
   "source": [
    "unique_weights=[]\n",
    "for n in range (0,1569755):\n",
    "    try:\n",
    "        edge=cb.index[n]\n",
    "        edge2=(edge[1],edge[0])\n",
    "        if edge2 in cb.index:\n",
    "            new_value= cb[edge]+cb[edge2]\n",
    "            cb=cb.drop(edge2)\n",
    "            unique_weights.append(new_value)\n",
    "        else:\n",
    "            unique_weights.append(cb[edge])\n",
    "#         unique_relations.append(edge)\n",
    "    except:\n",
    "        break"
   ]
  },
  {
   "cell_type": "code",
   "execution_count": 45,
   "metadata": {},
   "outputs": [],
   "source": [
    "x=('game', 'gaming')\n",
    "y=('a','b')"
   ]
  },
  {
   "cell_type": "code",
   "execution_count": 46,
   "metadata": {},
   "outputs": [],
   "source": [
    "if y in cb.index:\n",
    "    print ('t')"
   ]
  },
  {
   "cell_type": "code",
   "execution_count": 55,
   "metadata": {},
   "outputs": [
    {
     "name": "stdout",
     "output_type": "stream",
     "text": [
      "('game', 'play')\n"
     ]
    }
   ],
   "source": [
    "cb2=cb.drop(x)\n",
    "print(cb2.index[7])\n"
   ]
  },
  {
   "cell_type": "code",
   "execution_count": 76,
   "metadata": {},
   "outputs": [
    {
     "data": {
      "text/plain": [
       "(let, play)                  1239\n",
       "(black, ops)                 1132\n",
       "(video, game)                 928\n",
       "(modern, warfare)             605\n",
       "(gaming, game)                509\n",
       "(funny, moment)               480\n",
       "(gta, online)                 448\n",
       "(game, play)                  418\n",
       "(gaming, video)               400\n",
       "(game, gameplay)              368\n",
       "(gaming, funny)               367\n",
       "(gaming, play)                353\n",
       "(gaming, gameplay)            345\n",
       "(gta, mod)                    343\n",
       "(game, funny)                 301\n",
       "(gaming, let)                 298\n",
       "(game, let)                   293\n",
       "(cod, ops)                    286\n",
       "(san, andreas)                284\n",
       "(cod, black)                  283\n",
       "(funny, video)                283\n",
       "(ps, xbox)                    273\n",
       "(cod, mw)                     267\n",
       "(xbox, one)                   266\n",
       "(game, xbox)                  260\n",
       "(gameplay, commentary)        259\n",
       "(game, pc)                    255\n",
       "(gameplay, play)              249\n",
       "(cod, warfare)                249\n",
       "(black, warfare)              247\n",
       "                             ... \n",
       "(cekay, microsoft)              1\n",
       "(vid, pivot)                    1\n",
       "(barber, ali)                   1\n",
       "(shock, troll)                  1\n",
       "(shop, iv)                      1\n",
       "(diseño, especiales)            1\n",
       "(trooper, thompson)             1\n",
       "(ops, arenanet)                 1\n",
       "(promod, msr)                   1\n",
       "(vlogger, top)                  1\n",
       "(jen, gameplay)                 1\n",
       "(aaaaceeee, daresnipin)         1\n",
       "(scienza, culture)              1\n",
       "(attraction, chaîne)            1\n",
       "(assyriansoldier, fixing)       1\n",
       "(plant, piano)                  1\n",
       "(codchameleon, timore)          1\n",
       "(cm, mk)                        1\n",
       "(celebrity, medium)             1\n",
       "(mixt, uita)                    1\n",
       "(sxephil, pc)                   1\n",
       "(tournament, european)          1\n",
       "(hoạt, student)                 1\n",
       "(freakout, pack)                1\n",
       "(visual, oshare)                1\n",
       "(сервер, как)                   1\n",
       "(gamebang, anime)               1\n",
       "(canal, julia)                  1\n",
       "(buckeye, series)               1\n",
       "(maker, draw)                   1\n",
       "Length: 1569559, dtype: int64"
      ]
     },
     "execution_count": 76,
     "metadata": {},
     "output_type": "execute_result"
    }
   ],
   "source": [
    "cb"
   ]
  },
  {
   "cell_type": "code",
   "execution_count": 71,
   "metadata": {},
   "outputs": [
    {
     "ename": "ValueError",
     "evalue": "Not enough indexers for scalar access (setting)!",
     "output_type": "error",
     "traceback": [
      "\u001b[0;31m---------------------------------------------------------------------------\u001b[0m",
      "\u001b[0;31mValueError\u001b[0m                                Traceback (most recent call last)",
      "\u001b[0;32m<ipython-input-71-ac24d39fb01c>\u001b[0m in \u001b[0;36m<module>\u001b[0;34m()\u001b[0m\n\u001b[0;32m----> 1\u001b[0;31m \u001b[0mcb\u001b[0m\u001b[0;34m.\u001b[0m\u001b[0mat\u001b[0m\u001b[0;34m[\u001b[0m\u001b[0;34m'value'\u001b[0m\u001b[0;34m,\u001b[0m\u001b[0;34m(\u001b[0m\u001b[0;34m'gaming'\u001b[0m\u001b[0;34m,\u001b[0m\u001b[0;34m'game'\u001b[0m\u001b[0;34m)\u001b[0m\u001b[0;34m]\u001b[0m\u001b[0;34m=\u001b[0m \u001b[0;36m5\u001b[0m\u001b[0;34m\u001b[0m\u001b[0m\n\u001b[0m",
      "\u001b[0;32m~/.virtualenvs/LetsPlayData/lib/python3.5/site-packages/pandas/core/indexing.py\u001b[0m in \u001b[0;36m__setitem__\u001b[0;34m(self, key, value)\u001b[0m\n\u001b[1;32m   1880\u001b[0m             \u001b[0mkey\u001b[0m \u001b[0;34m=\u001b[0m \u001b[0mself\u001b[0m\u001b[0;34m.\u001b[0m\u001b[0m_tuplify\u001b[0m\u001b[0;34m(\u001b[0m\u001b[0mkey\u001b[0m\u001b[0;34m)\u001b[0m\u001b[0;34m\u001b[0m\u001b[0m\n\u001b[1;32m   1881\u001b[0m         \u001b[0;32mif\u001b[0m \u001b[0mlen\u001b[0m\u001b[0;34m(\u001b[0m\u001b[0mkey\u001b[0m\u001b[0;34m)\u001b[0m \u001b[0;34m!=\u001b[0m \u001b[0mself\u001b[0m\u001b[0;34m.\u001b[0m\u001b[0mobj\u001b[0m\u001b[0;34m.\u001b[0m\u001b[0mndim\u001b[0m\u001b[0;34m:\u001b[0m\u001b[0;34m\u001b[0m\u001b[0m\n\u001b[0;32m-> 1882\u001b[0;31m             raise ValueError('Not enough indexers for scalar access '\n\u001b[0m\u001b[1;32m   1883\u001b[0m                              '(setting)!')\n\u001b[1;32m   1884\u001b[0m         \u001b[0mkey\u001b[0m \u001b[0;34m=\u001b[0m \u001b[0mlist\u001b[0m\u001b[0;34m(\u001b[0m\u001b[0mself\u001b[0m\u001b[0;34m.\u001b[0m\u001b[0m_convert_key\u001b[0m\u001b[0;34m(\u001b[0m\u001b[0mkey\u001b[0m\u001b[0;34m,\u001b[0m \u001b[0mis_setter\u001b[0m\u001b[0;34m=\u001b[0m\u001b[0;32mTrue\u001b[0m\u001b[0;34m)\u001b[0m\u001b[0;34m)\u001b[0m\u001b[0;34m\u001b[0m\u001b[0m\n",
      "\u001b[0;31mValueError\u001b[0m: Not enough indexers for scalar access (setting)!"
     ]
    }
   ],
   "source": [
    "cb.at['value',('gaming','game')]= 5"
   ]
  },
  {
   "cell_type": "code",
   "execution_count": 78,
   "metadata": {},
   "outputs": [
    {
     "data": {
      "text/plain": [
       "[1272,\n",
       " 1137,\n",
       " 1247,\n",
       " 652,\n",
       " 975,\n",
       " 522,\n",
       " 472,\n",
       " 717,\n",
       " 638,\n",
       " 661,\n",
       " 560,\n",
       " 552,\n",
       " 541,\n",
       " 422,\n",
       " 542,\n",
       " 462,\n",
       " 549,\n",
       " 532,\n",
       " 284,\n",
       " 531,\n",
       " 499,\n",
       " 526,\n",
       " 445,\n",
       " 281,\n",
       " 391,\n",
       " 372,\n",
       " 371,\n",
       " 483,\n",
       " 425,\n",
       " 457,\n",
       " 460,\n",
       " 259,\n",
       " 260,\n",
       " 379,\n",
       " 337,\n",
       " 229,\n",
       " 354,\n",
       " 387,\n",
       " 287,\n",
       " 333,\n",
       " 293,\n",
       " 328,\n",
       " 346,\n",
       " 337,\n",
       " 401,\n",
       " 372,\n",
       " 359,\n",
       " 367,\n",
       " 381,\n",
       " 305,\n",
       " 303,\n",
       " 382,\n",
       " 297,\n",
       " 279,\n",
       " 348,\n",
       " 280,\n",
       " 376,\n",
       " 205,\n",
       " 376,\n",
       " 284,\n",
       " 255,\n",
       " 252,\n",
       " 280,\n",
       " 330,\n",
       " 258,\n",
       " 340,\n",
       " 342,\n",
       " 306,\n",
       " 286,\n",
       " 266,\n",
       " 200,\n",
       " 266,\n",
       " 178,\n",
       " 257,\n",
       " 274,\n",
       " 209,\n",
       " 262,\n",
       " 209,\n",
       " 249,\n",
       " 227,\n",
       " 246,\n",
       " 250,\n",
       " 233,\n",
       " 216,\n",
       " 203,\n",
       " 218,\n",
       " 254,\n",
       " 219,\n",
       " 230,\n",
       " 211,\n",
       " 218,\n",
       " 247,\n",
       " 144,\n",
       " 224,\n",
       " 144,\n",
       " 235,\n",
       " 240,\n",
       " 139,\n",
       " 225,\n",
       " 214,\n",
       " 174,\n",
       " 212,\n",
       " 222,\n",
       " 245,\n",
       " 175,\n",
       " 231,\n",
       " 255,\n",
       " 231,\n",
       " 187,\n",
       " 212,\n",
       " 202,\n",
       " 195,\n",
       " 245,\n",
       " 186,\n",
       " 155,\n",
       " 133,\n",
       " 247,\n",
       " 142,\n",
       " 210,\n",
       " 171,\n",
       " 122,\n",
       " 188,\n",
       " 188,\n",
       " 211,\n",
       " 180,\n",
       " 206,\n",
       " 193,\n",
       " 170,\n",
       " 212,\n",
       " 170,\n",
       " 209,\n",
       " 122,\n",
       " 185,\n",
       " 147,\n",
       " 208,\n",
       " 161,\n",
       " 180,\n",
       " 193,\n",
       " 182,\n",
       " 177,\n",
       " 198,\n",
       " 164,\n",
       " 157,\n",
       " 162,\n",
       " 170,\n",
       " 206,\n",
       " 181,\n",
       " 131,\n",
       " 190,\n",
       " 169,\n",
       " 146,\n",
       " 167,\n",
       " 171,\n",
       " 179,\n",
       " 168,\n",
       " 167,\n",
       " 139,\n",
       " 180,\n",
       " 110,\n",
       " 178,\n",
       " 179,\n",
       " 188,\n",
       " 146,\n",
       " 187,\n",
       " 164,\n",
       " 106,\n",
       " 137,\n",
       " 164,\n",
       " 156,\n",
       " 173,\n",
       " 169,\n",
       " 187,\n",
       " 171,\n",
       " 185,\n",
       " 167,\n",
       " 167,\n",
       " 137,\n",
       " 185,\n",
       " 127,\n",
       " 154,\n",
       " 144,\n",
       " 181,\n",
       " 151,\n",
       " 151,\n",
       " 173,\n",
       " 124,\n",
       " 169,\n",
       " 184,\n",
       " 157,\n",
       " 124,\n",
       " 106,\n",
       " 138,\n",
       " 128,\n",
       " 172,\n",
       " 171,\n",
       " 135,\n",
       " 163,\n",
       " 126,\n",
       " 113]"
      ]
     },
     "execution_count": 78,
     "metadata": {},
     "output_type": "execute_result"
    }
   ],
   "source": [
    "unique_weights"
   ]
  },
  {
   "cell_type": "code",
   "execution_count": 62,
   "metadata": {},
   "outputs": [
    {
     "ename": "AttributeError",
     "evalue": "'property' object has no attribute 'index'",
     "output_type": "error",
     "traceback": [
      "\u001b[0;31m---------------------------------------------------------------------------\u001b[0m",
      "\u001b[0;31mAttributeError\u001b[0m                            Traceback (most recent call last)",
      "\u001b[0;32m<ipython-input-62-e5a84c7c7bdf>\u001b[0m in \u001b[0;36m<module>\u001b[0;34m()\u001b[0m\n\u001b[0;32m----> 1\u001b[0;31m \u001b[0mnew_cb\u001b[0m\u001b[0;34m.\u001b[0m\u001b[0mindex\u001b[0m\u001b[0;34m[\u001b[0m\u001b[0;36m0\u001b[0m\u001b[0;34m]\u001b[0m\u001b[0;34m=\u001b[0m\u001b[0;34m(\u001b[0m\u001b[0;34m'a'\u001b[0m\u001b[0;34m,\u001b[0m\u001b[0;34m'b'\u001b[0m\u001b[0;34m)\u001b[0m\u001b[0;34m\u001b[0m\u001b[0m\n\u001b[0m",
      "\u001b[0;31mAttributeError\u001b[0m: 'property' object has no attribute 'index'"
     ]
    }
   ],
   "source": [
    "new_cb.index[0]=('a','b')"
   ]
  },
  {
   "cell_type": "code",
   "execution_count": null,
   "metadata": {},
   "outputs": [],
   "source": []
  },
  {
   "cell_type": "code",
   "execution_count": null,
   "metadata": {},
   "outputs": [],
   "source": []
  }
 ],
 "metadata": {
  "kernelspec": {
   "display_name": "Python 3",
   "language": "python",
   "name": "python3"
  },
  "language_info": {
   "codemirror_mode": {
    "name": "ipython",
    "version": 3
   },
   "file_extension": ".py",
   "mimetype": "text/x-python",
   "name": "python",
   "nbconvert_exporter": "python",
   "pygments_lexer": "ipython3",
   "version": "3.5.2"
  }
 },
 "nbformat": 4,
 "nbformat_minor": 2
}
