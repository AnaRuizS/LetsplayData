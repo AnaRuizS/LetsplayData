{
 "cells": [
  {
   "cell_type": "code",
   "execution_count": 1,
   "metadata": {},
   "outputs": [],
   "source": [
    "import time\n",
    "import csv\n",
    "import os\n",
    "import numpy as np\n",
    "import matplotlib.pyplot as plt\n",
    "import pandas as pd\n",
    "\n",
    "from yandex import Translater\n",
    "from pandas import Series\n",
    "from collections import Counter\n",
    "from google.cloud import translate\n",
    "import types\n",
    "# client=translate.Client()"
   ]
  },
  {
   "cell_type": "code",
   "execution_count": 3,
   "metadata": {},
   "outputs": [],
   "source": [
    "df = pd.read_csv('../data/comments.csv')\n",
    "df.fillna('', inplace=True)"
   ]
  },
  {
   "cell_type": "code",
   "execution_count": 4,
   "metadata": {},
   "outputs": [
    {
     "data": {
      "text/plain": [
       "(316043, 3)"
      ]
     },
     "execution_count": 4,
     "metadata": {},
     "output_type": "execute_result"
    }
   ],
   "source": [
    "df.shape"
   ]
  },
  {
   "cell_type": "code",
   "execution_count": 5,
   "metadata": {},
   "outputs": [
    {
     "data": {
      "text/html": [
       "<div>\n",
       "<style scoped>\n",
       "    .dataframe tbody tr th:only-of-type {\n",
       "        vertical-align: middle;\n",
       "    }\n",
       "\n",
       "    .dataframe tbody tr th {\n",
       "        vertical-align: top;\n",
       "    }\n",
       "\n",
       "    .dataframe thead th {\n",
       "        text-align: right;\n",
       "    }\n",
       "</style>\n",
       "<table border=\"1\" class=\"dataframe\">\n",
       "  <thead>\n",
       "    <tr style=\"text-align: right;\">\n",
       "      <th></th>\n",
       "      <th>channelId</th>\n",
       "      <th>community</th>\n",
       "      <th>text</th>\n",
       "    </tr>\n",
       "  </thead>\n",
       "  <tbody>\n",
       "    <tr>\n",
       "      <th>0</th>\n",
       "      <td>UC5tp0GG3-cvlnflj5NuA9xQ</td>\n",
       "      <td>9</td>\n",
       "      <td>i think it's the tree stump, could be a a slee...</td>\n",
       "    </tr>\n",
       "    <tr>\n",
       "      <th>1</th>\n",
       "      <td>UC5tp0GG3-cvlnflj5NuA9xQ</td>\n",
       "      <td>9</td>\n",
       "      <td>Lothrazar. use the dream rod on the tree stump...</td>\n",
       "    </tr>\n",
       "    <tr>\n",
       "      <th>2</th>\n",
       "      <td>UC5tp0GG3-cvlnflj5NuA9xQ</td>\n",
       "      <td>9</td>\n",
       "      <td>whoops sorry posted that half way through the ...</td>\n",
       "    </tr>\n",
       "    <tr>\n",
       "      <th>3</th>\n",
       "      <td>UC5tp0GG3-cvlnflj5NuA9xQ</td>\n",
       "      <td>9</td>\n",
       "      <td>lol kinda pointless to say so now but by the l...</td>\n",
       "    </tr>\n",
       "    <tr>\n",
       "      <th>4</th>\n",
       "      <td>UC5tp0GG3-cvlnflj5NuA9xQ</td>\n",
       "      <td>9</td>\n",
       "      <td>Thanks, and it wasn't a spoiler, I usualy have...</td>\n",
       "    </tr>\n",
       "  </tbody>\n",
       "</table>\n",
       "</div>"
      ],
      "text/plain": [
       "                  channelId  community  \\\n",
       "0  UC5tp0GG3-cvlnflj5NuA9xQ          9   \n",
       "1  UC5tp0GG3-cvlnflj5NuA9xQ          9   \n",
       "2  UC5tp0GG3-cvlnflj5NuA9xQ          9   \n",
       "3  UC5tp0GG3-cvlnflj5NuA9xQ          9   \n",
       "4  UC5tp0GG3-cvlnflj5NuA9xQ          9   \n",
       "\n",
       "                                                text  \n",
       "0  i think it's the tree stump, could be a a slee...  \n",
       "1  Lothrazar. use the dream rod on the tree stump...  \n",
       "2  whoops sorry posted that half way through the ...  \n",
       "3  lol kinda pointless to say so now but by the l...  \n",
       "4  Thanks, and it wasn't a spoiler, I usualy have...  "
      ]
     },
     "execution_count": 5,
     "metadata": {},
     "output_type": "execute_result"
    }
   ],
   "source": [
    "df.head()"
   ]
  },
  {
   "cell_type": "code",
   "execution_count": 20,
   "metadata": {},
   "outputs": [],
   "source": [
    "i=0\n",
    "\n",
    "fieldnames=['channelId','community','text','language']\n",
    "out=open('../data/comments_lan.csv', 'a')\n",
    "writer = csv.DictWriter(out, fieldnames=fieldnames)\n",
    "# writer.writeheader()  \n",
    "    \n",
    "for text in df.text:\n",
    "    if i>=52463:\n",
    "        if len(text)>35:\n",
    "            txt=text[0:35]\n",
    "        else:\n",
    "            txt=text\n",
    "\n",
    "        lan=client.detect_language(txt)\n",
    "    #     conf=conf+lan['confidence']\n",
    "        df.loc[i, 'language'] = lan['language']\n",
    "\n",
    "        writer.writerow(df.iloc[i].to_dict())\n",
    "        \n",
    "        if i%100==0:\n",
    "            time.sleep(1)\n",
    "    \n",
    "    i+=1\n",
    "        \n",
    "out.close()"
   ]
  },
  {
   "cell_type": "code",
   "execution_count": 31,
   "metadata": {},
   "outputs": [],
   "source": [
    "# l=0\n",
    "# j=0\n",
    "# for i in range (0, len(df)):\n",
    "#     if len(df.text[i])>35:\n",
    "#         text=df.text[i][0:35]\n",
    "#         j+=1\n",
    "#     else:\n",
    "#         text=df.text[i]\n",
    "        \n",
    "#     l+=len(text)\n"
   ]
  },
  {
   "cell_type": "code",
   "execution_count": 32,
   "metadata": {},
   "outputs": [],
   "source": [
    "# l=0\n",
    "# for text in df.text:\n",
    "#     if len(text)>35:\n",
    "#         txt=text[0:35]\n",
    "#     else:\n",
    "#         txt=text\n",
    "    \n",
    "#     l+=len(txt)"
   ]
  },
  {
   "cell_type": "code",
   "execution_count": 33,
   "metadata": {},
   "outputs": [],
   "source": [
    "# l=9410119"
   ]
  },
  {
   "cell_type": "markdown",
   "metadata": {},
   "source": [
    "## Length of csv comments by language file"
   ]
  },
  {
   "cell_type": "code",
   "execution_count": 50,
   "metadata": {},
   "outputs": [
    {
     "data": {
      "text/plain": [
       "125849"
      ]
     },
     "execution_count": 50,
     "metadata": {},
     "output_type": "execute_result"
    }
   ],
   "source": [
    "with open ('../data/comments_translated2.csv', 'r') as csvfile:\n",
    "    fileObj=csv.reader(csvfile)\n",
    "    num = sum(1 for row in fileObj)\n",
    "    \n",
    "num"
   ]
  },
  {
   "cell_type": "code",
   "execution_count": 12,
   "metadata": {},
   "outputs": [],
   "source": [
    "df2 = pd.read_csv('../data/comments_lan.csv')\n",
    "df2.fillna('', inplace=True)"
   ]
  },
  {
   "cell_type": "code",
   "execution_count": 38,
   "metadata": {},
   "outputs": [],
   "source": [
    "counter=Counter(Series(df2.language)).most_common(100)\n",
    "# print (counter)\n",
    "freq_lan= [counter [i][0] for i in range (0,len(counter))]"
   ]
  },
  {
   "cell_type": "markdown",
   "metadata": {},
   "source": [
    "## Yandex detection algorithm"
   ]
  },
  {
   "cell_type": "code",
   "execution_count": 9,
   "metadata": {},
   "outputs": [],
   "source": [
    "tr=Translater()\n",
    "tr.set_key(os.environ.get('YANDEX_API'))\n",
    "\n",
    "fieldnames=['channelId','community','text','language']\n",
    "out=open('../data/comments_lan2.csv', 'a')\n",
    "writer = csv.DictWriter(out, fieldnames=fieldnames)\n",
    "# writer.writeheader()  "
   ]
  },
  {
   "cell_type": "code",
   "execution_count": 80,
   "metadata": {},
   "outputs": [],
   "source": [
    "i=0\n",
    "for lan in df2.language:\n",
    "    if i>=244969:\n",
    "        if (lan not in freq_lan) and (lan!='und'):\n",
    "            tr.set_text(df2.iloc[i].text)\n",
    "            df2.loc[i, 'language'] = tr.detect_lang()\n",
    "            writer.writerow(df2.iloc[i].to_dict())\n",
    "    #         print(df2.iloc[i].to_dict())\n",
    "        else:\n",
    "            writer.writerow(df2.iloc[i].to_dict())\n",
    "    #         print(df2.iloc[i].to_dict())\n",
    "    i+=1\n",
    "    \n",
    "out.close()"
   ]
  },
  {
   "cell_type": "code",
   "execution_count": 4,
   "metadata": {},
   "outputs": [],
   "source": [
    "df3 = pd.read_csv('../data/comments_lan2.csv')\n",
    "df3.fillna('', inplace=True)"
   ]
  },
  {
   "cell_type": "code",
   "execution_count": 5,
   "metadata": {},
   "outputs": [],
   "source": [
    "i=0\n",
    "st='Failed to detect the language! (response code Bad Request'\n",
    "\n",
    "for lan in df3.language:\n",
    "    if (lan ==st):\n",
    "        df3.loc[i,'language']='und'\n",
    "    i+=1"
   ]
  },
  {
   "cell_type": "code",
   "execution_count": 6,
   "metadata": {},
   "outputs": [
    {
     "name": "stdout",
     "output_type": "stream",
     "text": [
      "['en', 'de', 'ru', 'es', 'pt', 'und', 'it', 'fr', 'nl', 'tr']\n",
      "[('en', 190408), ('de', 39244), ('ru', 34905), ('es', 26823), ('pt', 10944), ('und', 7834), ('it', 2455), ('fr', 2358), ('nl', 162), ('tr', 119)]\n"
     ]
    }
   ],
   "source": [
    "counter=Counter(Series(df3.language)).most_common(10)\n",
    "freq_lan= [counter [i][0] for i in range (0,len(counter))]\n",
    "print(freq_lan)\n",
    "print(counter)"
   ]
  },
  {
   "cell_type": "code",
   "execution_count": 7,
   "metadata": {},
   "outputs": [
    {
     "data": {
      "text/plain": [
       "(316043, 4)"
      ]
     },
     "execution_count": 7,
     "metadata": {},
     "output_type": "execute_result"
    }
   ],
   "source": [
    "df3.shape"
   ]
  },
  {
   "cell_type": "code",
   "execution_count": 8,
   "metadata": {},
   "outputs": [
    {
     "data": {
      "text/html": [
       "<div>\n",
       "<style scoped>\n",
       "    .dataframe tbody tr th:only-of-type {\n",
       "        vertical-align: middle;\n",
       "    }\n",
       "\n",
       "    .dataframe tbody tr th {\n",
       "        vertical-align: top;\n",
       "    }\n",
       "\n",
       "    .dataframe thead th {\n",
       "        text-align: right;\n",
       "    }\n",
       "</style>\n",
       "<table border=\"1\" class=\"dataframe\">\n",
       "  <thead>\n",
       "    <tr style=\"text-align: right;\">\n",
       "      <th></th>\n",
       "      <th>channelId</th>\n",
       "      <th>community</th>\n",
       "      <th>text</th>\n",
       "      <th>language</th>\n",
       "    </tr>\n",
       "  </thead>\n",
       "  <tbody>\n",
       "    <tr>\n",
       "      <th>0</th>\n",
       "      <td>UC5tp0GG3-cvlnflj5NuA9xQ</td>\n",
       "      <td>9</td>\n",
       "      <td>i think it's the tree stump, could be a a slee...</td>\n",
       "      <td>en</td>\n",
       "    </tr>\n",
       "    <tr>\n",
       "      <th>1</th>\n",
       "      <td>UC5tp0GG3-cvlnflj5NuA9xQ</td>\n",
       "      <td>9</td>\n",
       "      <td>Lothrazar. use the dream rod on the tree stump...</td>\n",
       "      <td>en</td>\n",
       "    </tr>\n",
       "    <tr>\n",
       "      <th>2</th>\n",
       "      <td>UC5tp0GG3-cvlnflj5NuA9xQ</td>\n",
       "      <td>9</td>\n",
       "      <td>whoops sorry posted that half way through the ...</td>\n",
       "      <td>en</td>\n",
       "    </tr>\n",
       "    <tr>\n",
       "      <th>3</th>\n",
       "      <td>UC5tp0GG3-cvlnflj5NuA9xQ</td>\n",
       "      <td>9</td>\n",
       "      <td>lol kinda pointless to say so now but by the l...</td>\n",
       "      <td>en</td>\n",
       "    </tr>\n",
       "    <tr>\n",
       "      <th>4</th>\n",
       "      <td>UC5tp0GG3-cvlnflj5NuA9xQ</td>\n",
       "      <td>9</td>\n",
       "      <td>Thanks, and it wasn't a spoiler, I usualy have...</td>\n",
       "      <td>en</td>\n",
       "    </tr>\n",
       "  </tbody>\n",
       "</table>\n",
       "</div>"
      ],
      "text/plain": [
       "                  channelId  community  \\\n",
       "0  UC5tp0GG3-cvlnflj5NuA9xQ          9   \n",
       "1  UC5tp0GG3-cvlnflj5NuA9xQ          9   \n",
       "2  UC5tp0GG3-cvlnflj5NuA9xQ          9   \n",
       "3  UC5tp0GG3-cvlnflj5NuA9xQ          9   \n",
       "4  UC5tp0GG3-cvlnflj5NuA9xQ          9   \n",
       "\n",
       "                                                text language  \n",
       "0  i think it's the tree stump, could be a a slee...       en  \n",
       "1  Lothrazar. use the dream rod on the tree stump...       en  \n",
       "2  whoops sorry posted that half way through the ...       en  \n",
       "3  lol kinda pointless to say so now but by the l...       en  \n",
       "4  Thanks, and it wasn't a spoiler, I usualy have...       en  "
      ]
     },
     "execution_count": 8,
     "metadata": {},
     "output_type": "execute_result"
    }
   ],
   "source": [
    "df3.head()"
   ]
  },
  {
   "cell_type": "markdown",
   "metadata": {},
   "source": [
    "## YANDEX translation of text detected in other languages"
   ]
  },
  {
   "cell_type": "code",
   "execution_count": 34,
   "metadata": {},
   "outputs": [],
   "source": [
    "tr=Translater()\n",
    "tr.set_key(os.environ.get('YANDEX_API3'))\n",
    "tr.set_to_lang('en')\n",
    "\n",
    "fieldnames=['channelId','community','text','language','translation']\n",
    "out2=open('../data/comments_translated2.csv', 'a')\n",
    "writer2 = csv.DictWriter(out2, fieldnames=fieldnames)\n",
    "# writer2.writeheader()  "
   ]
  },
  {
   "cell_type": "code",
   "execution_count": 36,
   "metadata": {},
   "outputs": [],
   "source": [
    "i=0\n",
    "foreign=0\n",
    "    \n",
    "for lan in df3.language:\n",
    "    if i>=309850:\n",
    "        if (lan in freq_lan) and (lan!='und'):\n",
    "            txt=df3.iloc[i].text\n",
    "            \n",
    "            if lan=='en':\n",
    "                df3.loc[i, 'translation'] =txt\n",
    "                writer2.writerow(df3.iloc[i].to_dict())\n",
    "            else:\n",
    "                ## Yandex Translation\n",
    "                tr.set_text(txt)\n",
    "                tr.set_from_lang(lan)\n",
    "                \n",
    "                df3.loc[i, 'translation'] = tr.translate()\n",
    "                writer2.writerow(df3.iloc[i].to_dict())\n",
    "                foreign+=len(txt)\n",
    "            \n",
    "            if (i%5==0):\n",
    "                time.sleep(1.5)\n",
    "                \n",
    "            if foreign>=900000:\n",
    "                break\n",
    "                print(i)\n",
    "    i+=1\n",
    "        \n",
    "out2.close()"
   ]
  },
  {
   "cell_type": "code",
   "execution_count": 35,
   "metadata": {},
   "outputs": [
    {
     "data": {
      "text/plain": [
       "'hello world'"
      ]
     },
     "execution_count": 35,
     "metadata": {},
     "output_type": "execute_result"
    }
   ],
   "source": [
    "tr.set_key(os.environ.get('YANDEX_API3'))\n",
    "tr.set_text('hola mundo')\n",
    "tr.set_to_lang('en')\n",
    "tr.set_from_lang('es')\n",
    "tr.translate()"
   ]
  },
  {
   "cell_type": "markdown",
   "metadata": {},
   "source": [
    "## Find line last comment"
   ]
  },
  {
   "cell_type": "code",
   "execution_count": 2,
   "metadata": {},
   "outputs": [
    {
     "name": "stdout",
     "output_type": "stream",
     "text": [
      "307450\n",
      "channelId                               UCrd7UM5OBtB0n1zl41qwCUw\n",
      "community                                                     87\n",
      "text           Юджин от меча разум понижается(ставьте лайки ч...\n",
      "language                                                      ru\n",
      "translation    Eugene from the sword of the mind is reduced(l...\n",
      "Name: 307449, dtype: object\n"
     ]
    }
   ],
   "source": [
    "df5 = pd.read_csv('../data/comments_translated2.csv')\n",
    "df5.fillna('', inplace=True)\n",
    "l=len(df5)\n",
    "print (l)\n",
    "com= df5.iloc[l-1].text\n",
    "print(df5.iloc[l-1])"
   ]
  },
  {
   "cell_type": "code",
   "execution_count": 9,
   "metadata": {},
   "outputs": [
    {
     "name": "stdout",
     "output_type": "stream",
     "text": [
      "316042\n"
     ]
    }
   ],
   "source": [
    "i=0\n",
    "\n",
    "for lan in df3.language:\n",
    "    \n",
    "    if lan=='ru':\n",
    "        if df3.iloc[i].text== com:\n",
    "            print(i)\n",
    "#             print(df3.iloc[i])\n",
    "            break\n",
    "        \n",
    "    i+=1"
   ]
  },
  {
   "cell_type": "code",
   "execution_count": 33,
   "metadata": {},
   "outputs": [
    {
     "name": "stdout",
     "output_type": "stream",
     "text": [
      "channelId                               UCrd7UM5OBtB0n1zl41qwCUw\n",
      "community                                                     87\n",
      "text           рисуем арты для юджина по сампу (без них не бу...\n",
      "language                                                      ru\n",
      "translation    draw the arts to Eugene for Sampo (without the...\n",
      "Name: 301862, dtype: object\n",
      "channelId                               UCrd7UM5OBtB0n1zl41qwCUw\n",
      "community                                                     87\n",
      "text           рисуем арты для юджина по сампу (без них не бу...\n",
      "language                                                      ru\n",
      "translation    draw the arts to Eugene for Sampo (without the...\n",
      "Name: 309849, dtype: object\n",
      "channelId                               UCrd7UM5OBtB0n1zl41qwCUw\n",
      "community                                                     87\n",
      "text           Юджин как всегда монтаж на высоте,сюжет 500/10...\n",
      "language                                                      ru\n",
      "translation    Eugene, as always, the mounting height of the ...\n",
      "Name: 309850, dtype: object\n",
      "309850\n"
     ]
    }
   ],
   "source": [
    "print(df5.iloc[l-1])\n",
    "print (df3.iloc[i])\n",
    "print (df3.iloc[i+1])\n",
    "print(i+1)"
   ]
  },
  {
   "cell_type": "code",
   "execution_count": 27,
   "metadata": {},
   "outputs": [
    {
     "data": {
      "text/plain": [
       "301863"
      ]
     },
     "execution_count": 27,
     "metadata": {},
     "output_type": "execute_result"
    }
   ],
   "source": [
    "len(df5)"
   ]
  },
  {
   "cell_type": "markdown",
   "metadata": {},
   "source": [
    "## Translate with Google"
   ]
  },
  {
   "cell_type": "code",
   "execution_count": 98,
   "metadata": {},
   "outputs": [],
   "source": [
    "fieldnames=['channelId','community','text','language','translation']\n",
    "out2=open('../data/comments_translated2.csv', 'a')\n",
    "writer2 = csv.DictWriter(out2, fieldnames=fieldnames)"
   ]
  },
  {
   "cell_type": "code",
   "execution_count": 99,
   "metadata": {},
   "outputs": [],
   "source": [
    "i=0\n",
    "foreign=0\n",
    "\n",
    "for lan in df3.language:\n",
    "    if i>=166055:\n",
    "        if (lan in freq_lan) and (lan!='und'):\n",
    "            txt= df3.iloc[i].text\n",
    "            \n",
    "            if lan=='en':\n",
    "                df3.loc[i, 'translation'] =txt\n",
    "                writer2.writerow(df3.iloc[i].to_dict())\n",
    "            else:\n",
    "                tr=client.translate(txt, target_language='en',source_language=lan)\n",
    "                df3.loc[i, 'translation']=tr['translatedText']\n",
    "                writer2.writerow(df3.iloc[i].to_dict())\n",
    "                foreign+=len(txt)\n",
    "                \n",
    "            if (i%100==0):\n",
    "                time.sleep(1)\n",
    "                \n",
    "            if foreign>=4000000:\n",
    "                break\n",
    "                print(i)\n",
    "                \n",
    "    i+=1\n",
    "        \n",
    "out2.close()"
   ]
  },
  {
   "cell_type": "code",
   "execution_count": 54,
   "metadata": {},
   "outputs": [
    {
     "data": {
      "text/html": [
       "<div>\n",
       "<style scoped>\n",
       "    .dataframe tbody tr th:only-of-type {\n",
       "        vertical-align: middle;\n",
       "    }\n",
       "\n",
       "    .dataframe tbody tr th {\n",
       "        vertical-align: top;\n",
       "    }\n",
       "\n",
       "    .dataframe thead th {\n",
       "        text-align: right;\n",
       "    }\n",
       "</style>\n",
       "<table border=\"1\" class=\"dataframe\">\n",
       "  <thead>\n",
       "    <tr style=\"text-align: right;\">\n",
       "      <th></th>\n",
       "      <th>channelId</th>\n",
       "      <th>community</th>\n",
       "      <th>text</th>\n",
       "      <th>language</th>\n",
       "    </tr>\n",
       "  </thead>\n",
       "  <tbody>\n",
       "    <tr>\n",
       "      <th>0</th>\n",
       "      <td>UC5tp0GG3-cvlnflj5NuA9xQ</td>\n",
       "      <td>9</td>\n",
       "      <td>i think it's the tree stump, could be a a slee...</td>\n",
       "      <td>en</td>\n",
       "    </tr>\n",
       "    <tr>\n",
       "      <th>1</th>\n",
       "      <td>UC5tp0GG3-cvlnflj5NuA9xQ</td>\n",
       "      <td>9</td>\n",
       "      <td>Lothrazar. use the dream rod on the tree stump...</td>\n",
       "      <td>en</td>\n",
       "    </tr>\n",
       "    <tr>\n",
       "      <th>2</th>\n",
       "      <td>UC5tp0GG3-cvlnflj5NuA9xQ</td>\n",
       "      <td>9</td>\n",
       "      <td>whoops sorry posted that half way through the ...</td>\n",
       "      <td>en</td>\n",
       "    </tr>\n",
       "    <tr>\n",
       "      <th>3</th>\n",
       "      <td>UC5tp0GG3-cvlnflj5NuA9xQ</td>\n",
       "      <td>9</td>\n",
       "      <td>lol kinda pointless to say so now but by the l...</td>\n",
       "      <td>en</td>\n",
       "    </tr>\n",
       "    <tr>\n",
       "      <th>4</th>\n",
       "      <td>UC5tp0GG3-cvlnflj5NuA9xQ</td>\n",
       "      <td>9</td>\n",
       "      <td>Thanks, and it wasn't a spoiler, I usualy have...</td>\n",
       "      <td>en</td>\n",
       "    </tr>\n",
       "  </tbody>\n",
       "</table>\n",
       "</div>"
      ],
      "text/plain": [
       "                  channelId  community  \\\n",
       "0  UC5tp0GG3-cvlnflj5NuA9xQ          9   \n",
       "1  UC5tp0GG3-cvlnflj5NuA9xQ          9   \n",
       "2  UC5tp0GG3-cvlnflj5NuA9xQ          9   \n",
       "3  UC5tp0GG3-cvlnflj5NuA9xQ          9   \n",
       "4  UC5tp0GG3-cvlnflj5NuA9xQ          9   \n",
       "\n",
       "                                                text language  \n",
       "0  i think it's the tree stump, could be a a slee...       en  \n",
       "1  Lothrazar. use the dream rod on the tree stump...       en  \n",
       "2  whoops sorry posted that half way through the ...       en  \n",
       "3  lol kinda pointless to say so now but by the l...       en  \n",
       "4  Thanks, and it wasn't a spoiler, I usualy have...       en  "
      ]
     },
     "execution_count": 54,
     "metadata": {},
     "output_type": "execute_result"
    }
   ],
   "source": [
    "df3.head()"
   ]
  },
  {
   "cell_type": "code",
   "execution_count": 100,
   "metadata": {},
   "outputs": [
    {
     "data": {
      "text/plain": [
       "4000103"
      ]
     },
     "execution_count": 100,
     "metadata": {},
     "output_type": "execute_result"
    }
   ],
   "source": [
    "foreign"
   ]
  },
  {
   "cell_type": "markdown",
   "metadata": {},
   "source": [
    "## Counting languages in translated file"
   ]
  },
  {
   "cell_type": "code",
   "execution_count": 30,
   "metadata": {},
   "outputs": [],
   "source": [
    "count=Counter(df5.language).most_common"
   ]
  },
  {
   "cell_type": "code",
   "execution_count": 31,
   "metadata": {},
   "outputs": [
    {
     "data": {
      "text/plain": [
       "<bound method Counter.most_common of Counter({'en': 105215, 'de': 9163, 'pt': 8332, 'it': 1335, 'ru': 667, 'fr': 516, 'es': 478, 'nl': 84, 'tr': 58})>"
      ]
     },
     "execution_count": 31,
     "metadata": {},
     "output_type": "execute_result"
    }
   ],
   "source": [
    "count"
   ]
  },
  {
   "cell_type": "code",
   "execution_count": 105,
   "metadata": {},
   "outputs": [],
   "source": [
    "i=0\n",
    "eng=0\n",
    "foreign=0\n",
    "\n",
    "for lan in df3.language:\n",
    "    if i>=136905:\n",
    "        if (lan in freq_lan) and (lan!='und'):       \n",
    "            if lan=='en':\n",
    "                eng+=1\n",
    "            else:\n",
    "                foreign+=len(df3.iloc[i].text)\n",
    "                \n",
    "            if foreign>=4000000:\n",
    "                break\n",
    "                print(i)\n",
    "                \n",
    "#             if i==166054:\n",
    "#                 break\n",
    "    i+=1"
   ]
  },
  {
   "cell_type": "code",
   "execution_count": null,
   "metadata": {},
   "outputs": [],
   "source": []
  },
  {
   "cell_type": "code",
   "execution_count": 42,
   "metadata": {},
   "outputs": [
    {
     "data": {
      "text/plain": [
       "168880"
      ]
     },
     "execution_count": 42,
     "metadata": {},
     "output_type": "execute_result"
    }
   ],
   "source": [
    "i"
   ]
  },
  {
   "cell_type": "code",
   "execution_count": 46,
   "metadata": {},
   "outputs": [
    {
     "data": {
      "text/plain": [
       "(316043, 5)"
      ]
     },
     "execution_count": 46,
     "metadata": {},
     "output_type": "execute_result"
    }
   ],
   "source": [
    "df3.shape\n"
   ]
  },
  {
   "cell_type": "code",
   "execution_count": 48,
   "metadata": {},
   "outputs": [],
   "source": [
    "df3.loc[1,'translation']=''"
   ]
  },
  {
   "cell_type": "code",
   "execution_count": 56,
   "metadata": {},
   "outputs": [],
   "source": [
    "tr=client.translate('Hola',target_language='en',source_language='es')"
   ]
  },
  {
   "cell_type": "code",
   "execution_count": 57,
   "metadata": {},
   "outputs": [
    {
     "data": {
      "text/plain": [
       "{'input': 'Hola', 'translatedText': 'Hello'}"
      ]
     },
     "execution_count": 57,
     "metadata": {},
     "output_type": "execute_result"
    }
   ],
   "source": [
    "tr"
   ]
  },
  {
   "cell_type": "code",
   "execution_count": 59,
   "metadata": {},
   "outputs": [
    {
     "data": {
      "text/plain": [
       "'Hello'"
      ]
     },
     "execution_count": 59,
     "metadata": {},
     "output_type": "execute_result"
    }
   ],
   "source": [
    "tr['translatedText']"
   ]
  },
  {
   "cell_type": "code",
   "execution_count": 61,
   "metadata": {},
   "outputs": [
    {
     "data": {
      "text/plain": [
       "136905"
      ]
     },
     "execution_count": 61,
     "metadata": {},
     "output_type": "execute_result"
    }
   ],
   "source": [
    "i"
   ]
  },
  {
   "cell_type": "code",
   "execution_count": 28,
   "metadata": {},
   "outputs": [],
   "source": [
    "df5.to_csv('../data/comments_translated2.csv', index=False)"
   ]
  },
  {
   "cell_type": "code",
   "execution_count": null,
   "metadata": {},
   "outputs": [],
   "source": []
  }
 ],
 "metadata": {
  "kernelspec": {
   "display_name": "Python 3",
   "language": "python",
   "name": "python3"
  },
  "language_info": {
   "codemirror_mode": {
    "name": "ipython",
    "version": 3
   },
   "file_extension": ".py",
   "mimetype": "text/x-python",
   "name": "python",
   "nbconvert_exporter": "python",
   "pygments_lexer": "ipython3",
   "version": "3.5.2"
  }
 },
 "nbformat": 4,
 "nbformat_minor": 2
}
