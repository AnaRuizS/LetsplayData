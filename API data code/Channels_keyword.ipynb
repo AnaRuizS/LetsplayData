{
 "cells": [
  {
   "cell_type": "code",
   "execution_count": 1,
   "metadata": {
    "collapsed": true
   },
   "outputs": [],
   "source": [
    "import os\n",
    "import datetime\n",
    "\n",
    "from apiclient.discovery import build\n",
    "from apiclient.errors import HttpError\n",
    "from oauth2client.tools import argparser\n",
    "\n",
    "DEVELOPER_KEY= os.environ.get('API_CODE')\n",
    "YOUTUBE_API_SERVICE_NAME = \"youtube\"\n",
    "YOUTUBE_API_VERSION = \"v3\"\n",
    "service= build(YOUTUBE_API_SERVICE_NAME, YOUTUBE_API_VERSION, developerKey=DEVELOPER_KEY)"
   ]
  },
  {
   "cell_type": "code",
   "execution_count": 15,
   "metadata": {
    "collapsed": true
   },
   "outputs": [],
   "source": [
    "def channel_by_keyword(n_Page,search_key):\n",
    "    search_list=service.search().list(\n",
    "        q=search_key,\n",
    "        part=\"id,snippet\",\n",
    "        maxResults=50,\n",
    "        order=\"viewCount\",\n",
    "        type=\"channel\",\n",
    "        #publishedAfter=pub_after,\n",
    "        #publishedBefore=pub_before, \n",
    "        pageToken=n_Page\n",
    "    ).execute()\n",
    "    \n",
    "    totalResults=search_list[\"pageInfo\"][\"totalResults\"]\n",
    "    nextPage=search_list[\"nextPageToken\"]\n",
    "    channels=[]\n",
    "    \n",
    "    \n",
    "    for search_result in search_list.get(\"items\", []):\n",
    "        channel=[]\n",
    "        channel.append(search_result[\"id\"][\"channelId\"])\n",
    "        channel.append(search_result[\"snippet\"][\"channelTitle\"])\n",
    "        channels.append(channel)\n",
    "        \n",
    "    return (channels,nextPage,totalResults)"
   ]
  },
  {
   "cell_type": "code",
   "execution_count": null,
   "metadata": {
    "collapsed": true
   },
   "outputs": [],
   "source": []
  },
  {
   "cell_type": "code",
   "execution_count": 3,
   "metadata": {
    "collapsed": true
   },
   "outputs": [],
   "source": [
    "search_list=service.search().list(\n",
    "        q='Minecraft',\n",
    "        part=\"id,snippet\",\n",
    "        maxResults=50,\n",
    "        order=\"viewCount\",\n",
    "        regionCode='US',\n",
    "        type=\"channel\",\n",
    "#         publishedAfter=pub_after\n",
    "        #, nextPageToken=n_Page\n",
    "    ).execute()"
   ]
  },
  {
   "cell_type": "code",
   "execution_count": 6,
   "metadata": {},
   "outputs": [
    {
     "data": {
      "text/plain": [
       "['items', 'pageInfo', 'nextPageToken', 'regionCode', 'kind', 'etag']"
      ]
     },
     "execution_count": 6,
     "metadata": {},
     "output_type": "execute_result"
    }
   ],
   "source": [
    "list(search_list.keys())"
   ]
  },
  {
   "cell_type": "code",
   "execution_count": 12,
   "metadata": {},
   "outputs": [
    {
     "data": {
      "text/plain": [
       "{'resultsPerPage': 50, 'totalResults': 1000000}"
      ]
     },
     "execution_count": 12,
     "metadata": {},
     "output_type": "execute_result"
    }
   ],
   "source": [
    "search_list['pageInfo']"
   ]
  },
  {
   "cell_type": "code",
   "execution_count": null,
   "metadata": {
    "collapsed": true
   },
   "outputs": [],
   "source": []
  },
  {
   "cell_type": "code",
   "execution_count": 45,
   "metadata": {
    "collapsed": true
   },
   "outputs": [],
   "source": [
    "#channel_by_keyword(\"minecraft\",\"2017-4-1T2:00:00Z\")"
   ]
  },
  {
   "cell_type": "code",
   "execution_count": 4,
   "metadata": {
    "collapsed": true
   },
   "outputs": [],
   "source": [
    "import csv\n",
    "\n",
    "def saveFile(fileName, sList, n):\n",
    "    with open(fileName, \"a\") as f:\n",
    "        writer = csv.writer(f, delimiter=',', lineterminator='\\n')\n",
    "        if (n):\n",
    "            writer.writerow(['id', 'channel name'])\n",
    "        for item in sList:\n",
    "            writer.writerow([item[0], item[1]])"
   ]
  },
  {
   "cell_type": "code",
   "execution_count": 16,
   "metadata": {},
   "outputs": [],
   "source": [
    "(channel_list,nPT,tot)=channel_by_keyword('','minecraft')"
   ]
  },
  {
   "cell_type": "code",
   "execution_count": 17,
   "metadata": {
    "collapsed": true
   },
   "outputs": [],
   "source": [
    "saveFile(\"test6.csv\",channel_list,True)"
   ]
  },
  {
   "cell_type": "code",
   "execution_count": 18,
   "metadata": {},
   "outputs": [
    {
     "ename": "KeyError",
     "evalue": "'nextPageToken'",
     "output_type": "error",
     "traceback": [
      "\u001b[0;31m---------------------------------------------------------------------------\u001b[0m",
      "\u001b[0;31mKeyError\u001b[0m                                  Traceback (most recent call last)",
      "\u001b[0;32m<ipython-input-18-d38e9ef9cba8>\u001b[0m in \u001b[0;36m<module>\u001b[0;34m()\u001b[0m\n\u001b[1;32m      1\u001b[0m \u001b[0;32mwhile\u001b[0m\u001b[0;34m(\u001b[0m\u001b[0mnPT\u001b[0m\u001b[0;34m)\u001b[0m\u001b[0;34m:\u001b[0m\u001b[0;34m\u001b[0m\u001b[0m\n\u001b[1;32m      2\u001b[0m     \u001b[0;31m#(channel_list,nPT,tot)=channel_by_keyword(nPT,'minecraft','2017-05-1T00:00:00Z','2017-05-31T00:00:00Z')\u001b[0m\u001b[0;34m\u001b[0m\u001b[0;34m\u001b[0m\u001b[0m\n\u001b[0;32m----> 3\u001b[0;31m     \u001b[0;34m(\u001b[0m\u001b[0mchannel_list\u001b[0m\u001b[0;34m,\u001b[0m\u001b[0mnPT\u001b[0m\u001b[0;34m,\u001b[0m\u001b[0mtot\u001b[0m\u001b[0;34m)\u001b[0m\u001b[0;34m=\u001b[0m\u001b[0mchannel_by_keyword\u001b[0m\u001b[0;34m(\u001b[0m\u001b[0mnPT\u001b[0m\u001b[0;34m,\u001b[0m\u001b[0;34m'minecraft'\u001b[0m\u001b[0;34m)\u001b[0m\u001b[0;34m\u001b[0m\u001b[0m\n\u001b[0m\u001b[1;32m      4\u001b[0m     \u001b[0msaveFile\u001b[0m\u001b[0;34m(\u001b[0m\u001b[0;34m\"test6.csv\"\u001b[0m\u001b[0;34m,\u001b[0m\u001b[0mchannel_list\u001b[0m\u001b[0;34m,\u001b[0m\u001b[0;32mFalse\u001b[0m\u001b[0;34m)\u001b[0m\u001b[0;34m\u001b[0m\u001b[0m\n",
      "\u001b[0;32m<ipython-input-15-a6e1c1c45651>\u001b[0m in \u001b[0;36mchannel_by_keyword\u001b[0;34m(n_Page, search_key)\u001b[0m\n\u001b[1;32m     12\u001b[0m \u001b[0;34m\u001b[0m\u001b[0m\n\u001b[1;32m     13\u001b[0m     \u001b[0mtotalResults\u001b[0m\u001b[0;34m=\u001b[0m\u001b[0msearch_list\u001b[0m\u001b[0;34m[\u001b[0m\u001b[0;34m\"pageInfo\"\u001b[0m\u001b[0;34m]\u001b[0m\u001b[0;34m[\u001b[0m\u001b[0;34m\"totalResults\"\u001b[0m\u001b[0;34m]\u001b[0m\u001b[0;34m\u001b[0m\u001b[0m\n\u001b[0;32m---> 14\u001b[0;31m     \u001b[0mnextPage\u001b[0m\u001b[0;34m=\u001b[0m\u001b[0msearch_list\u001b[0m\u001b[0;34m[\u001b[0m\u001b[0;34m\"nextPageToken\"\u001b[0m\u001b[0;34m]\u001b[0m\u001b[0;34m\u001b[0m\u001b[0m\n\u001b[0m\u001b[1;32m     15\u001b[0m     \u001b[0mchannels\u001b[0m\u001b[0;34m=\u001b[0m\u001b[0;34m[\u001b[0m\u001b[0;34m]\u001b[0m\u001b[0;34m\u001b[0m\u001b[0m\n\u001b[1;32m     16\u001b[0m \u001b[0;34m\u001b[0m\u001b[0m\n",
      "\u001b[0;31mKeyError\u001b[0m: 'nextPageToken'"
     ]
    }
   ],
   "source": [
    "while(nPT):\n",
    "    #(channel_list,nPT,tot)=channel_by_keyword(nPT,'minecraft','2017-05-1T00:00:00Z','2017-05-31T00:00:00Z')\n",
    "    (channel_list,nPT,tot)=channel_by_keyword(nPT,'minecraft')\n",
    "    saveFile(\"test6.csv\",channel_list,False)"
   ]
  },
  {
   "cell_type": "code",
   "execution_count": 13,
   "metadata": {},
   "outputs": [
    {
     "data": {
      "text/plain": [
       "'CLYHEAA'"
      ]
     },
     "execution_count": 13,
     "metadata": {},
     "output_type": "execute_result"
    }
   ],
   "source": [
    "nPT"
   ]
  },
  {
   "cell_type": "code",
   "execution_count": null,
   "metadata": {
    "collapsed": true
   },
   "outputs": [],
   "source": []
  }
 ],
 "metadata": {
  "kernelspec": {
   "display_name": "Python 3",
   "language": "python",
   "name": "python3"
  },
  "language_info": {
   "codemirror_mode": {
    "name": "ipython",
    "version": 3
   },
   "file_extension": ".py",
   "mimetype": "text/x-python",
   "name": "python",
   "nbconvert_exporter": "python",
   "pygments_lexer": "ipython3",
   "version": "3.4.3"
  }
 },
 "nbformat": 4,
 "nbformat_minor": 2
}
