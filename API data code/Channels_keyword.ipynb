{
 "cells": [
  {
   "cell_type": "code",
   "execution_count": 54,
   "metadata": {
    "collapsed": true
   },
   "outputs": [],
   "source": [
    "import os\n",
    "import datetime\n",
    "\n",
    "from apiclient.discovery import build\n",
    "from apiclient.errors import HttpError\n",
    "from oauth2client.tools import argparser\n",
    "\n",
    "DEVELOPER_KEY= os.environ.get('API_CODE')\n",
    "YOUTUBE_API_SERVICE_NAME = \"youtube\"\n",
    "YOUTUBE_API_VERSION = \"v3\"\n",
    "service= build(YOUTUBE_API_SERVICE_NAME, YOUTUBE_API_VERSION, developerKey=DEVELOPER_KEY)"
   ]
  },
  {
   "cell_type": "code",
   "execution_count": 80,
   "metadata": {},
   "outputs": [],
   "source": [
    "def channel_by_keyword(n_Page,search_key, region, pub_after):\n",
    "    search_list=service.search().list(\n",
    "        q=search_key,\n",
    "        part=\"id,snippet\",\n",
    "        maxResults=50,\n",
    "        order=\"viewCount\",\n",
    "        regionCode=region,\n",
    "        type=\"channel\",\n",
    "        publishedAfter=pub_after\n",
    "        #, nextPageToken=n_Page\n",
    "    ).execute()\n",
    "    \n",
    "    totalResults=search_list[\"pageInfo\"][\"totalResults\"]\n",
    "    nextPage=search_list[\"nextPageToken\"]\n",
    "    channels=[]\n",
    "    \n",
    "    \n",
    "    for search_result in search_list.get(\"items\", []):\n",
    "        #channels.append(\"%s (%s)\" % (search_result[\"id\"][\"channelId\"],\n",
    "                                     #search_result[\"snippet\"][\"channelTitle\"]))\n",
    "        channel=[]\n",
    "        channel.append(search_result[\"id\"][\"channelId\"])\n",
    "        channel.append(search_result[\"snippet\"][\"channelTitle\"])\n",
    "        channels.append(channel)\n",
    "        \n",
    "    return (channels,nextPage,totalResults)"
   ]
  },
  {
   "cell_type": "code",
   "execution_count": 45,
   "metadata": {},
   "outputs": [],
   "source": [
    "#channel_by_keyword(\"minecraft\",\"2017-4-1T2:00:00Z\")"
   ]
  },
  {
   "cell_type": "code",
   "execution_count": 73,
   "metadata": {},
   "outputs": [],
   "source": [
    "import csv\n",
    "\n",
    "def saveFile(fileName, sList):\n",
    "    with open(fileName, \"w\") as f:\n",
    "        writer = csv.writer(f, delimiter=',', quotechar='|', quoting=csv.QUOTE_MINIMAL, lineterminator='\\n')\n",
    "        writer.writerow(['id', 'channel name'])\n",
    "        for item in sList:\n",
    "            writer.writerow([item[0], item[1]])"
   ]
  },
  {
   "cell_type": "code",
   "execution_count": 82,
   "metadata": {},
   "outputs": [
    {
     "data": {
      "text/plain": [
       "695249"
      ]
     },
     "execution_count": 82,
     "metadata": {},
     "output_type": "execute_result"
    }
   ],
   "source": [
    "(channel_list,nPT,tot)=channel_by_keyword('-1','minecraft|Gaming',\"US\",'2017-4-1T00:00:00Z')\n",
    "tot"
   ]
  },
  {
   "cell_type": "code",
   "execution_count": 83,
   "metadata": {},
   "outputs": [],
   "source": [
    "saveFile(\"test1.csv\",channel_list)"
   ]
  },
  {
   "cell_type": "code",
   "execution_count": 77,
   "metadata": {},
   "outputs": [
    {
     "name": "stdout",
     "output_type": "stream",
     "text": [
      "N\n"
     ]
    }
   ],
   "source": [
    "print (channel_list[1])"
   ]
  },
  {
   "cell_type": "code",
   "execution_count": null,
   "metadata": {
    "collapsed": true
   },
   "outputs": [],
   "source": []
  }
 ],
 "metadata": {
  "kernelspec": {
   "display_name": "Python 3",
   "language": "python",
   "name": "python3"
  },
  "language_info": {
   "codemirror_mode": {
    "name": "ipython",
    "version": 3
   },
   "file_extension": ".py",
   "mimetype": "text/x-python",
   "name": "python",
   "nbconvert_exporter": "python",
   "pygments_lexer": "ipython3",
   "version": "3.4.3"
  }
 },
 "nbformat": 4,
 "nbformat_minor": 2
}
