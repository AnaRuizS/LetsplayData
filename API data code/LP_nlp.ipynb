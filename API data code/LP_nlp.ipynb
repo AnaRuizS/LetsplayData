{
 "cells": [
  {
   "cell_type": "code",
   "execution_count": 2,
   "metadata": {},
   "outputs": [],
   "source": [
    "import os\n",
    "import pandas as pd\n",
    "import csv\n",
    "import json\n",
    "import time\n",
    "import nltk\n",
    "\n",
    "from datetime import datetime\n",
    "from pandas import Series"
   ]
  },
  {
   "cell_type": "code",
   "execution_count": 3,
   "metadata": {},
   "outputs": [],
   "source": [
    "def process_text(text):\n",
    "    text = text.lower()\n",
    "    text = text.replace(',', ' ')\n",
    "    text = text.replace('/', ' ')\n",
    "    text = text.replace('(', ' ')\n",
    "    text = text.replace(')', ' ')\n",
    "    text = text.replace('.', ' ')\n",
    "    \n",
    "    # Convert text string to a list of words\n",
    "    return text.split()"
   ]
  },
  {
   "cell_type": "code",
   "execution_count": 4,
   "metadata": {},
   "outputs": [],
   "source": [
    "def generate_ngrams(words_list, n):\n",
    "    ngrams_list = []\n",
    " \n",
    "    for num in range(0, len(words_list)):\n",
    "        ngram = ' '.join(words_list[num:num + n])\n",
    "        ngrams_list.append(ngram)\n",
    " \n",
    "    return ngrams_list"
   ]
  },
  {
   "cell_type": "code",
   "execution_count": null,
   "metadata": {},
   "outputs": [],
   "source": []
  },
  {
   "cell_type": "code",
   "execution_count": 15,
   "metadata": {},
   "outputs": [
    {
     "name": "stdout",
     "output_type": "stream",
     "text": [
      "['BRKsEDU', 'BRKs EDU', 'BRKs_EDU', 'PequenoSapeca', 'Pequeno Sapeca', 'Jogo', 'Jogos', 'Game', 'Games', 'Gamer', 'Gamers', 'Borderlands 2', 'Borderlands 2 Gameplay', 'Borderlands 2 1080', 'Borderlands 2 1080p', 'Borderlands 2 Full HD', \"Borderlands 2 Let's Play\", 'Borderlands 2 Portugues', 'Borderlands 2 Review', 'Borderlands 2 Analise']\n"
     ]
    }
   ],
   "source": [
    "community_num=[9,22,85,76,71,37,87]\n",
    "data_islp='/media/aruiz/data/videos_data/islp/'\n",
    "data_comments='/media/aruiz/data/comments_data/'\n",
    "fieldnames=['videoId','year','commentId','authorName','authorChannelId','textDisplay','textOriginal','likeCount',\n",
    "            'pYear', 'pMonth','pDay']\n",
    "chans=[]\n",
    "\n",
    "# for ind in range (1, len(community_num)):\n",
    "for ind in range (1,2):\n",
    "    f=os.path.join(data_islp,'data_community_'+str(community_num[ind])+'_islp.csv')\n",
    "    fileName1=os.path.join(data_comments,'community'+str(community_num[ind])+'_allPositive.csv')\n",
    "    fileName2=os.path.join(data_comments,'community'+str(community_num[ind])+'_allNegative.csv')\n",
    "    df=pd.read_csv(f)\n",
    "    df=df.fillna(0.0)\n",
    "    df=df[df['is_letPlay']==True]\n",
    "    df=df[df['categoryId']==20]  \n",
    "#     df=df[df['year']>2010]\n",
    "    df2=pd.read_csv(fileName1)\n",
    "    df2=df2[df2['year']>=2010]\n",
    "    df2=df2.reset_index(drop=True)\n",
    "\n",
    "    ids=df2.videoId\n",
    "    count=ids.value_counts()\n",
    "    \n",
    "    for index in count.index:\n",
    "        temp=df.loc[df['id'] == index]\n",
    "#         text=process_text(temp.tags)\n",
    "        print (type(temp.tags.values[0]))\n",
    "        break\n",
    "#         save channel id to identify channels associated with approved videos\n",
    "#         chans.append(str(temp.channelId.values))\n"
   ]
  },
  {
   "cell_type": "code",
   "execution_count": 9,
   "metadata": {},
   "outputs": [],
   "source": [
    "ch=Series(chans)\n",
    "c=ch.value_counts()"
   ]
  },
  {
   "cell_type": "code",
   "execution_count": 11,
   "metadata": {},
   "outputs": [
    {
     "data": {
      "text/html": [
       "<div>\n",
       "<style scoped>\n",
       "    .dataframe tbody tr th:only-of-type {\n",
       "        vertical-align: middle;\n",
       "    }\n",
       "\n",
       "    .dataframe tbody tr th {\n",
       "        vertical-align: top;\n",
       "    }\n",
       "\n",
       "    .dataframe thead th {\n",
       "        text-align: right;\n",
       "    }\n",
       "</style>\n",
       "<table border=\"1\" class=\"dataframe\">\n",
       "  <thead>\n",
       "    <tr style=\"text-align: right;\">\n",
       "      <th></th>\n",
       "      <th>id</th>\n",
       "      <th>publishedAt</th>\n",
       "      <th>title</th>\n",
       "      <th>description</th>\n",
       "      <th>tags</th>\n",
       "      <th>categoryId</th>\n",
       "      <th>liveBroadcast</th>\n",
       "      <th>channelId</th>\n",
       "      <th>channelTitle</th>\n",
       "      <th>favoriteCount</th>\n",
       "      <th>...</th>\n",
       "      <th>likeCount</th>\n",
       "      <th>dislikeCount</th>\n",
       "      <th>duration</th>\n",
       "      <th>definition</th>\n",
       "      <th>caption</th>\n",
       "      <th>topicIds</th>\n",
       "      <th>freebaseTopIds</th>\n",
       "      <th>year</th>\n",
       "      <th>month</th>\n",
       "      <th>is_letPlay</th>\n",
       "    </tr>\n",
       "  </thead>\n",
       "  <tbody>\n",
       "    <tr>\n",
       "      <th>20938</th>\n",
       "      <td>ck2oVFTB8q8</td>\n",
       "      <td>2010-08-18T23:43:54.000Z</td>\n",
       "      <td>Demon's Souls på svenska, dubbla göteborgare! ...</td>\n",
       "      <td>\"Dual Com\" med min polare Atrofi. Fick lägga u...</td>\n",
       "      <td>[\"Demon's\", 'Souls', 'på', 'svenska', 'berätta...</td>\n",
       "      <td>20</td>\n",
       "      <td>none</td>\n",
       "      <td>UCumX869eCXRIFkKzC5qWc1g</td>\n",
       "      <td>naikolaze</td>\n",
       "      <td>0.0</td>\n",
       "      <td>...</td>\n",
       "      <td>1.0</td>\n",
       "      <td>0.0</td>\n",
       "      <td>PT5M23S</td>\n",
       "      <td>hd</td>\n",
       "      <td>False</td>\n",
       "      <td>0</td>\n",
       "      <td>['/m/025zzc', '/m/0403l3g', '/m/0bzvm2', '/m/0...</td>\n",
       "      <td>2010.0</td>\n",
       "      <td>8.0</td>\n",
       "      <td>True</td>\n",
       "    </tr>\n",
       "  </tbody>\n",
       "</table>\n",
       "<p>1 rows × 22 columns</p>\n",
       "</div>"
      ],
      "text/plain": [
       "                id               publishedAt  \\\n",
       "20938  ck2oVFTB8q8  2010-08-18T23:43:54.000Z   \n",
       "\n",
       "                                                   title  \\\n",
       "20938  Demon's Souls på svenska, dubbla göteborgare! ...   \n",
       "\n",
       "                                             description  \\\n",
       "20938  \"Dual Com\" med min polare Atrofi. Fick lägga u...   \n",
       "\n",
       "                                                    tags  categoryId  \\\n",
       "20938  [\"Demon's\", 'Souls', 'på', 'svenska', 'berätta...          20   \n",
       "\n",
       "      liveBroadcast                 channelId channelTitle  favoriteCount  \\\n",
       "20938          none  UCumX869eCXRIFkKzC5qWc1g    naikolaze            0.0   \n",
       "\n",
       "          ...      likeCount  dislikeCount  duration  definition caption  \\\n",
       "20938     ...            1.0           0.0   PT5M23S          hd   False   \n",
       "\n",
       "      topicIds                                     freebaseTopIds    year  \\\n",
       "20938        0  ['/m/025zzc', '/m/0403l3g', '/m/0bzvm2', '/m/0...  2010.0   \n",
       "\n",
       "      month  is_letPlay  \n",
       "20938   8.0        True  \n",
       "\n",
       "[1 rows x 22 columns]"
      ]
     },
     "execution_count": 11,
     "metadata": {},
     "output_type": "execute_result"
    }
   ],
   "source": [
    "temp"
   ]
  },
  {
   "cell_type": "code",
   "execution_count": null,
   "metadata": {},
   "outputs": [],
   "source": []
  },
  {
   "cell_type": "code",
   "execution_count": null,
   "metadata": {},
   "outputs": [],
   "source": []
  },
  {
   "cell_type": "code",
   "execution_count": null,
   "metadata": {},
   "outputs": [],
   "source": []
  }
 ],
 "metadata": {
  "kernelspec": {
   "display_name": "Python 3",
   "language": "python",
   "name": "python3"
  },
  "language_info": {
   "codemirror_mode": {
    "name": "ipython",
    "version": 3
   },
   "file_extension": ".py",
   "mimetype": "text/x-python",
   "name": "python",
   "nbconvert_exporter": "python",
   "pygments_lexer": "ipython3",
   "version": "3.5.2"
  }
 },
 "nbformat": 4,
 "nbformat_minor": 2
}
