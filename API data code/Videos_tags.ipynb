{
 "cells": [
  {
   "cell_type": "code",
   "execution_count": 50,
   "metadata": {},
   "outputs": [],
   "source": [
    "import os\n",
    "import nltk\n",
    "import math\n",
    "import shlex\n",
    "import itertools\n",
    "import pandas as pd\n",
    "import numpy as np\n",
    "import matplotlib.pyplot as plt\n",
    "from string import punctuation\n",
    "from datetime import datetime\n",
    "from nltk.util import ngrams\n",
    "\n",
    "from pandas import Series\n",
    "from nltk.corpus import stopwords\n",
    "from nltk.corpus import words\n",
    "from nltk.stem import WordNetLemmatizer"
   ]
  },
  {
   "cell_type": "markdown",
   "metadata": {},
   "source": [
    "## Processing tags"
   ]
  },
  {
   "cell_type": "code",
   "execution_count": 51,
   "metadata": {},
   "outputs": [],
   "source": [
    "def remove_dig_punct(list1):\n",
    "    new=[]\n",
    "    for n in range (0, len(list1)):\n",
    "        #removing digits\n",
    "        res=''.join([i for i in list1[n] if not i.isdigit()])\n",
    "        #removing punctuation\n",
    "        s = ''.join(ch for ch in res if ch not in exclude)\n",
    "        if (s !=\"\") and (s not in new):\n",
    "            if (len(s)>1):\n",
    "                new.append(s)\n",
    "    return (new)"
   ]
  },
  {
   "cell_type": "code",
   "execution_count": 4,
   "metadata": {},
   "outputs": [
    {
     "name": "stderr",
     "output_type": "stream",
     "text": [
      "/home/aruiz/.virtualenvs/LetsPlayData/lib/python3.5/site-packages/IPython/core/interactiveshell.py:2728: DtypeWarning: Columns (5,9,10,11,12,13,16) have mixed types. Specify dtype option on import or set low_memory=False.\n",
      "  interactivity=interactivity, compiler=compiler, result=result)\n"
     ]
    }
   ],
   "source": [
    "data_folder_channels='/media/aruiz/data/videos_data/'\n",
    "data_tags='/media/aruiz/data/videos_tags/'\n",
    "community_num=[9,22,85,76,71,37,87]\n",
    "lemmatizer = WordNetLemmatizer()\n",
    "stopWords = set(stopwords.words('english'))\n",
    "exclude = set(punctuation)\n",
    "\n",
    "for ind in range (1,len(community_num)):\n",
    "    \n",
    "    # create csv to read community video tags\n",
    "    file3=os.path.join(data_folder_channels,'data_community_'+str(community_num[ind])+'.csv')\n",
    "    # put data into a dataframe\n",
    "    df=pd.read_csv(file3)\n",
    "    df=df.fillna(\"N/A\")\n",
    "    df=df[~(df['id']=='id')]\n",
    "    df=df.reset_index(drop=True)\n",
    "    \n",
    "    # initialize lists\n",
    "    all_keys_u=[] # all tag/words for each video\n",
    "    all_keys_b=[] # all co-ocurrence of tags (bigrams)\n",
    "\n",
    "    for dyear in range (2007,2017):\n",
    "        total_vid=0\n",
    "        \n",
    "        for n in range(0,len(df)):\n",
    "            date=datetime.strptime(df.publishedAt[n], '%Y-%m-%dT%H:%M:%S.%fZ')\n",
    "            \n",
    "            if (df.tags[n]!=\"N/A\") and (date.year==dyear):\n",
    "                total_vid+=1\n",
    "                video_keys=[]\n",
    "\n",
    "                try:\n",
    "                    l = shlex.split(df.tags[n])\n",
    "\n",
    "                except:\n",
    "                    l = df.tags[n].split()\n",
    "\n",
    "                for kw in l:\n",
    "                    kw_id = kw.lower().replace(\"'\", \"\").replace(\"´\", \"\").replace(\"’\", \"\").replace(\"`\", \"\")\n",
    "                    single_keys=nltk.word_tokenize(kw_id)\n",
    "                    for key in single_keys:\n",
    "                        key=lemmatizer.lemmatize(key)\n",
    "                        if (key not in stopWords)and(len(key)>1):\n",
    "                            if (key not in video_keys):\n",
    "                                video_keys.append(key)\n",
    "\n",
    "                #clean all digits and punctuation from keywords\n",
    "                video_keys=remove_dig_punct(video_keys)\n",
    "\n",
    "#                 find category of the keyword /game belongs to\n",
    "                for key in video_keys:\n",
    "                    all_keys_u.append(key)\n",
    "\n",
    "                edges= itertools.combinations(video_keys_clean,2)\n",
    "                for edge in edges:\n",
    "                    t=(edge[0],edge[1])\n",
    "                    all_keys_b.append(t)\n",
    "                    \n",
    "        counts_u=Series(all_keys_u)\n",
    "        cu=counts_u.value_counts()\n",
    "        counts_b=Series(all_keys_b)\n",
    "        cb=counts_b.value_counts()\n",
    "\n",
    "        f= open (os.path.join(data_tags,'community'+str(community_num[ind])+'_unis'+str(dyear)+'.txt'),'w')\n",
    "        for j in range (0,len(cu)):\n",
    "            f.write(str(cu.index[j])+\" \" +str(cu[j]))\n",
    "            f.write('\\n')\n",
    "        f.write(\"TOTAL VIDEOS: \"+str(total_vid))\n",
    "        f.close()\n",
    "        f= open (os.path.join(data_tags,'community'+str(community_num[ind])+'_bigs'+str(dyear)+'.txt'),'w')\n",
    "        for j in range (0,len(cb)):\n",
    "            f.write(str(cb.index[j][0])+\" \" +str(cb.index[j][1]+\" \"+str(cb[j])))\n",
    "            f.write('\\n')\n",
    "        f.close()"
   ]
  },
  {
   "cell_type": "markdown",
   "metadata": {},
   "source": [
    "## Processing categories"
   ]
  },
  {
   "cell_type": "code",
   "execution_count": 15,
   "metadata": {},
   "outputs": [
    {
     "name": "stderr",
     "output_type": "stream",
     "text": [
      "/home/aruiz/.virtualenvs/LetsPlayData/lib/python3.5/site-packages/IPython/core/interactiveshell.py:2728: DtypeWarning: Columns (5,9,10,11,12,13,16,17) have mixed types. Specify dtype option on import or set low_memory=False.\n",
      "  interactivity=interactivity, compiler=compiler, result=result)\n",
      "/home/aruiz/.virtualenvs/LetsPlayData/lib/python3.5/site-packages/IPython/core/interactiveshell.py:2728: DtypeWarning: Columns (5,9,10,11,12,13,16) have mixed types. Specify dtype option on import or set low_memory=False.\n",
      "  interactivity=interactivity, compiler=compiler, result=result)\n"
     ]
    }
   ],
   "source": [
    "data_folder_channels='/media/aruiz/data/videos_data/'\n",
    "videos_info='/media/aruiz/data/videos_info/'\n",
    "community_num=[9,22,85,76,71,37,87]\n",
    "\n",
    "for ind in range (0,len(community_num)):\n",
    "# for ind in range (0,1):\n",
    "\n",
    "    # create csv to read community video tags\n",
    "    file3=os.path.join(data_folder_channels,'data_community_'+str(community_num[ind])+'.csv')\n",
    "    # put data into a dataframe\n",
    "    df=pd.read_csv(file3)\n",
    "    df=df.fillna(\"N/A\")\n",
    "    df=df[~(df['id']=='id')]\n",
    "    df=df.reset_index(drop=True)\n",
    "    \n",
    "    # initialize lists\n",
    "    \n",
    "    for dyear in range (2007,2017):\n",
    "#     for dyear in range (2007,2008):\n",
    "        total_vid=0\n",
    "        all_categories=[] # all categories for each year (one for each video)\n",
    "        \n",
    "        for n in range(0,len(df)):\n",
    "            date=datetime.strptime(df.publishedAt[n], '%Y-%m-%dT%H:%M:%S.%fZ')\n",
    "            \n",
    "            if (df.categoryId[n]!=\"N/A\") and (date.year==dyear):\n",
    "                total_vid+=1\n",
    "                all_categories.append(str(df.categoryId[n]))\n",
    "        \n",
    "        counts_cat=Series(all_categories)\n",
    "        ccat=counts_cat.value_counts()\n",
    "        \n",
    "        f= open (os.path.join(videos_info,'community'+str(community_num[ind])+'_categories'+'.txt'),'a')\n",
    "        f.write(str(dyear)+'\\n')\n",
    "        for j in range (0,len(ccat)):\n",
    "            f.write(str(ccat.index[j])+\" \" +str(ccat[j]))\n",
    "            f.write('\\n')\n",
    "        f.write(\"TOTAL VIDEOS: \"+str(total_vid)+'\\n')\n",
    "        f.close()"
   ]
  },
  {
   "cell_type": "markdown",
   "metadata": {},
   "source": [
    "## Write csv files marking lets play videos"
   ]
  },
  {
   "cell_type": "code",
   "execution_count": 17,
   "metadata": {},
   "outputs": [
    {
     "name": "stderr",
     "output_type": "stream",
     "text": [
      "/home/aruiz/.virtualenvs/LetsPlayData/lib/python3.5/site-packages/IPython/core/interactiveshell.py:2728: DtypeWarning: Columns (5,9,10,11,12,13,16,17) have mixed types. Specify dtype option on import or set low_memory=False.\n",
      "  interactivity=interactivity, compiler=compiler, result=result)\n"
     ]
    },
    {
     "name": "stdout",
     "output_type": "stream",
     "text": [
      "thousand reached\n",
      "hundred thousand\n",
      "endoffile\n"
     ]
    }
   ],
   "source": [
    "data_folder_channels='/media/aruiz/data/videos_data/'\n",
    "data_islp='/media/aruiz/data/videos_data/islp/'\n",
    "community_num=[9,22,85,76,71,37,87]\n",
    "lemmatizer = WordNetLemmatizer()\n",
    "stopWords = set(stopwords.words('english'))\n",
    "exclude = set(punctuation)\n",
    "t1=('let', 'play')\n",
    "t2=('play', 'let')\n",
    "\n",
    "for ind in range (0,1):\n",
    "\n",
    "    # create csv to read community video tags\n",
    "    file3=os.path.join(data_folder_channels,'data_community_'+str(community_num[ind])+'.csv')\n",
    "    # put data into a dataframe\n",
    "    df=pd.read_csv(file3)\n",
    "    df=df.fillna(\"N/A\")\n",
    "    df=df[~(df['id']=='id')]\n",
    "    df=df.reset_index(drop=True)\n",
    "\n",
    "    for n in range(0,len(df)):\n",
    "        if (df.tags[n]!=\"N/A\"):\n",
    "            date=datetime.strptime(df.publishedAt[n], '%Y-%m-%dT%H:%M:%S.%fZ')\n",
    "        \n",
    "            # write year and month as a new column\n",
    "            df.loc[n,\"year\"]=date.year\n",
    "            df.loc[n,\"month\"]=date.month\n",
    "            \n",
    "            #initialize container for tags\n",
    "            video_keys=[]\n",
    "\n",
    "            try:\n",
    "                l = shlex.split(df.tags[n])\n",
    "\n",
    "            except:\n",
    "                l = df.tags[n].split()\n",
    "\n",
    "            for kw in l:\n",
    "                kw_id = kw.lower().replace(\"'\", \"\").replace(\"´\", \"\").replace(\"’\", \"\").replace(\"`\", \"\")\n",
    "                single_keys=nltk.word_tokenize(kw_id)\n",
    "                for key in single_keys:\n",
    "                    key=lemmatizer.lemmatize(key)\n",
    "                    if (key not in stopWords)and(len(key)>1):\n",
    "                        if (key not in video_keys):\n",
    "                            video_keys.append(key)\n",
    "\n",
    "            #clean all digits and punctuation from keywords\n",
    "            video_keys_clean=remove_dig_punct(video_keys)\n",
    "            # create combinations of all keywords\n",
    "            edges= itertools.combinations(video_keys_clean,2)\n",
    "\n",
    "            #write a flag to identify videos tagged as letsplays\n",
    "            if (t1 in edges) or (t2 in edges):\n",
    "                df.loc[n,\"is_letPlay\"]=True\n",
    "            elif ('lp' in video_keys_clean) or ('letplay' in video_keys_clean) :\n",
    "                df.loc[n,\"is_letPlay\"]=True\n",
    "            else:\n",
    "                df.loc[n,\"is_letPlay\"]=False\n",
    "        \n",
    "        if n==1000:\n",
    "            print ('thousand reached')\n",
    "        if n==100000:\n",
    "            print ('hundred thousand')\n",
    "        if n==1000000:\n",
    "            print ('million')\n",
    "        if n==(len(df)-1):\n",
    "            print ('endoffile')\n",
    "            \n",
    "    # write csv with islp flag column\n",
    "    f=os.path.join(data_islp,'data_community_'+str(community_num[ind])+'_islp.csv')\n",
    "    df.to_csv(f,encoding='utf-8', index=False)"
   ]
  },
  {
   "cell_type": "markdown",
   "metadata": {},
   "source": [
    "## Read LP only videos"
   ]
  },
  {
   "cell_type": "code",
   "execution_count": 54,
   "metadata": {},
   "outputs": [
    {
     "name": "stderr",
     "output_type": "stream",
     "text": [
      "/home/aruiz/.virtualenvs/LetsPlayData/lib/python3.5/site-packages/IPython/core/interactiveshell.py:2728: DtypeWarning: Columns (17) have mixed types. Specify dtype option on import or set low_memory=False.\n",
      "  interactivity=interactivity, compiler=compiler, result=result)\n"
     ]
    }
   ],
   "source": [
    "community_num=[9,22,85,76,71,37,87]\n",
    "data_islp='/media/aruiz/data/videos_data/islp/'\n",
    "ind=0\n",
    "f=os.path.join(data_islp,'data_community_'+str(community_num[ind])+'_islp.csv')\n",
    "df=pd.read_csv(f)\n",
    "df=df[df['is_letPlay']==True]\n",
    "df=df[df['year']==2008]\n",
    "# for n in range(0,len(df)):\n",
    "#         if (df.title[n]!=\"N/A\"):\n",
    "# len(df)      "
   ]
  },
  {
   "cell_type": "code",
   "execution_count": 43,
   "metadata": {},
   "outputs": [],
   "source": [
    "words=df.description[16322]\n",
    "s=word_grams(words,1,2)"
   ]
  },
  {
   "cell_type": "code",
   "execution_count": null,
   "metadata": {},
   "outputs": [],
   "source": []
  },
  {
   "cell_type": "code",
   "execution_count": null,
   "metadata": {},
   "outputs": [],
   "source": []
  },
  {
   "cell_type": "code",
   "execution_count": null,
   "metadata": {},
   "outputs": [],
   "source": []
  }
 ],
 "metadata": {
  "kernelspec": {
   "display_name": "Python 3",
   "language": "python",
   "name": "python3"
  },
  "language_info": {
   "codemirror_mode": {
    "name": "ipython",
    "version": 3
   },
   "file_extension": ".py",
   "mimetype": "text/x-python",
   "name": "python",
   "nbconvert_exporter": "python",
   "pygments_lexer": "ipython3",
   "version": "3.5.2"
  }
 },
 "nbformat": 4,
 "nbformat_minor": 2
}
