{
 "cells": [
  {
   "cell_type": "markdown",
   "metadata": {},
   "source": [
    "# Pass information of json files to csv and cleaning\n"
   ]
  },
  {
   "cell_type": "code",
   "execution_count": 1,
   "metadata": {},
   "outputs": [],
   "source": [
    "import os\n",
    "import json\n",
    "import csv\n",
    "import pandas as pd\n",
    "import numpy as np\n",
    "from datetime import datetime"
   ]
  },
  {
   "cell_type": "code",
   "execution_count": 2,
   "metadata": {},
   "outputs": [],
   "source": [
    "def convert_to_csv(fileName_json, fileName_csv):\n",
    "    with open (fileName_csv,'w') as csvfile:\n",
    "        with open(fileName_json) as f:\n",
    "            fieldnames = ['id','title','description','year_created', 'month_created','views','subscribers','videos'\n",
    "                          ,'comments','keywords']\n",
    "            writer = csv.DictWriter(csvfile, fieldnames=fieldnames)\n",
    "            writer.writeheader()\n",
    "\n",
    "            for line in f:\n",
    "                json_dict = json.loads(line)\n",
    "\n",
    "                id=json_dict['id']\n",
    "                t=json_dict['snippet']['title']\n",
    "                ds=json_dict['snippet']['description']\n",
    "                d= json_dict['snippet']['publishedAt']\n",
    "                dp=datetime.strptime(d, '%Y-%m-%dT%H:%M:%S.%fZ')\n",
    "                view= json_dict['statistics']['viewCount']\n",
    "                sub= json_dict['statistics']['subscriberCount']\n",
    "                vid= json_dict['statistics']['videoCount']\n",
    "                com= json_dict['statistics']['commentCount']\n",
    "                \n",
    "                try:\n",
    "                    keys=json_dict['brandingSettings']['channel']['keywords']\n",
    "                except KeyError:\n",
    "                    keys=\" \"\n",
    "                \n",
    "                writer.writerow({'id': id,'title':t,'description':ds,'year_created':dp.year,'month_created':dp.month,\n",
    "                                 'views':view,'subscribers':sub,'videos':vid,'comments':com, 'keywords':keys})"
   ]
  },
  {
   "cell_type": "code",
   "execution_count": 3,
   "metadata": {},
   "outputs": [],
   "source": [
    "fileNames=['minecraft', 'overwatch','agario', 'LOL', 'callOD','fivenaf','pkgo','roblox', 'gta','happyW']\n",
    "data_folder_channels='/media/aruiz/data/channels_clean_data/'\n",
    "\n",
    "for i in range(4,5):\n",
    "    file_json=fileNames[i]+'_data_clean.json'\n",
    "    file_csv=fileNames[i]+'_data_clean.csv'\n",
    "    f_json=os.path.join(data_folder_channels,file_json)\n",
    "    f_csv=os.path.join(data_folder_channels,file_csv)\n",
    "    #convert_to_csv(f_json,f_csv)\n",
    "    \n",
    "    #clean csv duplicates and channels with zero views\n",
    "    df=pd.read_csv(f_csv)\n",
    "    df=df.drop_duplicates(['id'], keep='first')\n",
    "    df = df[df.views!= 0]\n",
    "    df.to_csv(f_csv,encoding='utf-8', index=False)"
   ]
  },
  {
   "cell_type": "code",
   "execution_count": null,
   "metadata": {},
   "outputs": [],
   "source": []
  }
 ],
 "metadata": {
  "kernelspec": {
   "display_name": "Python 3",
   "language": "python",
   "name": "python3"
  },
  "language_info": {
   "codemirror_mode": {
    "name": "ipython",
    "version": 3
   },
   "file_extension": ".py",
   "mimetype": "text/x-python",
   "name": "python",
   "nbconvert_exporter": "python",
   "pygments_lexer": "ipython3",
   "version": "3.5.2"
  }
 },
 "nbformat": 4,
 "nbformat_minor": 2
}
