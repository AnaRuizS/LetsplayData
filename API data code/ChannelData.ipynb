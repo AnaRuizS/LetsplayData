{
 "cells": [
  {
   "cell_type": "code",
   "execution_count": 70,
   "metadata": {
    "collapsed": true
   },
   "outputs": [],
   "source": [
    "#Join and merge csv by id\n",
    "csv1=pd.read_csv(\"test4.csv\")\n",
    "csv2=pd.read_csv(\"minecraftData3.csv\")\n",
    "merged = csv1.merge(csv2, on='id')\n",
    "merged.to_csv(\"output.csv\", index=False)"
   ]
  },
  {
   "cell_type": "code",
   "execution_count": 20,
   "metadata": {
    "collapsed": true
   },
   "outputs": [],
   "source": [
    "import os\n",
    "import datetime\n",
    "import pandas as pd\n",
    "import csv\n",
    "\n",
    "from apiclient.discovery import build\n",
    "from apiclient.errors import HttpError\n",
    "from oauth2client.tools import argparser\n",
    "\n",
    "DEVELOPER_KEY= os.environ.get('API_CODE')\n",
    "YOUTUBE_API_SERVICE_NAME = \"youtube\"\n",
    "YOUTUBE_API_VERSION = \"v3\"\n",
    "service= build(YOUTUBE_API_SERVICE_NAME, YOUTUBE_API_VERSION, developerKey=DEVELOPER_KEY)"
   ]
  },
  {
   "cell_type": "code",
   "execution_count": 21,
   "metadata": {
    "collapsed": true
   },
   "outputs": [],
   "source": [
    "# read file columns with panda\n",
    "df = pd.read_csv(\"test6.csv\")"
   ]
  },
  {
   "cell_type": "code",
   "execution_count": 22,
   "metadata": {
    "collapsed": true
   },
   "outputs": [],
   "source": [
    "def saveFile(fileName, item,n):\n",
    "    with open(fileName, \"a\") as f:\n",
    "        writer = csv.writer(f, delimiter=',', lineterminator='\\n')\n",
    "        if (n):\n",
    "            writer.writerow(['id','Channel Name','date','description','num Videos','num Views','num Comments',\n",
    "                'num Subscribers'])\n",
    "        writer.writerow([item[0], item[1], item[2], item[3], item[4], item[5],item[6],item[7]])"
   ]
  },
  {
   "cell_type": "code",
   "execution_count": 23,
   "metadata": {
    "collapsed": true
   },
   "outputs": [],
   "source": [
    "def channel_by_id(search_id):\n",
    "    channels=service.channels().list(\n",
    "        id=search_id,\n",
    "        part=\"id,snippet,statistics\",\n",
    "        maxResults=50\n",
    "    ).execute()\n",
    "    channel_info=[]\n",
    "    for channel_obt in channels.get(\"items\", []):\n",
    "        channel_info.append(channel_obt[\"id\"])\n",
    "        channel_info.append(channel_obt[\"snippet\"][\"title\"])\n",
    "        channel_info.append(channel_obt[\"snippet\"][\"publishedAt\"])\n",
    "        channel_info.append(channel_obt[\"snippet\"][\"description\"])\n",
    "        channel_info.append(channel_obt[\"statistics\"][\"videoCount\"])\n",
    "        channel_info.append(channel_obt[\"statistics\"][\"viewCount\"])\n",
    "        channel_info.append(channel_obt[\"statistics\"][\"commentCount\"])\n",
    "        channel_info.append(channel_obt[\"statistics\"][\"subscriberCount\"])\n",
    "    return (channel_info)"
   ]
  },
  {
   "cell_type": "code",
   "execution_count": 25,
   "metadata": {
    "collapsed": true
   },
   "outputs": [],
   "source": [
    "n=True\n",
    "for iden in df.id:\n",
    "    channel_info=channel_by_id(iden)\n",
    "    saveFile(\"minecraftData8.csv\",channel_info,n)\n",
    "    n=False"
   ]
  },
  {
   "cell_type": "code",
   "execution_count": 19,
   "metadata": {
    "collapsed": true
   },
   "outputs": [],
   "source": [
    "channel_info=channel_by_id(df.id[298])"
   ]
  },
  {
   "cell_type": "code",
   "execution_count": 18,
   "metadata": {},
   "outputs": [
    {
     "data": {
      "text/plain": [
       "[]"
      ]
     },
     "execution_count": 18,
     "metadata": {},
     "output_type": "execute_result"
    }
   ],
   "source": [
    "channel_info"
   ]
  },
  {
   "cell_type": "code",
   "execution_count": 57,
   "metadata": {
    "collapsed": true
   },
   "outputs": [],
   "source": [
    "saveFile(\"minecraftData1.csv\",channel_info,n)"
   ]
  },
  {
   "cell_type": "code",
   "execution_count": 25,
   "metadata": {},
   "outputs": [
    {
     "data": {
      "text/plain": [
       "'18589941'"
      ]
     },
     "execution_count": 25,
     "metadata": {},
     "output_type": "execute_result"
    }
   ],
   "source": [
    "channel_info[7]"
   ]
  },
  {
   "cell_type": "code",
   "execution_count": 37,
   "metadata": {},
   "outputs": [
    {
     "data": {
      "text/plain": [
       "423"
      ]
     },
     "execution_count": 37,
     "metadata": {},
     "output_type": "execute_result"
    }
   ],
   "source": [
    "df.id.size"
   ]
  },
  {
   "cell_type": "code",
   "execution_count": null,
   "metadata": {
    "collapsed": true
   },
   "outputs": [],
   "source": []
  }
 ],
 "metadata": {
  "kernelspec": {
   "display_name": "Python 3",
   "language": "python",
   "name": "python3"
  },
  "language_info": {
   "codemirror_mode": {
    "name": "ipython",
    "version": 3
   },
   "file_extension": ".py",
   "mimetype": "text/x-python",
   "name": "python",
   "nbconvert_exporter": "python",
   "pygments_lexer": "ipython3",
   "version": "3.4.3"
  }
 },
 "nbformat": 4,
 "nbformat_minor": 2
}
