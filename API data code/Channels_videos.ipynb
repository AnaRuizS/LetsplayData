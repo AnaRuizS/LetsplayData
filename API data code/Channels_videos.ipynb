{
 "cells": [
  {
   "cell_type": "code",
   "execution_count": 18,
   "metadata": {
    "collapsed": true
   },
   "outputs": [],
   "source": [
    "import os\n",
    "import datetime\n",
    "import pandas as pd\n",
    "import csv\n",
    "import json\n",
    "import time\n",
    "\n",
    "from apiclient.discovery import build\n",
    "from apiclient.errors import HttpError\n",
    "from oauth2client.tools import argparser\n",
    "\n",
    "DEVELOPER_KEY= os.environ.get('API_CODE')\n",
    "YOUTUBE_API_SERVICE_NAME = \"youtube\"\n",
    "YOUTUBE_API_VERSION = \"v3\"\n",
    "service= build(YOUTUBE_API_SERVICE_NAME, YOUTUBE_API_VERSION, developerKey=DEVELOPER_KEY)"
   ]
  },
  {
   "cell_type": "code",
   "execution_count": 1,
   "metadata": {
    "collapsed": true
   },
   "outputs": [],
   "source": [
    "# read file column 1\n",
    "# leer nombre del canal, grabar id del canal\n",
    "# leer id de lista de reproducción uploads=[contentDetails][relatedPlaylists][uploads]  \n",
    "# use the string as search keyID for\n",
    "#        channel_videos = serv.playlistItems().list(\n",
    "#        playlistId=playlist_id\n",
    ",\n",
    "#        part=\"id, snippet,contentDetails,status\",\n",
    "#        maxResults=50,\n",
    "#        pageToken=pageToken\n",
    "#   ).execute()\n",
    "# recorrer en un bucle hasta que pageToken no exista cuando no exista continuar\n",
    "# leer columna siguiente\n"
   ]
  },
  {
   "cell_type": "code",
   "execution_count": 19,
   "metadata": {},
   "outputs": [],
   "source": [
    "def videoList(dt, dt2, pageToken, channelId):\n",
    "    video_list=service.search().list(\n",
    "        part=\"id,snippet\",\n",
    "        channelId=channelId,\n",
    "        maxResults=50,\n",
    "        order=\"date\",\n",
    "        type=\"video\",\n",
    "        publishedAfter=dt,\n",
    "        publishedBefore=dt2,\n",
    "        pageToken=pageToken\n",
    "    ).execute()\n",
    "    \n",
    "    return video_list"
   ]
  },
  {
   "cell_type": "code",
   "execution_count": null,
   "metadata": {
    "collapsed": true
   },
   "outputs": [],
   "source": [
    "def videoData(video_id)"
   ]
  },
  {
   "cell_type": "code",
   "execution_count": 22,
   "metadata": {},
   "outputs": [],
   "source": [
    "\n",
    "channelId=\"UC24-XPATP4CeviFJ8SLiF8A\"\n",
    "for year in range (2017,2018):\n",
    "    pageToken=\"\"\n",
    "    d=datetime.datetime(year,int(1),1,0,0).isoformat()+'Z'\n",
    "    d2=datetime.datetime(year,int(12),31,0,0).isoformat()+'Z'\n",
    "    while (pageToken!='error'):\n",
    "        video_list=videoList(d,d2,pageToken,channelId)\n",
    "        with open(fname,'a')as fn:\n",
    "            out=json.dumps(video_list)\n",
    "            fn.write(out + '\\n')\n",
    "        try:\n",
    "            pageToken=video_list['nextPageToken']\n",
    "        except KeyError as e:\n",
    "            pageToken='error'\n",
    "\n",
    "    time.sleep(1)"
   ]
  },
  {
   "cell_type": "code",
   "execution_count": null,
   "metadata": {
    "collapsed": true
   },
   "outputs": [],
   "source": []
  }
 ],
 "metadata": {
  "kernelspec": {
   "display_name": "Python 3",
   "language": "python",
   "name": "python3"
  },
  "language_info": {
   "codemirror_mode": {
    "name": "ipython",
    "version": 3
   },
   "file_extension": ".py",
   "mimetype": "text/x-python",
   "name": "python",
   "nbconvert_exporter": "python",
   "pygments_lexer": "ipython3",
   "version": "3.4.3"
  }
 },
 "nbformat": 4,
 "nbformat_minor": 2
}
