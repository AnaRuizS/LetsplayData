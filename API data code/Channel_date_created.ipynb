{
 "cells": [
  {
   "cell_type": "code",
   "execution_count": 2,
   "metadata": {
    "collapsed": true
   },
   "outputs": [],
   "source": [
    "import os\n",
    "import datetime as datetime\n",
    "import pytz\n",
    "import pandas as pd\n",
    "import csv\n",
    "import json\n",
    "import time\n",
    "\n",
    "from apiclient.discovery import build\n",
    "from apiclient.errors import HttpError\n",
    "from oauth2client.tools import argparser\n",
    "\n",
    "DEVELOPER_KEY= os.environ.get('API_CODE')\n",
    "YOUTUBE_API_SERVICE_NAME = \"youtube\"\n",
    "YOUTUBE_API_VERSION = \"v3\"\n",
    "service= build(YOUTUBE_API_SERVICE_NAME, YOUTUBE_API_VERSION, developerKey=DEVELOPER_KEY)"
   ]
  },
  {
   "cell_type": "code",
   "execution_count": 3,
   "metadata": {
    "collapsed": true
   },
   "outputs": [],
   "source": [
    "def channel_date_keyword(searchKey,pageToken,dt,dt2):\n",
    "    search_list=service.search().list(\n",
    "        q=searchKey,\n",
    "        part=\"id,snippet\",\n",
    "        maxResults=50,\n",
    "        order=\"relevance\",\n",
    "        type=\"channel\",\n",
    "        publishedAfter=dt,\n",
    "        publishedBefore=dt2,\n",
    "        pageToken=pageToken\n",
    "    ).execute()\n",
    "    \n",
    "    return search_list"
   ]
  },
  {
   "cell_type": "code",
   "execution_count": 4,
   "metadata": {
    "collapsed": true
   },
   "outputs": [],
   "source": [
    "def channel_by_id(search_id):\n",
    "    channels=service.channels().list(\n",
    "        id=search_id,\n",
    "        part=\"id, snippet, brandingSettings, contentDetails, invideoPromotion, statistics, topicDetails\",\n",
    "        maxResults=50\n",
    "    ).execute()\n",
    "    return channels"
   ]
  },
  {
   "cell_type": "code",
   "execution_count": 14,
   "metadata": {
    "collapsed": true
   },
   "outputs": [],
   "source": [
    "# get basic channel list with ids (years defined)\n",
    "def get_channel_list(year,yearParts,day,searchKey,fileName,fileName2,prevQuota):\n",
    "    newQuota=prevQuota\n",
    "    \n",
    "    for x in range (1,yearParts+1):\n",
    "        pageToken=\"\"\n",
    "        d=datetime.datetime(year,int(1+(12/yearParts)*(x-1)),1,0,0).isoformat()+'Z'\n",
    "        d2=datetime.datetime(year,int((12/yearParts)*x),day[x-1],0,0).isoformat()+'Z'\n",
    "       \n",
    "        while(pageToken!='CLYHEAA'):\n",
    "            channelList=channel_date_keyword(searchKey,pageToken,d,d2)\n",
    "            newQuota+=100\n",
    "            \n",
    "            #save list and channels if list is not empty\n",
    "            if (channelList.get(\"items\",[])!=[]):\n",
    "                \n",
    "                #save json dict Channel List 50 items\n",
    "                with open(fileName,'a')as fp1:\n",
    "                    out1=json.dumps(channelList)\n",
    "                    fp1.write(out1 + '\\n')\n",
    "            \n",
    "                #save the data about the channels in the list\n",
    "                for channel in channelList.get(\"items\", []):\n",
    "                    channelData=channel_by_id(channel[\"id\"][\"channelId\"])\n",
    "                    newQuota+=15\n",
    "                    with open(fileName2,'a')as fp2:\n",
    "                        out2=json.dumps(channelData)\n",
    "                        fp2.write(out2 + '\\n')\n",
    "                    time.sleep(1)\n",
    "                    \n",
    "            pageToken=channelList[\"nextPageToken\"]\n",
    "            time.sleep(1)\n",
    "            \n",
    "        time.sleep(1)\n",
    "        \n",
    "    return newQuota\n"
   ]
  },
  {
   "cell_type": "code",
   "execution_count": null,
   "metadata": {},
   "outputs": [],
   "source": [
    "# get trimestral info for 10 years of channels related to search keys\n",
    "#year=2007\n",
    "yearParts=3\n",
    "day=[30,31,31]\n",
    "searchKeys=[\"minecraft\",\"roblox\",\"call of duty\",\"overwatch\"]\n",
    "fileNames=['minecraft_ch_list.json','roblox_ch_list.json','callOD_ch_list.json','overwatch_ch_list.json']\n",
    "fileNames2=['minecraft_ch_data.json','roblox_ch_data.json','callOD_ch_data.json','overwatch_ch_data.json']\n",
    "prevQuota=0\n",
    "\n",
    "for year in range (2007,2008):\n",
    "    quota=get_channel_list(year,yearParts,day,searchKeys[0],'minetest.json','minetest2.json',prevQuota)\n",
    "    prevQuota=quota\n",
    "    print (prevQuota)\n",
    "    time.sleep(10)\n"
   ]
  },
  {
   "cell_type": "markdown",
   "metadata": {},
   "source": [
    "-------------- SOME TEST LINES --------------------------"
   ]
  },
  {
   "cell_type": "code",
   "execution_count": 6,
   "metadata": {},
   "outputs": [],
   "source": [
    "d=datetime.datetime(2017,9,1,0,0).isoformat()+'Z'\n",
    "d2=datetime.datetime(2017,12,31,0,0).isoformat()+'Z'\n",
    "channelList=channel_date_keyword('minecraft','',d,d2)"
   ]
  },
  {
   "cell_type": "code",
   "execution_count": 10,
   "metadata": {},
   "outputs": [
    {
     "name": "stdout",
     "output_type": "stream",
     "text": [
      "not empty\n"
     ]
    }
   ],
   "source": [
    "if (channelList.get(\"items\",[])==[]):\n",
    "    print ('not empty')"
   ]
  },
  {
   "cell_type": "code",
   "execution_count": 61,
   "metadata": {
    "collapsed": true
   },
   "outputs": [],
   "source": [
    "for channel in channelList.get(\"items\", []):\n",
    "    channelData=channel_by_id(channel[\"id\"][\"channelId\"])\n",
    "    print (\"pp\")"
   ]
  },
  {
   "cell_type": "code",
   "execution_count": 11,
   "metadata": {},
   "outputs": [
    {
     "name": "stdout",
     "output_type": "stream",
     "text": [
      "600\n"
     ]
    }
   ],
   "source": [
    "def test(quota):\n",
    "    myQuota=quota\n",
    "    myQuota+=100\n",
    "    return (myQuota)\n",
    "q=test(500)\n",
    "print (q)"
   ]
  },
  {
   "cell_type": "markdown",
   "metadata": {},
   "source": [
    "-------------------- END TEST LINES -----------------------"
   ]
  }
 ],
 "metadata": {
  "kernelspec": {
   "display_name": "Python 3",
   "language": "python",
   "name": "python3"
  },
  "language_info": {
   "codemirror_mode": {
    "name": "ipython",
    "version": 3
   },
   "file_extension": ".py",
   "mimetype": "text/x-python",
   "name": "python",
   "nbconvert_exporter": "python",
   "pygments_lexer": "ipython3",
   "version": "3.4.3"
  }
 },
 "nbformat": 4,
 "nbformat_minor": 2
}
