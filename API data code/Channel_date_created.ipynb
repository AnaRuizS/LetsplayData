{
 "cells": [
  {
   "cell_type": "code",
   "execution_count": 2,
   "metadata": {
    "collapsed": true
   },
   "outputs": [],
   "source": [
    "import os\n",
    "import datetime as datetime\n",
    "import pytz\n",
    "import pandas as pd\n",
    "import csv\n",
    "import json\n",
    "import time\n",
    "\n",
    "from retrying import retry\n",
    "from retrying import RetryError\n",
    "from apiclient.discovery import build\n",
    "from apiclient.errors import HttpError\n",
    "from oauth2client.tools import argparser\n",
    "\n",
    "DEVELOPER_KEY= os.environ.get('API_CODE')\n",
    "YOUTUBE_API_SERVICE_NAME = \"youtube\"\n",
    "YOUTUBE_API_VERSION = \"v3\"\n",
    "service= build(YOUTUBE_API_SERVICE_NAME, YOUTUBE_API_VERSION, developerKey=DEVELOPER_KEY)"
   ]
  },
  {
   "cell_type": "code",
   "execution_count": 8,
   "metadata": {
    "collapsed": true
   },
   "outputs": [],
   "source": [
    "def channel_date_keyword(searchKey,pageToken,dt,dt2):\n",
    "    search_list=service.search().list(\n",
    "        q=searchKey,\n",
    "        part=\"id,snippet\",\n",
    "        maxResults=50,\n",
    "        order=\"relevance\",\n",
    "        type=\"channel\",\n",
    "        publishedAfter=dt,\n",
    "        publishedBefore=dt2,\n",
    "        pageToken=pageToken\n",
    "    ).execute()\n",
    "    \n",
    "    return search_list"
   ]
  },
  {
   "cell_type": "code",
   "execution_count": 9,
   "metadata": {
    "collapsed": true
   },
   "outputs": [],
   "source": [
    "def is_503_error(exception):\n",
    "    is503=False\n",
    "    if (isinstance(exception, HttpError)):\n",
    "        if (exception.resp.status==503):\n",
    "            is503=True\n",
    "    return (is503)"
   ]
  },
  {
   "cell_type": "code",
   "execution_count": 10,
   "metadata": {
    "collapsed": true
   },
   "outputs": [],
   "source": [
    "@retry(stop_max_attempt_number=7,retry_on_exception=is_503_error, \n",
    "       wrap_exception=True,wait_random_min=1000, wait_random_max=2000)\n",
    "def channel_by_id(search_id):\n",
    "    channels=service.channels().list(\n",
    "        id=search_id,\n",
    "        part=\"id, snippet, brandingSettings, contentDetails, invideoPromotion, statistics, topicDetails\",\n",
    "        maxResults=50\n",
    "    ).execute()\n",
    "    return channels"
   ]
  },
  {
   "cell_type": "code",
   "execution_count": 11,
   "metadata": {
    "collapsed": true
   },
   "outputs": [],
   "source": [
    "# get basic channel list with ids (years defined)\n",
    "def get_channel_list(year,yearParts,day,searchKey,fileName,fileName2,prevQuota):\n",
    "    newQuota=prevQuota\n",
    "    \n",
    "    for x in range (1,yearParts+1):\n",
    "        pageToken=\"\"\n",
    "        d=datetime.datetime(year,int(1+(12/yearParts)*(x-1)),1,0,0).isoformat()+'Z'\n",
    "        d2=datetime.datetime(year,int((12/yearParts)*x),day[x-1],0,0).isoformat()+'Z'\n",
    "       \n",
    "        while((pageToken!='CLYHEAA')&(pageToken!='error')):\n",
    "            channelList=channel_date_keyword(searchKey,pageToken,d,d2)\n",
    "            newQuota+=100\n",
    "            \n",
    "            #save list and channels if list is not empty\n",
    "            if (channelList.get(\"items\",[])!=[]):\n",
    "                \n",
    "                #save json dict Channel List 50 items\n",
    "                with open(fileName,'a')as fp1:\n",
    "                    out1=json.dumps(channelList)\n",
    "                    fp1.write(out1 + '\\n')\n",
    "            \n",
    "                #save the data about the channels in the list\n",
    "                for channel in channelList.get(\"items\", []):\n",
    "                    try:\n",
    "                        channelData=channel_by_id(channel[\"id\"][\"channelId\"])\n",
    "                    except RetryError as e:\n",
    "                        with open(searchKey+\"_errors.txt\", 'a') as f:\n",
    "                            f.write(\"max unsuccessful attempts reached\"+\" id:\"+channel[\"id\"][\"channelId\"]+'\\n')\n",
    "                        continue\n",
    "                    newQuota+=15\n",
    "                    with open(fileName2,'a')as fp2:\n",
    "                        out2=json.dumps(channelData)\n",
    "                        fp2.write(out2 + '\\n')\n",
    "                    time.sleep(1)\n",
    "            \n",
    "            try:\n",
    "                pageToken=channelList['nextPageToken']\n",
    "            except KeyError as e:\n",
    "                pageToken='error'\n",
    "            time.sleep(1)\n",
    "            \n",
    "        time.sleep(1)\n",
    "        \n",
    "    return newQuota\n"
   ]
  },
  {
   "cell_type": "code",
   "execution_count": null,
   "metadata": {},
   "outputs": [
    {
     "name": "stdout",
     "output_type": "stream",
     "text": [
      "25965\n",
      "max unsuccessful attempts reached id:UC_YKw_NbRIrF_dHoQ_p8Phg\n",
      "max unsuccessful attempts reached id:UCeaEfGFzvguYyHWObwNifUA\n",
      "55035\n",
      "80955\n",
      "max unsuccessful attempts reached id:UC-CqnZSHD5UUfOQypw6kvzA\n",
      "106425\n",
      "131940\n",
      "161670\n",
      "max unsuccessful attempts reached id:UCPJb-LafXEyc_i3pV4C4nMQ\n",
      "187410\n",
      "213375\n",
      "max unsuccessful attempts reached id:UCqsD102F-Vh2OxWM7Xw44Sw\n",
      "239190\n",
      "266550\n"
     ]
    }
   ],
   "source": [
    "# get trimestral info for 10 years of channels related to search keys\n",
    "yearParts=3\n",
    "day=[30,31,31]\n",
    "#searchKeys=[\"minecraft\",\"roblox\",\"call of duty\",\"overwatch\"]\n",
    "#fileNames=['minecraft_ch_list.json','roblox_ch_list.json','callOD_ch_list.json','overwatch_ch_list.json']\n",
    "#fileNames2=['minecraft_ch_data.json','roblox_ch_data.json','callOD_ch_data.json','overwatch_ch_data.json']\n",
    "searchKeys=[\"grand theft auto\",\"league of legends\",\"Happy wheels\",\"five nights at freddy's\",\"agar.io\", \"pokemon go\"]\n",
    "fileNames=['gta_list.json','LOL_list.json','happyW_list.json','fivenaf_list.json','agario_list.json','pkgo_list.json']\n",
    "fileNames2=['gta_data.json','LOL_data.json','happyW_data.json','fivenaf_data.json','agario_data.json','pkgo_data.json']\n",
    "prevQuota=0\n",
    "\n",
    "for i in range (0,len(fileNames)):\n",
    "    for year in range (2007,2018):\n",
    "        quota=get_channel_list(year,yearParts,day,searchKeys[i],fileNames[i],fileNames2[i],prevQuota)\n",
    "        prevQuota=quota\n",
    "        time.sleep(10)"
   ]
  },
  {
   "cell_type": "code",
   "execution_count": null,
   "metadata": {
    "collapsed": true
   },
   "outputs": [],
   "source": [
    "# COPY 1\n",
    "\n",
    "# get trimestral info for 10 years of channels related to search keys\n",
    "#year=2007\n",
    "yearParts=3\n",
    "day=[30,31,31]\n",
    "#searchKeys=[\"minecraft\",\"roblox\",\"call of duty\",\"overwatch\"]\n",
    "#fileNames=['minecraft_ch_list.json','roblox_ch_list.json','callOD_ch_list.json','overwatch_ch_list.json']\n",
    "#fileNames2=['minecraft_ch_data.json','roblox_ch_data.json','callOD_ch_data.json','overwatch_ch_data.json']\n",
    "searchKeys=[\"grand theft auto\",\"league of legends\",\"Happy wheels\",\"five nights at freddy's\",\"agar.io\", \"pokemon go\"]\n",
    "fileNames=['gta_list.json','LOL_list.json','happyW_list.json','fivenaf_list.json','agario_list.json','pkgo_list.json']\n",
    "fileNames2=['gta_data.json','LOL_data.json','happyW_data.json','fivenaf_data.json','agario_data.json','pkgo_data.json']\n",
    "prevQuota=0\n",
    "\n",
    "with open('name.txt', 'w') as f:\n",
    "    for i in range (3,len(fileNames)):\n",
    "        for year in range (2007,2018):\n",
    "            f.write(str(i)+'\\n')\n",
    "            f.write(str(year)+'\\n')\n",
    "            quota=get_channel_list(year,yearParts,day,searchKeys[i],fileNames[i],fileNames2[i],prevQuota)\n",
    "            prevQuota=quota\n",
    "            time.sleep(10)"
   ]
  },
  {
   "cell_type": "code",
   "execution_count": 12,
   "metadata": {},
   "outputs": [
    {
     "ename": "TypeError",
     "evalue": "must be str, not int",
     "output_type": "error",
     "traceback": [
      "\u001b[0;31m---------------------------------------------------------------------------\u001b[0m",
      "\u001b[0;31mTypeError\u001b[0m                                 Traceback (most recent call last)",
      "\u001b[0;32m<ipython-input-12-d41785d75021>\u001b[0m in \u001b[0;36m<module>\u001b[0;34m()\u001b[0m\n\u001b[1;32m     21\u001b[0m     \u001b[0;32mfor\u001b[0m \u001b[0mi\u001b[0m \u001b[0;32min\u001b[0m \u001b[0mrange\u001b[0m \u001b[0;34m(\u001b[0m\u001b[0;36m3\u001b[0m\u001b[0;34m,\u001b[0m\u001b[0mlen\u001b[0m\u001b[0;34m(\u001b[0m\u001b[0mfileNames\u001b[0m\u001b[0;34m)\u001b[0m\u001b[0;34m)\u001b[0m\u001b[0;34m:\u001b[0m\u001b[0;34m\u001b[0m\u001b[0m\n\u001b[1;32m     22\u001b[0m         \u001b[0;32mfor\u001b[0m \u001b[0myear\u001b[0m \u001b[0;32min\u001b[0m \u001b[0mrange\u001b[0m \u001b[0;34m(\u001b[0m\u001b[0;36m2007\u001b[0m\u001b[0;34m,\u001b[0m\u001b[0;36m2018\u001b[0m\u001b[0;34m)\u001b[0m\u001b[0;34m:\u001b[0m\u001b[0;34m\u001b[0m\u001b[0m\n\u001b[0;32m---> 23\u001b[0;31m             \u001b[0mf\u001b[0m\u001b[0;34m.\u001b[0m\u001b[0mwrite\u001b[0m\u001b[0;34m(\u001b[0m\u001b[0mi\u001b[0m\u001b[0;34m)\u001b[0m \u001b[0;31m# 3\u001b[0m\u001b[0;34m\u001b[0m\u001b[0m\n\u001b[0m\u001b[1;32m     24\u001b[0m             \u001b[0mf\u001b[0m\u001b[0;34m.\u001b[0m\u001b[0mwrite\u001b[0m\u001b[0;34m(\u001b[0m\u001b[0myear\u001b[0m\u001b[0;34m)\u001b[0m \u001b[0;31m# 2010\u001b[0m\u001b[0;34m\u001b[0m\u001b[0m\n\u001b[1;32m     25\u001b[0m             \u001b[0mquota\u001b[0m\u001b[0;34m=\u001b[0m\u001b[0mget_channel_list\u001b[0m\u001b[0;34m(\u001b[0m\u001b[0myear\u001b[0m\u001b[0;34m,\u001b[0m\u001b[0myearParts\u001b[0m\u001b[0;34m,\u001b[0m\u001b[0mday\u001b[0m\u001b[0;34m,\u001b[0m\u001b[0msearchKeys\u001b[0m\u001b[0;34m[\u001b[0m\u001b[0mi\u001b[0m\u001b[0;34m]\u001b[0m\u001b[0;34m,\u001b[0m\u001b[0mfileNames\u001b[0m\u001b[0;34m[\u001b[0m\u001b[0mi\u001b[0m\u001b[0;34m]\u001b[0m\u001b[0;34m,\u001b[0m\u001b[0mfileNames2\u001b[0m\u001b[0;34m[\u001b[0m\u001b[0mi\u001b[0m\u001b[0;34m]\u001b[0m\u001b[0;34m,\u001b[0m\u001b[0mprevQuota\u001b[0m\u001b[0;34m)\u001b[0m\u001b[0;34m\u001b[0m\u001b[0m\n",
      "\u001b[0;31mTypeError\u001b[0m: must be str, not int"
     ]
    }
   ],
   "source": [
    "# COPY 2\n",
    "\n",
    "# get trimestral info for 10 years of channels related to search keys\n",
    "#year=2007\n",
    "yearParts=3\n",
    "day=[30,31,31]\n",
    "#searchKeys=[\"minecraft\",\"roblox\",\"call of duty\",\"overwatch\"]\n",
    "#fileNames=['minecraft_ch_list.json','roblox_ch_list.json','callOD_ch_list.json','overwatch_ch_list.json']\n",
    "#fileNames2=['minecraft_ch_data.json','roblox_ch_data.json','callOD_ch_data.json','overwatch_ch_data.json']\n",
    "searchKeys=[\"grand theft auto\",\"league of legends\",\"Happy wheels\",\"five nights at freddy's\",\"agar.io\", \"pokemon go\"]\n",
    "fileNames=['gta_list.json','LOL_list.json','happyW_list.json','fivenaf_list.json','agario_list.json','pkgo_list.json']\n",
    "fileNames2=['gta_data.json','LOL_data.json','happyW_data.json','fivenaf_data.json','agario_data.json','pkgo_data.json']\n",
    "prevQuota=510\n",
    "\n",
    "for year in range (2007,2018):\n",
    "    quota=get_channel_list(year,yearParts,day,searchKeys[2],fileNames[2],fileNames2[2],prevQuota)\n",
    "    prevQuota=quota\n",
    "    time.sleep(10)\n",
    "\n",
    "with open('name.txt', 'w') as f:\n",
    "    for i in range (3,len(fileNames)):\n",
    "        for year in range (2007,2018):\n",
    "            f.write(str(i)+'\\n') # 3\n",
    "            f.write(str(year)+'\\n') # 2010\n",
    "            quota=get_channel_list(year,yearParts,day,searchKeys[i],fileNames[i],fileNames2[i],prevQuota)\n",
    "            prevQuota=quota\n",
    "            time.sleep(10)"
   ]
  },
  {
   "cell_type": "code",
   "execution_count": null,
   "metadata": {
    "collapsed": true
   },
   "outputs": [],
   "source": []
  },
  {
   "cell_type": "markdown",
   "metadata": {},
   "source": [
    "-------------- SOME TEST LINES --------------------------"
   ]
  },
  {
   "cell_type": "code",
   "execution_count": 6,
   "metadata": {
    "collapsed": true
   },
   "outputs": [],
   "source": [
    "d=datetime.datetime(2017,9,1,0,0).isoformat()+'Z'\n",
    "d2=datetime.datetime(2017,12,31,0,0).isoformat()+'Z'\n",
    "channelList=channel_date_keyword('minecraft','',d,d2)"
   ]
  },
  {
   "cell_type": "code",
   "execution_count": 10,
   "metadata": {},
   "outputs": [
    {
     "name": "stdout",
     "output_type": "stream",
     "text": [
      "not empty\n"
     ]
    }
   ],
   "source": [
    "if (channelList.get(\"items\",[])==[]):\n",
    "    print ('not empty')"
   ]
  },
  {
   "cell_type": "code",
   "execution_count": 61,
   "metadata": {
    "collapsed": true
   },
   "outputs": [],
   "source": [
    "for channel in channelList.get(\"items\", []):\n",
    "    channelData=channel_by_id(channel[\"id\"][\"channelId\"])\n",
    "    print (\"pp\")"
   ]
  },
  {
   "cell_type": "code",
   "execution_count": 11,
   "metadata": {
    "collapsed": true
   },
   "outputs": [],
   "source": [
    "searchKey=\"minecraft\"\n",
    "i=9\n",
    "year=2000\n",
    "with open(searchKey+'_errors.txt', 'a') as f:\n",
    "    f.write(str(i)+'\\n')\n",
    "    f.write(\"attempts\")"
   ]
  },
  {
   "cell_type": "markdown",
   "metadata": {},
   "source": [
    "------------MINECRAFT 10 YEARS------------------\n",
    "24510\n",
    "max unsuccessful attempts reached id:UCL1tBPx1F9AR70_o_8Os69g\n",
    "max unsuccessful attempts reached id:UC3mqPSF_ER-JQBrJ1AeZBiQ\n",
    "53085\n",
    "79185\n",
    "103905\n",
    "128790\n",
    "158010\n",
    "max unsuccessful attempts reached id:UCXG90a9uCLYrQ8P4KzcgvLA\n",
    "184320\n",
    "max unsuccessful attempts reached id:UCzI_WNuSqv7MpG3Fc5c8_Sw\n",
    "210510\n",
    "236505\n",
    "265305"
   ]
  },
  {
   "cell_type": "markdown",
   "metadata": {},
   "source": [
    "23970\n",
    "50520\n",
    "74880\n",
    "99045\n",
    "124365\n",
    "max unsuccessful attempts reached id:UCiTotY7g2PnOSqkUAdkqrmg\n",
    "154620\n",
    "181605\n",
    "208680\n",
    "235410"
   ]
  },
  {
   "cell_type": "markdown",
   "metadata": {},
   "source": [
    "-----call of duty 10 years--------------\n",
    "25350\n",
    "max unsuccessful attempts reached id:UCY6f5qHCaoQDaPtnAViiORQ\n",
    "54090\n",
    "max unsuccessful attempts reached id:UCSiheoc_gFYfqw_MNFavj5g\n",
    "80445\n",
    "max unsuccessful attempts reached id:UCezm-lopPPR6OFiDwgKzDkw\n",
    "106380\n",
    "132030\n",
    "161415\n",
    "187890\n",
    "214950\n",
    "max unsuccessful attempts reached id:UCa53gqLx3zxaAITSF0bgmkQ\n",
    "241785\n",
    "271095\n",
    "max unsuccessful attempts reached id:UCafH9QUMrjWaJh2ip1EVBqA"
   ]
  },
  {
   "cell_type": "markdown",
   "metadata": {},
   "source": [
    "------ overwatch 10 years --------------------\n",
    "25965\n",
    "max unsuccessful attempts reached id:UC_YKw_NbRIrF_dHoQ_p8Phg\n",
    "max unsuccessful attempts reached id:UCeaEfGFzvguYyHWObwNifUA\n",
    "55035\n",
    "80955\n",
    "max unsuccessful attempts reached id:UC-CqnZSHD5UUfOQypw6kvzA\n",
    "106425\n",
    "131940\n",
    "161670\n",
    "max unsuccessful attempts reached id:UCPJb-LafXEyc_i3pV4C4nMQ\n",
    "187410\n",
    "213375\n",
    "max unsuccessful attempts reached id:UCqsD102F-Vh2OxWM7Xw44Sw\n",
    "239190\n",
    "266550"
   ]
  },
  {
   "cell_type": "code",
   "execution_count": 14,
   "metadata": {},
   "outputs": [
    {
     "ename": "SyntaxError",
     "evalue": "invalid syntax (<ipython-input-14-715de264172a>, line 2)",
     "output_type": "error",
     "traceback": [
      "\u001b[0;36m  File \u001b[0;32m\"<ipython-input-14-715de264172a>\"\u001b[0;36m, line \u001b[0;32m2\u001b[0m\n\u001b[0;31m    json_dict= json.loads(line) for line in handle\u001b[0m\n\u001b[0m                                  ^\u001b[0m\n\u001b[0;31mSyntaxError\u001b[0m\u001b[0;31m:\u001b[0m invalid syntax\n"
     ]
    }
   ],
   "source": [
    "with open ('minecraft_ch_data.json','r')as handle:\n",
    "    json_dict= json.loads(line) for line in handle\n",
    "    for channel in json_dict.get(\"items\", []):\n",
    "        print(channel[\"id\"][\"channelId\"])"
   ]
  },
  {
   "cell_type": "code",
   "execution_count": 6,
   "metadata": {},
   "outputs": [
    {
     "ename": "KeyboardInterrupt",
     "evalue": "",
     "output_type": "error",
     "traceback": [
      "\u001b[0;31m---------------------------------------------------------------------------\u001b[0m",
      "\u001b[0;31mKeyboardInterrupt\u001b[0m                         Traceback (most recent call last)",
      "\u001b[0;32m<ipython-input-6-f86f268af24c>\u001b[0m in \u001b[0;36m<module>\u001b[0;34m()\u001b[0m\n\u001b[1;32m      1\u001b[0m \u001b[0;32mwhile\u001b[0m \u001b[0;34m(\u001b[0m\u001b[0;34m(\u001b[0m\u001b[0mpageToken\u001b[0m\u001b[0;34m!=\u001b[0m\u001b[0;34m'5'\u001b[0m\u001b[0;34m)\u001b[0m\u001b[0;34m|\u001b[0m\u001b[0;34m(\u001b[0m\u001b[0mpageToken\u001b[0m\u001b[0;34m!=\u001b[0m\u001b[0;34m'6'\u001b[0m\u001b[0;34m)\u001b[0m\u001b[0;34m)\u001b[0m\u001b[0;34m:\u001b[0m\u001b[0;34m\u001b[0m\u001b[0m\n\u001b[0;32m----> 2\u001b[0;31m     \u001b[0mp\u001b[0m\u001b[0;34m=\u001b[0m\u001b[0;36m1\u001b[0m\u001b[0;34m\u001b[0m\u001b[0m\n\u001b[0m\u001b[1;32m      3\u001b[0m     \u001b[0mpageToken\u001b[0m\u001b[0;34m=\u001b[0m\u001b[0;34m'6'\u001b[0m\u001b[0;34m\u001b[0m\u001b[0m\n\u001b[1;32m      4\u001b[0m \u001b[0mp\u001b[0m\u001b[0;34m\u001b[0m\u001b[0m\n",
      "\u001b[0;31mKeyboardInterrupt\u001b[0m: "
     ]
    }
   ],
   "source": [
    "while ((pageToken!='5')&(pageToken!='6')):\n",
    "    p=1\n",
    "    pageToken='6'\n"
   ]
  },
  {
   "cell_type": "code",
   "execution_count": 4,
   "metadata": {},
   "outputs": [
    {
     "data": {
      "text/plain": [
       "'2017-09-01T00:00:00Z'"
      ]
     },
     "execution_count": 4,
     "metadata": {},
     "output_type": "execute_result"
    }
   ],
   "source": [
    "d=datetime.datetime(2017,9,1,0,0).isoformat()+'Z'\n",
    "d"
   ]
  },
  {
   "cell_type": "markdown",
   "metadata": {},
   "source": [
    "-------------------- END TEST LINES -----------------------"
   ]
  }
 ],
 "metadata": {
  "kernelspec": {
   "display_name": "Python 3",
   "language": "python",
   "name": "python3"
  },
  "language_info": {
   "codemirror_mode": {
    "name": "ipython",
    "version": 3
   },
   "file_extension": ".py",
   "mimetype": "text/x-python",
   "name": "python",
   "nbconvert_exporter": "python",
   "pygments_lexer": "ipython3",
   "version": "3.4.3"
  }
 },
 "nbformat": 4,
 "nbformat_minor": 2
}
