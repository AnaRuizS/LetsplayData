{
 "cells": [
  {
   "cell_type": "code",
   "execution_count": 33,
   "metadata": {},
   "outputs": [
    {
     "name": "stdout",
     "output_type": "stream",
     "text": [
      "Hello notebook\n"
     ]
    }
   ],
   "source": [
    "print(\"Hello notebook\")"
   ]
  },
  {
   "cell_type": "code",
   "execution_count": 32,
   "metadata": {},
   "outputs": [
    {
     "name": "stdout",
     "output_type": "stream",
     "text": [
      "Edicion remota\n"
     ]
    }
   ],
   "source": [
    "print(\"Edicion remota\")"
   ]
  },
  {
   "cell_type": "code",
   "execution_count": 55,
   "metadata": {},
   "outputs": [],
   "source": [
    "import sample1"
   ]
  },
  {
   "cell_type": "code",
   "execution_count": 56,
   "metadata": {},
   "outputs": [
    {
     "name": "stdout",
     "output_type": "stream",
     "text": [
      "Channels:\n",
      " PopularMMOs (UCpGdL9Sn3Q5YWUH2DVUW1Ug)\n",
      "Minecraft - Topic (UCQvWX73GQygcwXOTSf_VDVg)\n",
      "Little Kelly Minecraft (UCWbHJTyhqEHoyfgZWwI6v1A)\n",
      "stampylonghead (UCj5i58mCkAREDqFWlhaQbOw)\n",
      "DanTDM (UCS5Oz6CHmeoF7vSad0qqXfw)\n",
      "PrestonPlayz - Minecraft (UC70Dib4MvFfT1tU6MqeyHpQ)\n",
      "SSundee (UCke6I9N4KfC968-yRcd5YRg)\n",
      "LittleLizardGaming - Minecraft Mods! (UC5QA3ePozxshgdIbYafT_fA)\n",
      "ElRichMC - Minecraft & Gaming a otro nivel (UCvnNkJsbONVhdXuHY_LpsdA)\n",
      "PanBurza Minecraft (UCVroDePxtPC0a0ayVGBMa7A)\n",
      "UnspeakableGaming (UCKYb5XBe-5OSEgLijLSoDtw)\n",
      "Minecraft Mike (UC1DChHMi-mwzrcajcx26uJA)\n",
      "Paluten (UCOzqhzAIw4JTJIMkDTfLnkg)\n",
      "TheAtlanticCraft | Minecraft (UC4f1zAG2BTkfOQV4_nFbpBQ)\n",
      "Aphmau (UCzYfz8uibvnB7Yc1LjePi4g)\n",
      "BdoubleO100 (UClu2e7S8atp6tG2galK9hgg)\n",
      "Bboymoreno92 - Minecraft troll trampas (UCc7DOB_aGhx-ahRzdJZWBdQ)\n",
      "Programando Minecraft (UChYT6FdutfalWR5ZIdppysg)\n",
      "Minecraft Pe Modları (UCzM5zo4_ce-71TDaPNhr4cQ)\n",
      "Cortos de Minecraft! (UCtFK__D1t1W1Rr_WQDi2RyQ)\n",
      "Apixelados - Minecraft troll (UC7ClFb9pmZevL94lCXOg_dg)\n",
      "Pan-Minecraft (UCtkqWw2hxO0dieKA1mG8KPA)\n",
      "Sky Does Minecraft (UCKlhpmbHGxBE6uw9B_uLeqQ)\n",
      "MC Songs by MC Jams (UCvD0DBYf-gY2dWarc4NEL9Q)\n",
      "GamingWithJen (UC_ItCy-BTDCULPpDPlieUKA) \n",
      "\n"
     ]
    }
   ],
   "source": [
    "sample1.channels_by_keyword(\"minecraft\",25)"
   ]
  },
  {
   "cell_type": "code",
   "execution_count": null,
   "metadata": {},
   "outputs": [],
   "source": []
  },
  {
   "cell_type": "code",
   "execution_count": null,
   "metadata": {},
   "outputs": [],
   "source": []
  },
  {
   "cell_type": "code",
   "execution_count": null,
   "metadata": {},
   "outputs": [],
   "source": []
  },
  {
   "cell_type": "code",
   "execution_count": null,
   "metadata": {
    "collapsed": true
   },
   "outputs": [],
   "source": []
  }
 ],
 "metadata": {
  "kernelspec": {
   "display_name": "Python 3",
   "language": "python",
   "name": "python3"
  },
  "language_info": {
   "codemirror_mode": {
    "name": "ipython",
    "version": 3
   },
   "file_extension": ".py",
   "mimetype": "text/x-python",
   "name": "python",
   "nbconvert_exporter": "python",
   "pygments_lexer": "ipython3",
   "version": "3.4.3"
  }
 },
 "nbformat": 4,
 "nbformat_minor": 2
}
